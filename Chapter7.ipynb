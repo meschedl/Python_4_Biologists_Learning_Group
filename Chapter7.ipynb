{
 "cells": [
  {
   "cell_type": "markdown",
   "id": "0ed5584b-e876-47d3-b055-88898cd01576",
   "metadata": {},
   "source": [
    "Chapter 7 follow along with book: Regular Expressions"
   ]
  },
  {
   "cell_type": "code",
   "execution_count": null,
   "id": "8ea6974f-9171-4662-bcb7-1801f9cdfe11",
   "metadata": {},
   "outputs": [],
   "source": [
    "# need to import the regular expression module to use them "
   ]
  },
  {
   "cell_type": "code",
   "execution_count": 1,
   "id": "165a9bbe-a04a-428b-b29f-9b2aeb2b2dd8",
   "metadata": {},
   "outputs": [],
   "source": [
    "import re"
   ]
  },
  {
   "cell_type": "code",
   "execution_count": null,
   "id": "9ac5bd64-b8f7-48a5-97c3-7399143bc570",
   "metadata": {},
   "outputs": [],
   "source": [
    "# need to use the module name in front of the function from the module "
   ]
  },
  {
   "cell_type": "code",
   "execution_count": 2,
   "id": "469e8ea3-d584-4929-aa0e-689bbdcafa13",
   "metadata": {},
   "outputs": [
    {
     "ename": "NameError",
     "evalue": "name 'pattern' is not defined",
     "output_type": "error",
     "traceback": [
      "\u001b[0;31m---------------------------------------------------------------------------\u001b[0m",
      "\u001b[0;31mNameError\u001b[0m                                 Traceback (most recent call last)",
      "Input \u001b[0;32mIn [2]\u001b[0m, in \u001b[0;36m<cell line: 1>\u001b[0;34m()\u001b[0m\n\u001b[0;32m----> 1\u001b[0m re\u001b[38;5;241m.\u001b[39msearch(\u001b[43mpattern\u001b[49m, string)\n",
      "\u001b[0;31mNameError\u001b[0m: name 'pattern' is not defined"
     ]
    }
   ],
   "source": [
    "re.search(pattern, string)"
   ]
  },
  {
   "cell_type": "code",
   "execution_count": null,
   "id": "c34dc237-dbd5-48d4-bbed-8ef814129102",
   "metadata": {},
   "outputs": [],
   "source": [
    "# The r stands for raw, which is Python's description for a string where special characters are ignored.\n",
    "# for use when the regular expression character has some other meaning"
   ]
  },
  {
   "cell_type": "code",
   "execution_count": 3,
   "id": "92a59db3-27af-45b9-b807-447e1a273791",
   "metadata": {},
   "outputs": [
    {
     "name": "stdout",
     "output_type": "stream",
     "text": [
      "\\t\\n\n"
     ]
    }
   ],
   "source": [
    "print(r\"\\t\\n\")"
   ]
  },
  {
   "cell_type": "code",
   "execution_count": 4,
   "id": "8a929feb-0ae9-4ef3-8cc5-e25aa468ebb8",
   "metadata": {},
   "outputs": [
    {
     "name": "stdout",
     "output_type": "stream",
     "text": [
      "restriction site found!\n"
     ]
    }
   ],
   "source": [
    "dna = \"ATCGCGAATTCAC\"\n",
    "if re.search(r\"GAATTC\", dna):\n",
    "    print(\"restriction site found!\")"
   ]
  },
  {
   "cell_type": "code",
   "execution_count": null,
   "id": "06a793e1-12f0-4dc8-80aa-d993e065feea",
   "metadata": {},
   "outputs": [],
   "source": [
    "# re.search is a true/false function that determines whether or not a pattern appears somewhere in a string. \n",
    "# It takes two arguments, both strings. The first argument is the pattern that you want to search for, \n",
    "#and the second argument is the string that you want to search in"
   ]
  },
  {
   "cell_type": "code",
   "execution_count": null,
   "id": "7c807f22-a4fe-432f-b0f5-f25d8731a488",
   "metadata": {},
   "outputs": [],
   "source": [
    "# search for a specific restriction site"
   ]
  },
  {
   "cell_type": "code",
   "execution_count": 7,
   "id": "a26a59f6-1535-4ae8-b2df-eea8b056da4e",
   "metadata": {},
   "outputs": [],
   "source": [
    "dna = \"ATCGCGAATTCAC\"\n",
    "if re.search(r\"GGACC\", dna) or re.search(r\"GGTCC\", dna):\n",
    "    print(\"restriction site found!\")"
   ]
  },
  {
   "cell_type": "code",
   "execution_count": null,
   "id": "8997589c-564a-4373-9d77-f066f607a7f5",
   "metadata": {},
   "outputs": [],
   "source": [
    "# do this with a regular expression \n",
    "# so (A|T) means either A or T\n",
    "# this is alternation"
   ]
  },
  {
   "cell_type": "code",
   "execution_count": 8,
   "id": "30786206-b7cf-413c-8b58-3029f234a9ca",
   "metadata": {},
   "outputs": [],
   "source": [
    "dna = \"ATCGCGAATTCAC\"\n",
    "if re.search(r\"GG(A|T)CC\", dna):\n",
    "    print(\"restriction site found!\")"
   ]
  },
  {
   "cell_type": "code",
   "execution_count": null,
   "id": "72e483fd-e07f-4caa-bf71-8fcd5d4fe692",
   "metadata": {},
   "outputs": [],
   "source": [
    "# search for GCNGC motif "
   ]
  },
  {
   "cell_type": "code",
   "execution_count": 9,
   "id": "a20f663d-6ca7-4b52-8750-f4cd2ca02820",
   "metadata": {},
   "outputs": [],
   "source": [
    "dna = \"ATCGCGAATTCAC\"\n",
    "if re.search(r\"GC(A|T|G|C)GC\", dna):\n",
    "    print(\"restriction site found!\")"
   ]
  },
  {
   "cell_type": "code",
   "execution_count": null,
   "id": "6c4fe5d7-5c70-4789-bd74-10b6c0276c07",
   "metadata": {},
   "outputs": [],
   "source": [
    "# or A pair of square brackets with a list of characters inside them can \n",
    "# represent any one of these characters"
   ]
  },
  {
   "cell_type": "code",
   "execution_count": 10,
   "id": "3cf0f554-7f7a-4c2e-9d13-f44337c581d2",
   "metadata": {},
   "outputs": [],
   "source": [
    "dna = \"ATCGCGAATTCAC\"\n",
    "if re.search(r\"GC[ATGC]GC\", dna):\n",
    "    print(\"restriction site found!\")"
   ]
  },
  {
   "cell_type": "code",
   "execution_count": null,
   "id": "2921a483-e49b-499f-8be1-7d66d9f8e37f",
   "metadata": {},
   "outputs": [],
   "source": [
    "# a period . can be ANY character"
   ]
  },
  {
   "cell_type": "code",
   "execution_count": null,
   "id": "5c7e60ad-5743-49f7-8849-c62322d90f35",
   "metadata": {},
   "outputs": [],
   "source": [
    "# Putting a caret ^ at the start of a character group like this [^XYZ] will negate it, \n",
    "# and match any character that isn't in the group"
   ]
  },
  {
   "cell_type": "code",
   "execution_count": null,
   "id": "5165d983-aab9-47d4-b5e6-2405011b749b",
   "metadata": {},
   "outputs": [],
   "source": [
    "# quantifiers let us describe variation in the number of times a section of a pattern is repeated"
   ]
  },
  {
   "cell_type": "code",
   "execution_count": null,
   "id": "5ae99c56-e87c-47cc-b0c2-9cf8ebd8b7a6",
   "metadata": {},
   "outputs": [],
   "source": [
    "# A question mark immediately following a character means that that character is optional \n",
    "# – it can match either zero or one times\n",
    "# if we want to apply a question mark to more than one character, we can group the characters in parentheses"
   ]
  },
  {
   "cell_type": "code",
   "execution_count": null,
   "id": "a9f51eca-428f-4733-b11b-b370ca211c76",
   "metadata": {},
   "outputs": [],
   "source": [
    "# A plus sign immediately following a character or group means that the character or group must be present \n",
    "# but can be repeated any number of times "
   ]
  },
  {
   "cell_type": "code",
   "execution_count": null,
   "id": "ed14e226-e50f-4ce9-a120-64d810bb1788",
   "metadata": {},
   "outputs": [],
   "source": [
    "# An asterisk immediately following a character or group means that the character or group is optional, \n",
    "# but can also be repeated"
   ]
  },
  {
   "cell_type": "code",
   "execution_count": null,
   "id": "8030e0dd-8950-4b1a-8f88-94539431c274",
   "metadata": {},
   "outputs": [],
   "source": [
    "# Following a character or group with a single number inside curly brackets \n",
    "# will match exactly that number of repeats\n",
    "# Following a character or group with a pair of numbers inside curly brackets separated with a comma \n",
    "# allows us to specify an acceptable range of number of repeats"
   ]
  },
  {
   "cell_type": "code",
   "execution_count": null,
   "id": "3213202f-6a37-4e1c-9ba6-0d9ddf56364f",
   "metadata": {},
   "outputs": [],
   "source": [
    "# the caret symbol ^ matches the start of a string, and the dollar symbol $ matches the end of a string"
   ]
  },
  {
   "cell_type": "code",
   "execution_count": null,
   "id": "dda5498d-0bc1-43d8-b2a2-2e3f0da8357f",
   "metadata": {},
   "outputs": [],
   "source": [
    "^ATG[ATGC]{30,1000}A{5,10}$\n",
    "^ATG # an ATG start codon at the beginning of the sequence\n",
    "[ATGC]{30,1000} # followed by between 30 and 1000 bases which can be A, T, G or C\n",
    "A{5,10}$ # followed by a poly-A tail of between 5 and 10 bases at the end of the sequence"
   ]
  },
  {
   "cell_type": "code",
   "execution_count": null,
   "id": "5084950a-9071-47de-8346-593a0ce4baf6",
   "metadata": {},
   "outputs": [],
   "source": [
    "# re.search will identify a pattern occurring anywhere in the string, \n",
    "# whereas re.match will only identify a pattern if it matches the entire string"
   ]
  },
  {
   "cell_type": "code",
   "execution_count": null,
   "id": "db352633-8f5f-4bc4-afe8-97bdbaffa871",
   "metadata": {},
   "outputs": [],
   "source": [
    "# the results of a re.search function return a match object "
   ]
  },
  {
   "cell_type": "code",
   "execution_count": 11,
   "id": "ff090526-cc5b-45b3-8f41-18b49ce3bd38",
   "metadata": {},
   "outputs": [
    {
     "name": "stdout",
     "output_type": "stream",
     "text": [
      "GACGTAC\n"
     ]
    }
   ],
   "source": [
    "dna = \"ATGACGTACGTACGACTG\"\n",
    "# store the match object in the variable m\n",
    "m = re.search(r\"GA[ATGC]{3}AC\", dna)\n",
    "print(m.group())"
   ]
  },
  {
   "cell_type": "code",
   "execution_count": null,
   "id": "1ed401b5-ed7d-477e-a99c-f9fbb961fdfe",
   "metadata": {},
   "outputs": [],
   "source": [
    "# By calling the group method on the resulting match object\n",
    "# we can see the part of the DNA sequence that matched, and figure out what the middle three bases were"
   ]
  },
  {
   "cell_type": "code",
   "execution_count": null,
   "id": "253f424b-c32a-4c2a-9f20-71993cd319c5",
   "metadata": {},
   "outputs": [],
   "source": [
    "# we can specify the match to extract by capturing it in ()\n",
    "# We can now refer to the captured bits of the pattern by \n",
    "# supplying an argument to the group method. group(1) will return the \n",
    "# bit of the string matched by the section of the pattern in the first set of parentheses, \n",
    "# group(2) will return the bit matched by the second"
   ]
  },
  {
   "cell_type": "code",
   "execution_count": 12,
   "id": "5b89448d-f325-437e-852d-d80e7fd18f33",
   "metadata": {},
   "outputs": [
    {
     "name": "stdout",
     "output_type": "stream",
     "text": [
      "entire match: GACGTACGTAC\n",
      "first bit: CGT\n",
      "second bit: GT\n"
     ]
    }
   ],
   "source": [
    "dna = \"ATGACGTACGTACGACTG\"\n",
    "# store the match object in the variable m\n",
    "# two sets or () means 2 groups \n",
    "m = re.search(r\"GA([ATGC]{3})AC([ATGC]{2})AC\", dna)\n",
    "print(\"entire match: \" + m.group())\n",
    "print(\"first bit: \" + m.group(1))\n",
    "print(\"second bit: \" + m.group(2))"
   ]
  },
  {
   "cell_type": "code",
   "execution_count": null,
   "id": "82070d96-e5d2-4e7c-915f-b59ddeed5493",
   "metadata": {},
   "outputs": [],
   "source": [
    "# The start and end methods get the positions of the start and end of the pattern on the sequence"
   ]
  },
  {
   "cell_type": "code",
   "execution_count": 13,
   "id": "9cbccb39-8669-4be5-9dd1-e423c0d9197c",
   "metadata": {},
   "outputs": [
    {
     "name": "stdout",
     "output_type": "stream",
     "text": [
      "start: 2\n",
      "end: 13\n"
     ]
    }
   ],
   "source": [
    "dna = \"ATGACGTACGTACGACTG\"\n",
    "m = re.search(r\"GA([ATGC]{3})AC([ATGC]{2})AC\", dna)\n",
    "print(\"start: \" + str(m.start()))\n",
    "print(\"end: \" + str(m.end()))"
   ]
  },
  {
   "cell_type": "code",
   "execution_count": null,
   "id": "8ac10a82-2635-4b8b-8e8b-6e45f405b782",
   "metadata": {},
   "outputs": [],
   "source": [
    "# We can get the start and end positions of individual groups by \n",
    "# supplying a number as the argument to start and end"
   ]
  },
  {
   "cell_type": "code",
   "execution_count": 14,
   "id": "32afe30b-557f-4f36-bc08-c1f40ece3fb3",
   "metadata": {},
   "outputs": [
    {
     "name": "stdout",
     "output_type": "stream",
     "text": [
      "start: 2\n",
      "end: 13\n",
      "group one start: 4\n",
      "group one end: 7\n",
      "group two start: 9\n",
      "group two end: 11\n"
     ]
    }
   ],
   "source": [
    "dna = \"ATGACGTACGTACGACTG\"\n",
    "m = re.search(r\"GA([ATGC]{3})AC([ATGC]{2})AC\", dna)\n",
    "print(\"start: \" + str(m.start()))\n",
    "print(\"end: \" + str(m.end()))\n",
    "print(\"group one start: \" + str(m.start(1)))\n",
    "print(\"group one end: \" + str(m.end(1)))\n",
    "print(\"group two start: \" + str(m.start(2)))\n",
    "print(\"group two end: \" + str(m.end(2)))"
   ]
  },
  {
   "cell_type": "code",
   "execution_count": null,
   "id": "e618f2d8-6091-4e41-9699-9a7fcc7d11c2",
   "metadata": {},
   "outputs": [],
   "source": [
    "# split the DNA string wherever we see a base that isn't A, T, G or C"
   ]
  },
  {
   "cell_type": "code",
   "execution_count": 15,
   "id": "969ed049-f0ea-4e0d-aac8-646d415875b4",
   "metadata": {},
   "outputs": [
    {
     "name": "stdout",
     "output_type": "stream",
     "text": [
      "['ACT', 'GCAT', 'GCTACGT', 'ACGAT', 'CGA', 'TCG']\n"
     ]
    }
   ],
   "source": [
    "dna = \"ACTNGCATRGCTACGTYACGATSCGAWTCG\"\n",
    "runs = re.split(r\"[^ATGC]\", dna)\n",
    "print(runs)"
   ]
  },
  {
   "cell_type": "code",
   "execution_count": null,
   "id": "57983514-81d7-4510-9faa-d3962bdf0222",
   "metadata": {},
   "outputs": [],
   "source": [
    "# re.findall returns a list of all matches of a pattern in a string. \n",
    "# The first argument is the pattern, and the second argument is the string"
   ]
  },
  {
   "cell_type": "code",
   "execution_count": 16,
   "id": "d09b088e-5c4f-4f5e-a705-2461d88afb28",
   "metadata": {},
   "outputs": [
    {
     "name": "stdout",
     "output_type": "stream",
     "text": [
      "['ATTATAT', 'AAATTATA']\n"
     ]
    }
   ],
   "source": [
    "dna = \"ACTGCATTATATCGTACGAAATTATACGCGCG\"\n",
    "runs = re.findall(r\"[AT]{4,100}\", dna)\n",
    "print(runs)"
   ]
  },
  {
   "cell_type": "code",
   "execution_count": null,
   "id": "012c53d7-254c-424f-bfdd-5fbef0bcfed0",
   "metadata": {},
   "outputs": [],
   "source": [
    "# the return object is a list of strings\n",
    "# if we want positions, we need a match object \n",
    "# finditer returns a sequence of match objects, \n",
    "# so to do anything useful with it, we need to use the return value in a loop"
   ]
  },
  {
   "cell_type": "code",
   "execution_count": 17,
   "id": "7d9815fd-50c9-4a1d-af5b-de47ead5acf2",
   "metadata": {},
   "outputs": [
    {
     "name": "stdout",
     "output_type": "stream",
     "text": [
      "AT rich region from 5 to 12\n",
      "AT rich region from 18 to 26\n"
     ]
    }
   ],
   "source": [
    "dna = \"ACTGCATTATATCGTACGAAATTATACGCGCG\"\n",
    "runs = re.finditer(r\"[AT]{3,100}\", dna)\n",
    "for match in runs:\n",
    "    run_start = match.start()\n",
    "    run_end = match.end()\n",
    "    print(\"AT rich region from \" + str(run_start) + \" to \" + str(run_end))"
   ]
  },
  {
   "cell_type": "markdown",
   "id": "389373f6-4edb-4b32-9847-f5480e44711e",
   "metadata": {},
   "source": [
    "Exercises"
   ]
  },
  {
   "cell_type": "code",
   "execution_count": null,
   "id": "1b0d3d11-1898-407b-9041-a34cdb24c94c",
   "metadata": {},
   "outputs": [],
   "source": [
    "# Accession names \n",
    "# xkn59438, yhdck2, eihd39d9, chdsye847, hedle3455, xjhd53e, 45da, de37dp"
   ]
  },
  {
   "cell_type": "code",
   "execution_count": null,
   "id": "762c18e3-e9e7-4e37-8d52-06fd6eb06f51",
   "metadata": {},
   "outputs": [],
   "source": [
    "# Write a program that will print only the accession names that satisfy the following criteria separately\n",
    "# contain the number 5\n",
    "# contain the letter d or e\n",
    "# contain the letters d and e in that order\n",
    "# contain the letters d and e in that order with a single letter between them\n",
    "# contain both the letters d and e in any order\n",
    "# start with x or y\n",
    "# start with x or y and end with e\n",
    "# contain three or more numbers in a row\n",
    "# end with d followed by either a, r or p"
   ]
  },
  {
   "cell_type": "code",
   "execution_count": null,
   "id": "7f9f7e07-1c2a-4750-ad5e-15a0710dcb26",
   "metadata": {},
   "outputs": [],
   "source": [
    "accession = [\"xkn59438\", \"yhdck2\", \"eihd39d9\", \"chdsye847\", \"hedle3455\", \"xjhd53e\", \"45da\", \"de37dp\"] \n",
    "# make list of accession names \n",
    "# think all of these have to be a loop to go through each accession"
   ]
  },
  {
   "cell_type": "code",
   "execution_count": 27,
   "id": "d91fec9d-383c-426e-b4f5-097e6f7834e0",
   "metadata": {},
   "outputs": [
    {
     "name": "stdout",
     "output_type": "stream",
     "text": [
      "xkn59438\n",
      "hedle3455\n",
      "xjhd53e\n",
      "45da\n"
     ]
    }
   ],
   "source": [
    "accession = [\"xkn59438\", \"yhdck2\", \"eihd39d9\", \"chdsye847\", \"hedle3455\", \"xjhd53e\", \"45da\", \"de37dp\"] \n",
    "# make list of accession names \n",
    "# which contain the number 5 \n",
    "for acc in accession:\n",
    "    if re.search(\"5\", acc): # conditional so it'll only print if the condition is true\n",
    "        print(acc)"
   ]
  },
  {
   "cell_type": "code",
   "execution_count": 32,
   "id": "267a04bd-e451-4021-931c-d6380956914a",
   "metadata": {},
   "outputs": [
    {
     "name": "stdout",
     "output_type": "stream",
     "text": [
      "yhdck2\n",
      "eihd39d9\n",
      "chdsye847\n",
      "hedle3455\n",
      "xjhd53e\n",
      "45da\n",
      "de37dp\n"
     ]
    }
   ],
   "source": [
    "accession = [\"xkn59438\", \"yhdck2\", \"eihd39d9\", \"chdsye847\", \"hedle3455\", \"xjhd53e\", \"45da\", \"de37dp\"] \n",
    "# make list of accession names \n",
    "# which contain the letter d or e\n",
    "for acc in accession:\n",
    "    if re.search(r\"d|e\", acc): # use pipe to specify d or e \n",
    "        print(acc)"
   ]
  },
  {
   "cell_type": "code",
   "execution_count": 33,
   "id": "194b4731-72bf-4bc2-9225-79b99ab3a930",
   "metadata": {},
   "outputs": [
    {
     "name": "stdout",
     "output_type": "stream",
     "text": [
      "de37dp\n"
     ]
    }
   ],
   "source": [
    "accession = [\"xkn59438\", \"yhdck2\", \"eihd39d9\", \"chdsye847\", \"hedle3455\", \"xjhd53e\", \"45da\", \"de37dp\"] \n",
    "# make list of accession names \n",
    "# which contain the letters d and e in that order\n",
    "for acc in accession:\n",
    "    if re.search(r\"de\", acc): # specific string just for de \n",
    "        print(acc)"
   ]
  },
  {
   "cell_type": "code",
   "execution_count": 34,
   "id": "1b12cd88-1e06-47ac-bd40-fbdabef5cdd4",
   "metadata": {},
   "outputs": [
    {
     "name": "stdout",
     "output_type": "stream",
     "text": [
      "hedle3455\n"
     ]
    }
   ],
   "source": [
    "accession = [\"xkn59438\", \"yhdck2\", \"eihd39d9\", \"chdsye847\", \"hedle3455\", \"xjhd53e\", \"45da\", \"de37dp\"] \n",
    "# make list of accession names \n",
    "# which contain the letters d and e in that order with a single letter between them\n",
    "for acc in accession:\n",
    "    if re.search(r\"d.e\", acc): # this will to any character between d and e, not sure how to specify just letter \n",
    "        print(acc)"
   ]
  },
  {
   "cell_type": "code",
   "execution_count": 36,
   "id": "ae0a27ad-95b6-4b41-90b7-d7fa57e4c751",
   "metadata": {},
   "outputs": [
    {
     "name": "stdout",
     "output_type": "stream",
     "text": [
      "eihd39d9\n",
      "chdsye847\n",
      "hedle3455\n",
      "xjhd53e\n",
      "de37dp\n"
     ]
    }
   ],
   "source": [
    "accession = [\"xkn59438\", \"yhdck2\", \"eihd39d9\", \"chdsye847\", \"hedle3455\", \"xjhd53e\", \"45da\", \"de37dp\"] \n",
    "# make list of accession names \n",
    "# which contain both the letters d and e in any order\n",
    "for acc in accession:\n",
    "    if re.search(r\"d\", acc) and re.search(r\"e\", acc): # need to do and to specify both\n",
    "        print(acc)"
   ]
  },
  {
   "cell_type": "code",
   "execution_count": 46,
   "id": "0d970ce9-603d-431f-a74c-52885af0ee7c",
   "metadata": {},
   "outputs": [
    {
     "name": "stdout",
     "output_type": "stream",
     "text": [
      "xkn59438\n",
      "yhdck2\n",
      "xjhd53e\n"
     ]
    }
   ],
   "source": [
    "accession = [\"xkn59438\", \"yhdck2\", \"eihd39d9\", \"chdsye847\", \"hedle3455\", \"xjhd53e\", \"45da\", \"de37dp\"] \n",
    "# make list of accession names \n",
    "# which start with x or y\n",
    "for acc in accession:\n",
    "    if acc.startswith(\"x\") or acc.startswith(\"y\"):\n",
    "        print(acc)"
   ]
  },
  {
   "cell_type": "code",
   "execution_count": 48,
   "id": "faa86194-41ab-4f82-af39-16ccb53e06d8",
   "metadata": {},
   "outputs": [
    {
     "name": "stdout",
     "output_type": "stream",
     "text": [
      "xjhd53e\n"
     ]
    }
   ],
   "source": [
    "accession = [\"xkn59438\", \"yhdck2\", \"eihd39d9\", \"chdsye847\", \"hedle3455\", \"xjhd53e\", \"45da\", \"de37dp\"] \n",
    "# make list of accession names \n",
    "# which start with x or y and ends with e \n",
    "for acc in accession:\n",
    "    if (acc.startswith(\"x\") or acc.startswith(\"y\")) and acc.endswith(\"e\"): # need parenthesises around x and y \n",
    "        print(acc)"
   ]
  },
  {
   "cell_type": "code",
   "execution_count": 53,
   "id": "76fbcd0f-fca5-4d9b-a25d-5dee3e2430b0",
   "metadata": {},
   "outputs": [
    {
     "name": "stdout",
     "output_type": "stream",
     "text": [
      "xkn59438\n",
      "chdsye847\n",
      "hedle3455\n"
     ]
    }
   ],
   "source": [
    "accession = [\"xkn59438\", \"yhdck2\", \"eihd39d9\", \"chdsye847\", \"hedle3455\", \"xjhd53e\", \"45da\", \"de37dp\"] \n",
    "# make list of accession names \n",
    "# which contain three or more numbers in a row\n",
    "for acc in accession:\n",
    "    if re.search(\"[0-9]{3}\", acc): # search for 0-9 three times in a row \n",
    "        print(acc)"
   ]
  },
  {
   "cell_type": "code",
   "execution_count": 54,
   "id": "f3c6e929-5b6f-4789-9c3f-4b2cc00f8e1d",
   "metadata": {},
   "outputs": [
    {
     "name": "stdout",
     "output_type": "stream",
     "text": [
      "45da\n",
      "de37dp\n"
     ]
    }
   ],
   "source": [
    "accession = [\"xkn59438\", \"yhdck2\", \"eihd39d9\", \"chdsye847\", \"hedle3455\", \"xjhd53e\", \"45da\", \"de37dp\"] \n",
    "# make list of accession names \n",
    "# which end with d followed by either a, r or p \n",
    "# this doesn't make any sense because how can it end with d and also a, r or p????\n",
    "for acc in accession:\n",
    "    if acc.endswith(\"da\") or acc.endswith(\"dr\") or acc.endswith(\"dp\"): # there might be a better way but idk\n",
    "        print(acc)"
   ]
  },
  {
   "cell_type": "code",
   "execution_count": null,
   "id": "09560566-d3f2-4052-a282-83441766fe53",
   "metadata": {},
   "outputs": [],
   "source": [
    "# double digest\n",
    "# Predict the fragment lengths that we will get if we digest the sequence with two made-up \n",
    "# restriction enzymes – AbcI, whose recognition site is ANT*AAT, and AbcII, whose recognition \n",
    "# site is GCRW*TG (asterisks indicate the position of the cut site)"
   ]
  },
  {
   "cell_type": "code",
   "execution_count": 57,
   "id": "9dd2c0dc-c642-4bae-bfff-7c7d96e4bfe6",
   "metadata": {},
   "outputs": [
    {
     "name": "stdout",
     "output_type": "stream",
     "text": [
      "ATGGCAATAACCCCCCGTTTCTACTTCTAGAGGAGAAAAGTATTGACATGAGCGCTCCCGGCACAAGGGCCAAAGAAGTCTCCAATTTCTTATTTCCGAATGACATGCGTCTCCTTGCGGGTAAATCACCGACCGCAATTCATAGAAGCCTGGGGGAACAGATAGGTCTAATTAGCTTAAGAGAGTAAATCCTGGGATCATTCAGTAGTAACCATAAACTTACGCTGGGGCTTCTTCGGCGGATTTTTACAGTTACCAACCAGGAGATTTGAAGTAAATCAGTTGAGGATTTAGCCGCGCTATCCGGTAATCTCCAAATTAAAACATACCGTTCCATGAAGGCTAGAATTACTTACCGGCCTTTTCCATGCCTGCGCTATACCCCCCCACTCTCCCGCTTATCCGTCCGAGCGGAGGCAGTGCGATCCTCCGTTAAGATATTCTTACGTGTGACGTAGCTATGTATTTTGCAGAGCTGGCGAACGCGTTGAACACTTCACAGATGGTAGGGATTCGGGTAAAGGGCGTATAATTGGGGACTAACATAGGCGTAGACTACGATGGCGCCAACTCAATCGCAGCTCGAGCGCCCTGAATAACGTACTCATCTCAACTCATTCTCGGCAATCTACCGAGCGACTCGATTATCAACGGCTGTCTAGCAGTTCTAATCTTTTGCCAGCATCGTAATAGCCTCCAAGAGATTGATGATAGCTATCGGCACAGAACTGAGACGGCGCCGATGGATAGCGGACTTTCGGTCAACCACAATTCCCCACGGGACAGGTCCTGCGGTGCGCATCACTCTGAATGTACAAGCAACCCAAGTGGGCCGAGCCTGGACTCAGCTGGTTCCTGCGTGAGCTCGAGACTCGGGATGACAGCTCTTTAAACATAGAGCGGGGGCGTCGAACGGTCGAGAAAGTCATAGTACCTCGGGTACCAACTTACTCAGGTTATTGCTTGAAGCTGTACTATTTTAGGGGGGGAGCGCTGAAGGTCTCTTCTTCTCATGACTGAACTCGCGAGGGTCGTGAAGTCGGTTCCTTCAATGGTTAAAAAACAAAGGCTTACTGTGCGCAGAGGAACGCCCATCTAGCGGCTGGCGTCTTGAATGCTCGGTCCCCTTTGTCATTCCGGATTAATCCATTTCCCTCATTCACGAGCTTGCGAAGTCTACATTGGTATATGAATGCGACCTAGAAGAGGGCGCTTAAAATTGGCAGTGGTTGATGCTCTAAACTCCATTTGGTTTACTCGTGCATCACCGCGATAGGCTGACAAAGGTTTAACATTGAATAGCAAGGCACTTCCGGTCTCAATGAACGGCCGGGAAAGGTACGCGCGCGGTATGGGAGGATCAAGGGGCCAATAGAGAGGCTCCTCTCTCACTCGCTAGGAGGCAAATGTAAAACAATGGTTACTGCATCGATACATAAAACATGTCCATCGGTTGCCCAAAGTGTTAAGTGTCTATCACCCCTAGGGCCGTTTCCCGCATATAAACGCCAGGTTGTATCCGCATTTGATGCTACCGTGGATGAGTCTGCGTCGAGCGCGCCGCACGAATGTTGCAATGTATTGCATGAGTAGGGTTGACTAAGAGCCGTTAGATGCGTCGCTGTACTAATAGTTGTCGACAGACCGTCGAGATTAGAAAATGGTACCAGCATTTTCGGAGGTTCTCTAACTAGTATGGATTGCGGTGTCTTCACTGTGCTGCGGCTACCCATCGCCTGAAATCCAGCTGGTGTCAAGCCATCCCCTCTCCGGGACGCCGCATGTAGTGAAACATATACGTTGCACGGGTTCACCGCGGTCCGTTCTGAGTCGACCAAGGACACAATCGAGCTCCGATCCGTACCCTCGACAAACTTGTACCCGACCCCCGGAGCTTGCCAGCTCCTCGGGTATCATGGAGCCTGTGGTTCATCGCGTCCGATATCAAACTTCGTCATGATAAAGTCCCCCCCTCGGGAGTACCAGAGAAGATGACTACTGAGTTGTGCGAT\n",
      "\n"
     ]
    }
   ],
   "source": [
    "digestfile = open(\"/Users/maggieschedl/Desktop/Github/Python_4_Biologists_Learning_Group/exercises_and_examples/regular_expressions/exercises/dna.txt\", \"r\")\n",
    "# open the file in read mode\n",
    "# check what it looks like \n",
    "file = digestfile.read()\n",
    "print(file)"
   ]
  },
  {
   "cell_type": "code",
   "execution_count": 92,
   "id": "b8e59ef0-fe4a-4495-b58c-3385f5041cbb",
   "metadata": {},
   "outputs": [
    {
     "name": "stdout",
     "output_type": "stream",
     "text": [
      "cutsite starts at 1140\n",
      "['1140']\n",
      "cutsite starts at 1625\n",
      "['1140', '1625']\n",
      "1143\n",
      "\n",
      "\n"
     ]
    }
   ],
   "source": [
    "digestfile = open(\"/Users/maggieschedl/Desktop/Github/Python_4_Biologists_Learning_Group/exercises_and_examples/regular_expressions/exercises/dna.txt\")\n",
    "# open the file in read mode\n",
    "# start by finding all sites that are ANTAAT where N is any base ATCG \n",
    "starts = [] #create empty list for the cutsite start positions\n",
    "\n",
    "for line in digestfile:\n",
    "    AbcI = re.finditer(r\"A[ATCG]{1}TAAT\", line) # find the cutsite\n",
    "    for match in AbcI: # tell me each match\n",
    "        AbcI_start = match.start() # tell me where it starts\n",
    "        starts.append(str(AbcI_start)) # add these numbers to a list \n",
    "        print(\"cutsite starts at \" + str(AbcI_start)) # what are the cutsites\n",
    "        print(starts) # check the list\n",
    "        \n",
    "# separate list into first and seconds \n",
    "# add 3 because the fragment includes 3 bases of the cutsite \n",
    "first = int(starts[0]) + 3\n",
    "second = int(starts[1]) + 3 \n",
    "print(first) # check number\n",
    "\n",
    "# this stuff doesn't work because chunk too long?\n",
    "# file = digestfile.read()\n",
    "# print(file)\n",
    "# make the first fragment\n",
    "# first_frag = file[0:10]\n",
    "# print(first_frag)"
   ]
  },
  {
   "cell_type": "code",
   "execution_count": 102,
   "id": "4da8deae-eb40-4a88-b7fc-0cd06e9107f6",
   "metadata": {},
   "outputs": [
    {
     "name": "stdout",
     "output_type": "stream",
     "text": [
      "ATGGCAATAACCCCCCGTTTCTACTTCTAGAGGAGAAAAGTATTGACATGAGCGCTCCCGGCACAAGGGCCAAAGAAGTCTCCAATTTCTTATTTCCGAATGACATGCGTCTCCTTGCGGGTAAATCACCGACCGCAATTCATAGAAGCCTGGGGGAACAGATAGGTCTAATTAGCTTAAGAGAGTAAATCCTGGGATCATTCAGTAGTAACCATAAACTTACGCTGGGGCTTCTTCGGCGGATTTTTACAGTTACCAACCAGGAGATTTGAAGTAAATCAGTTGAGGATTTAGCCGCGCTATCCGGTAATCTCCAAATTAAAACATACCGTTCCATGAAGGCTAGAATTACTTACCGGCCTTTTCCATGCCTGCGCTATACCCCCCCACTCTCCCGCTTATCCGTCCGAGCGGAGGCAGTGCGATCCTCCGTTAAGATATTCTTACGTGTGACGTAGCTATGTATTTTGCAGAGCTGGCGAACGCGTTGAACACTTCACAGATGGTAGGGATTCGGGTAAAGGGCGTATAATTGGGGACTAACATAGGCGTAGACTACGATGGCGCCAACTCAATCGCAGCTCGAGCGCCCTGAATAACGTACTCATCTCAACTCATTCTCGGCAATCTACCGAGCGACTCGATTATCAACGGCTGTCTAGCAGTTCTAATCTTTTGCCAGCATCGTAATAGCCTCCAAGAGATTGATGATAGCTATCGGCACAGAACTGAGACGGCGCCGATGGATAGCGGACTTTCGGTCAACCACAATTCCCCACGGGACAGGTCCTGCGGTGCGCATCACTCTGAATGTACAAGCAACCCAAGTGGGCCGAGCCTGGACTCAGCTGGTTCCTGCGTGAGCTCGAGACTCGGGATGACAGCTCTTTAAACATAGAGCGGGGGCGTCGAACGGTCGAGAAAGTCATAGTACCTCGGGTACCAACTTACTCAGGTTATTGCTTGAAGCTGTACTATTTTAGGGGGGGAGCGCTGAAGGTCTCTTCTTCTCATGACTGAACTCGCGAGGGTCGTGAAGTCGGTTCCTTCAATGGTTAAAAAACAAAGGCTTACTGTGCGCAGAGGAACGCCCATCTAGCGGCTGGCGTCTTGAATGCTCGGTCCCCTTTGTCATTCCGGATTAATCCATTTCCCTCATTCACGAGCTTGCGAAGTCTACATTGGTATATGAATGCGACCTAGAAGAGGGCGCTTAAAATTGGCAGTGGTTGATGCTCTAAACTCCATTTGGTTTACTCGTGCATCACCGCGATAGGCTGACAAAGGTTTAACATTGAATAGCAAGGCACTTCCGGTCTCAATGAACGGCCGGGAAAGGTACGCGCGCGGTATGGGAGGATCAAGGGGCCAATAGAGAGGCTCCTCTCTCACTCGCTAGGAGGCAAATGTAAAACAATGGTTACTGCATCGATACATAAAACATGTCCATCGGTTGCCCAAAGTGTTAAGTGTCTATCACCCCTAGGGCCGTTTCCCGCATATAAACGCCAGGTTGTATCCGCATTTGATGCTACCGTGGATGAGTCTGCGTCGAGCGCGCCGCACGAATGTTGCAATGTATTGCATGAGTAGGGTTGACTAAGAGCCGTTAGATGCGTCGCTGTACTAATAGTTGTCGACAGACCGTCGAGATTAGAAAATGGTACCAGCATTTTCGGAGGTTCTCTAACTAGTATGGATTGCGGTGTCTTCACTGTGCTGCGGCTACCCATCGCCTGAAATCCAGCTGGTGTCAAGCCATCCCCTCTCCGGGACGCCGCATGTAGTGAAACATATACGTTGCACGGGTTCACCGCGGTCCGTTCTGAGTCGACCAAGGACACAATCGAGCTCCGATCCGTACCCTCGACAAACTTGTACCCGACCCCCGGAGCTTGCCAGCTCCTCGGGTATCATGGAGCCTGTGGTTCATCGCGTCCGATATCAAACTTCGTCATGATAAAGTCCCCCCCTCGGGAGTACCAGAGAAGATGACTACTGAGTTGTGCGAT\n",
      "\n",
      "ATGGCAATAACCCCCCGTTTCTACTTCTAGAGGAGAAAAGTATTGACATGAGCGCTCCCGGCACAAGGGCCAAAGAAGTCTCCAATTTCTTATTTCCGAATGACATGCGTCTCCTTGCGGGTAAATCACCGACCGCAATTCATAGAAGCCTGGGGGAACAGATAGGTCTAATTAGCTTAAGAGAGTAAATCCTGGGATCATTCAGTAGTAACCATAAACTTACGCTGGGGCTTCTTCGGCGGATTTTTACAGTTACCAACCAGGAGATTTGAAGTAAATCAGTTGAGGATTTAGCCGCGCTATCCGGTAATCTCCAAATTAAAACATACCGTTCCATGAAGGCTAGAATTACTTACCGGCCTTTTCCATGCCTGCGCTATACCCCCCCACTCTCCCGCTTATCCGTCCGAGCGGAGGCAGTGCGATCCTCCGTTAAGATATTCTTACGTGTGACGTAGCTATGTATTTTGCAGAGCTGGCGAACGCGTTGAACACTTCACAGATGGTAGGGATTCGGGTAAAGGGCGTATAATTGGGGACTAACATAGGCGTAGACTACGATGGCGCCAACTCAATCGCAGCTCGAGCGCCCTGAATAACGTACTCATCTCAACTCATTCTCGGCAATCTACCGAGCGACTCGATTATCAACGGCTGTCTAGCAGTTCTAATCTTTTGCCAGCATCGTAATAGCCTCCAAGAGATTGATGATAGCTATCGGCACAGAACTGAGACGGCGCCGATGGATAGCGGACTTTCGGTCAACCACAATTCCCCACGGGACAGGTCCTGCGGTGCGCATCACTCTGAATGTACAAGCAACCCAAGTGGGCCGAGCCTGGACTCAGCTGGTTCCTGCGTGAGCTCGAGACTCGGGATGACAGCTCTTTAAACATAGAGCGGGGGCGTCGAACGGTCGAGAAAGTCATAGTACCTCGGGTACCAACTTACTCAGGTTATTGCTTGAAGCTGTACTATTTTAGGGGGGGAGCGCTGAAGGTCTCTTCTTCTCATGACTGAACTCGCGAGGGTCGTGAAGTCGGTTCCTTCAATGGTTAAAAAACAAAGGCTTACTGTGCGCAGAGGAACGCCCATCTAGCGGCTGGCGTCTTGAATGCTCGGTCCCCTTTGTCATTCCGGATT\n",
      "AATCCATTTCCCTCATTCACGAGCTTGCGAAGTCTACATTGGTATATGAATGCGACCTAGAAGAGGGCGCTTAAAATTGGCAGTGGTTGATGCTCTAAACTCCATTTGGTTTACTCGTGCATCACCGCGATAGGCTGACAAAGGTTTAACATTGAATAGCAAGGCACTTCCGGTCTCAATGAACGGCCGGGAAAGGTACGCGCGCGGTATGGGAGGATCAAGGGGCCAATAGAGAGGCTCCTCTCTCACTCGCTAGGAGGCAAATGTAAAACAATGGTTACTGCATCGATACATAAAACATGTCCATCGGTTGCCCAAAGTGTTAAGTGTCTATCACCCCTAGGGCCGTTTCCCGCATATAAACGCCAGGTTGTATCCGCATTTGATGCTACCGTGGATGAGTCTGCGTCGAGCGCGCCGCACGAATGTTGCAATGTATTGCATGAGTAGGGTTGACTAAGAGCCGTTAGATGCGTCGCTGTACTA\n",
      "AATAGTTGTCGACAGACCGTCGAGATTAGAAAATGGTACCAGCATTTTCGGAGGTTCTCTAACTAGTATGGATTGCGGTGTCTTCACTGTGCTGCGGCTACCCATCGCCTGAAATCCAGCTGGTGTCAAGCCATCCCCTCTCCGGGACGCCGCATGTAGTGAAACATATACGTTGCACGGGTTCACCGCGGTCCGTTCTGAGTCGACCAAGGACACAATCGAGCTCCGATCCGTACCCTCGACAAACTTGTACCCGACCCCCGGAGCTTGCCAGCTCCTCGGGTATCATGGAGCCTGTGGTTCATCGCGTCCGATATCAAACTTCGTCATGATAAAGTCCCCCCCTCGGGAGTACCAGAGAAGATGACTACTGAGTTGTGCGAT\n",
      "\n",
      "The AbcI enzyme makes 3 fragments with lengths of 1143, 486, and 385 bases.\n"
     ]
    }
   ],
   "source": [
    "# keep going because chunk was too long \n",
    "# read in file again\n",
    "digestfile = open(\"/Users/maggieschedl/Desktop/Github/Python_4_Biologists_Learning_Group/exercises_and_examples/regular_expressions/exercises/dna.txt\")\n",
    "file = digestfile.read()\n",
    "print(file)\n",
    "# first fragment \n",
    "first_frag = file[0:(first + 1)] # # not inclusive to have to add 1\n",
    "print(first_frag)\n",
    "second_frag = file[first:(second + 1)] # not inclusive to have to add 1 \n",
    "print(second_frag)\n",
    "# need the length for the last fragment \n",
    "length = len(file)\n",
    "third_frag = file[second:length]\n",
    "print(third_frag)\n",
    "# now get the lengths \n",
    "\n",
    "print(\"The AbcI enzyme makes 3 fragments with lengths of \" + str(len(first_frag)) + \", \" + str(len(second_frag)) + \", and \" + str(len(third_frag)) + \" bases.\")"
   ]
  },
  {
   "cell_type": "code",
   "execution_count": null,
   "id": "6b58b703-eaf4-45bd-94c5-ebf38fc3f92d",
   "metadata": {},
   "outputs": [],
   "source": [
    "# Next is AbcII enzyme with GCRW*TG cutsite \n",
    "# R is G or C \n",
    "# W is A or T "
   ]
  },
  {
   "cell_type": "code",
   "execution_count": 106,
   "id": "c24054e6-0a89-4078-8342-02962d87cd89",
   "metadata": {},
   "outputs": [
    {
     "name": "stdout",
     "output_type": "stream",
     "text": [
      "AbcII cutsite starts at 484\n",
      "['484']\n",
      "487\n"
     ]
    }
   ],
   "source": [
    "# going to do this a lot like the last one \n",
    "digestfile = open(\"/Users/maggieschedl/Desktop/Github/Python_4_Biologists_Learning_Group/exercises_and_examples/regular_expressions/exercises/dna.txt\")\n",
    "# open the file in read mode\n",
    "beginnings = [] #create empty list for the cutsite start positions\n",
    "\n",
    "for line in digestfile:\n",
    "    AbcII = re.finditer(r\"GC[GC]{1}[AT]{1}TG\", line) # find the cutsite\n",
    "    for match in AbcII: # tell me each match\n",
    "        AbcII_start = match.start() # tell me where it starts\n",
    "        beginnings.append(str(AbcII_start)) # add these numbers to a list \n",
    "        print(\"AbcII cutsite starts at \" + str(AbcII_start)) # what are the cutsites\n",
    "        print(beginnings) # check the list\n",
    "\n",
    "# ok there is only one cutsite for this enzyme\n",
    "# so this didn't have to be a list but thats ok didn't know \n",
    "# add 3 because the fragment includes 3 bases of the cutsite \n",
    "AbcII_st = int(beginnings[0]) + 3\n",
    "print(AbcII_st) # check number\n"
   ]
  },
  {
   "cell_type": "code",
   "execution_count": 112,
   "id": "2e9429e5-2b26-4a47-a66b-a3bd3a7cb70a",
   "metadata": {},
   "outputs": [
    {
     "name": "stdout",
     "output_type": "stream",
     "text": [
      "The AbcII enzyme makes 2 fragments legnths of 488 and 1526 bases.\n"
     ]
    }
   ],
   "source": [
    "digestfile = open(\"/Users/maggieschedl/Desktop/Github/Python_4_Biologists_Learning_Group/exercises_and_examples/regular_expressions/exercises/dna.txt\")\n",
    "file = digestfile.read()\n",
    "# need to read it in a separate chunk for some reason \n",
    "# get the first chunk for this one\n",
    "new_first = file[0:(AbcII_st + 1)] # not inclusive to have to add 1\n",
    "new_second = file[AbcII_st:length]\n",
    "\n",
    "print(\"The AbcII enzyme makes 2 fragments legnths of \" + str(len(new_first)) + \" and \" +  str(len(new_second)) + \" bases.\")"
   ]
  }
 ],
 "metadata": {
  "kernelspec": {
   "display_name": "Python 3 (ipykernel)",
   "language": "python",
   "name": "python3"
  },
  "language_info": {
   "codemirror_mode": {
    "name": "ipython",
    "version": 3
   },
   "file_extension": ".py",
   "mimetype": "text/x-python",
   "name": "python",
   "nbconvert_exporter": "python",
   "pygments_lexer": "ipython3",
   "version": "3.9.12"
  }
 },
 "nbformat": 4,
 "nbformat_minor": 5
}
