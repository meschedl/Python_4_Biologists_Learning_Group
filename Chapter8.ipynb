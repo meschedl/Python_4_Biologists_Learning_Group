{
 "cells": [
  {
   "cell_type": "markdown",
   "id": "cfff1c58-db16-4e78-8ce2-d1b2122b8ee8",
   "metadata": {},
   "source": [
    "Following along with Chapter 8 on Dictionaries "
   ]
  },
  {
   "cell_type": "code",
   "execution_count": null,
   "id": "76b2021e-63cb-4672-8c0b-02ab2d8c27fb",
   "metadata": {},
   "outputs": [],
   "source": [
    "# storing data\n",
    "# counting numbers of As or Ts in a sequence is easy\n",
    "# counting numbers of ATs or other dinucleotides is ok\n",
    "# but counting numbers of all trinucleodies gets complicated \n",
    "# even if you use a loop"
   ]
  },
  {
   "cell_type": "code",
   "execution_count": 1,
   "id": "1022f0b7-1b99-45b7-ab33-c8e08e84daa7",
   "metadata": {},
   "outputs": [
    {
     "name": "stdout",
     "output_type": "stream",
     "text": [
      "count is 0 for AAA\n",
      "count is 1 for AAT\n",
      "count is 0 for AAG\n",
      "count is 0 for AAC\n",
      "count is 0 for ATA\n",
      "count is 0 for ATT\n",
      "count is 1 for ATG\n",
      "count is 2 for ATC\n",
      "count is 0 for AGA\n",
      "count is 0 for AGT\n",
      "count is 0 for AGG\n",
      "count is 0 for AGC\n",
      "count is 0 for ACA\n",
      "count is 0 for ACT\n",
      "count is 1 for ACG\n",
      "count is 0 for ACC\n",
      "count is 0 for TAA\n",
      "count is 0 for TAT\n",
      "count is 0 for TAG\n",
      "count is 1 for TAC\n",
      "count is 0 for TTA\n",
      "count is 0 for TTT\n",
      "count is 0 for TTG\n",
      "count is 0 for TTC\n",
      "count is 2 for TGA\n",
      "count is 0 for TGT\n",
      "count is 0 for TGG\n",
      "count is 0 for TGC\n",
      "count is 0 for TCA\n",
      "count is 0 for TCT\n",
      "count is 2 for TCG\n",
      "count is 0 for TCC\n",
      "count is 0 for GAA\n",
      "count is 2 for GAT\n",
      "count is 0 for GAG\n",
      "count is 0 for GAC\n",
      "count is 1 for GTA\n",
      "count is 0 for GTT\n",
      "count is 0 for GTG\n",
      "count is 0 for GTC\n",
      "count is 0 for GGA\n",
      "count is 0 for GGT\n",
      "count is 0 for GGG\n",
      "count is 0 for GGC\n",
      "count is 0 for GCA\n",
      "count is 1 for GCT\n",
      "count is 0 for GCG\n",
      "count is 0 for GCC\n",
      "count is 0 for CAA\n",
      "count is 0 for CAT\n",
      "count is 0 for CAG\n",
      "count is 0 for CAC\n",
      "count is 0 for CTA\n",
      "count is 0 for CTT\n",
      "count is 1 for CTG\n",
      "count is 0 for CTC\n",
      "count is 1 for CGA\n",
      "count is 1 for CGT\n",
      "count is 0 for CGG\n",
      "count is 1 for CGC\n",
      "count is 0 for CCA\n",
      "count is 0 for CCT\n",
      "count is 0 for CCG\n",
      "count is 0 for CCC\n",
      "[0, 1, 0, 0, 0, 0, 1, 2, 0, 0, 0, 0, 0, 0, 1, 0, 0, 0, 0, 1, 0, 0, 0, 0, 2, 0, 0, 0, 0, 0, 2, 0, 0, 2, 0, 0, 1, 0, 0, 0, 0, 0, 0, 0, 0, 1, 0, 0, 0, 0, 0, 0, 0, 0, 1, 0, 1, 1, 0, 1, 0, 0, 0, 0]\n"
     ]
    }
   ],
   "source": [
    "dna = \"AATGATCGATCGTACGCTGA\"\n",
    "all_counts = []\n",
    "for base1 in ['A', 'T', 'G', 'C']:\n",
    "    for base2 in ['A', 'T', 'G', 'C']:\n",
    "           for base3 in ['A', 'T', 'G', 'C']:\n",
    "              trinucleotide = base1 + base2 + base3\n",
    "              count = dna.count(trinucleotide)\n",
    "              print(\"count is \" + str(count) + \" for \" + trinucleotide)\n",
    "              all_counts.append(count)\n",
    "print(all_counts)"
   ]
  },
  {
   "cell_type": "code",
   "execution_count": null,
   "id": "838f1ff2-49e2-44c6-8d04-a12af35dea6b",
   "metadata": {},
   "outputs": [],
   "source": [
    "# all those at the bottom are unreadable \n",
    "# how do you know which count is for which trinucleotide?\n",
    "# you can modify the loop to make two lists "
   ]
  },
  {
   "cell_type": "code",
   "execution_count": 2,
   "id": "dc4f3a4b-06db-47f5-b4ed-89e5439e5f36",
   "metadata": {},
   "outputs": [
    {
     "name": "stdout",
     "output_type": "stream",
     "text": [
      "[0, 1, 0, 0, 0, 0, 1, 2, 0, 0, 0, 0, 0, 0, 1, 0, 0, 0, 0, 1, 0, 0, 0, 0, 2, 0, 0, 0, 0, 0, 2, 0, 0, 2, 0, 0, 1, 0, 0, 0, 0, 0, 0, 0, 0, 1, 0, 0, 0, 0, 0, 0, 0, 0, 1, 0, 1, 1, 0, 1, 0, 0, 0, 0]\n",
      "['AAA', 'AAT', 'AAG', 'AAC', 'ATA', 'ATT', 'ATG', 'ATC', 'AGA', 'AGT', 'AGG', 'AGC', 'ACA', 'ACT', 'ACG', 'ACC', 'TAA', 'TAT', 'TAG', 'TAC', 'TTA', 'TTT', 'TTG', 'TTC', 'TGA', 'TGT', 'TGG', 'TGC', 'TCA', 'TCT', 'TCG', 'TCC', 'GAA', 'GAT', 'GAG', 'GAC', 'GTA', 'GTT', 'GTG', 'GTC', 'GGA', 'GGT', 'GGG', 'GGC', 'GCA', 'GCT', 'GCG', 'GCC', 'CAA', 'CAT', 'CAG', 'CAC', 'CTA', 'CTT', 'CTG', 'CTC', 'CGA', 'CGT', 'CGG', 'CGC', 'CCA', 'CCT', 'CCG', 'CCC']\n"
     ]
    }
   ],
   "source": [
    "dna = \"AATGATCGATCGTACGCTGA\"\n",
    "all_trinucleotides = []\n",
    "all_counts = []\n",
    "for base1 in ['A', 'T', 'G', 'C']:\n",
    "    for base2 in ['A', 'T', 'G', 'C']:\n",
    "           for base3 in ['A', 'T', 'G', 'C']:\n",
    "              trinucleotide = base1 + base2 + base3\n",
    "              count = dna.count(trinucleotide)\n",
    "              all_trinucleotides.append(trinucleotide)\n",
    "              all_counts.append(count)\n",
    "print(all_counts)\n",
    "print(all_trinucleotides)\n"
   ]
  },
  {
   "cell_type": "code",
   "execution_count": 3,
   "id": "39cb4176-26ce-458f-8810-d25ac246ce9d",
   "metadata": {},
   "outputs": [
    {
     "name": "stdout",
     "output_type": "stream",
     "text": [
      "count for TGA is 2\n"
     ]
    }
   ],
   "source": [
    "# with this, you can index the two lists in the same way \n",
    "i = all_trinucleotides.index('TGA')\n",
    "c = all_counts[i]\n",
    "print('count for TGA is ' + str(c))"
   ]
  },
  {
   "cell_type": "code",
   "execution_count": null,
   "id": "82744f9f-923c-472b-a0c7-ed9fe80fdbfa",
   "metadata": {},
   "outputs": [],
   "source": [
    "# but this requires you to make sure neither list changes at all \n",
    "# also too slow \n",
    "# To find the index of a given trinucleotide in the all_trinucleotides list,\n",
    "# Python has to look at each element one at a time until it finds the one we're looking for. \n",
    "# This means that as the size of the list grows, the time taken to look up the count for a \n",
    "# given element will grow alongside it"
   ]
  },
  {
   "cell_type": "code",
   "execution_count": null,
   "id": "6ae2b1c0-078a-4a32-ba25-d33c17cd7b54",
   "metadata": {},
   "outputs": [],
   "source": [
    "# what we want is a way to store pairs of data \n",
    "# this is a key and value pair, in a dictionary"
   ]
  },
  {
   "cell_type": "code",
   "execution_count": null,
   "id": "5cf9afe7-3ab2-4c48-883b-8b4319672dfb",
   "metadata": {},
   "outputs": [],
   "source": [
    "# creating a dictionary \n",
    "# Each pair of data, consisting of a key and a value, is called an item"
   ]
  },
  {
   "cell_type": "code",
   "execution_count": 1,
   "id": "32b37b35-66bc-4345-b8ce-ef47e8f554ea",
   "metadata": {},
   "outputs": [],
   "source": [
    "# you can make a dictionary like this:\n",
    "enzymes = { 'EcoRI':r'GAATTC', 'AvaII':r'GG(A|T)CC', 'BisI':'GC[ATGC]GC' }\n",
    "# or like this: \n",
    "enzymes = {\n",
    "   'EcoRI' : r'GAATTC',\n",
    "   'AvaII' : r'GG(A|T)CC',\n",
    "   'BisI'  : r'GC[ATGC]GC'\n",
    "}"
   ]
  },
  {
   "cell_type": "code",
   "execution_count": 2,
   "id": "86270b57-2c32-468d-852c-394706cb2f61",
   "metadata": {},
   "outputs": [
    {
     "name": "stdout",
     "output_type": "stream",
     "text": [
      "GC[ATGC]GC\n"
     ]
    }
   ],
   "source": [
    "# how to retreive information (the value)\n",
    "print(enzymes['BisI'])\n",
    "# looks very similar to using a list, but instead of giving the index of the element we want,\n",
    "# we're giving the key for the value that we want to retrieve"
   ]
  },
  {
   "cell_type": "code",
   "execution_count": null,
   "id": "4cc14b00-5991-4453-b59b-52de8d019270",
   "metadata": {},
   "outputs": [],
   "source": [
    "# keys have to be strings or numbers \n",
    "# and you cannot use a key twice \n",
    "# but the value can be anything "
   ]
  },
  {
   "cell_type": "code",
   "execution_count": 5,
   "id": "0b803a32-1aa1-4c22-be51-6dd242dff42c",
   "metadata": {},
   "outputs": [
    {
     "ename": "SyntaxError",
     "evalue": "invalid syntax (4016866751.py, line 5)",
     "output_type": "error",
     "traceback": [
      "\u001b[0;36m  Input \u001b[0;32mIn [6]\u001b[0;36m\u001b[0m\n\u001b[0;31m    enzymes['AvaII] =  r'GG(AT)CC'\u001b[0m\n\u001b[0m                         ^\u001b[0m\n\u001b[0;31mSyntaxError\u001b[0m\u001b[0;31m:\u001b[0m invalid syntax\n"
     ]
    }
   ],
   "source": [
    "# most often you'll want to create an empty dictionary and write to it over time \n",
    "\n",
    "enzymes = {}\n",
    "enzymes['EcoRI'] = r'GAATTC'\n",
    "enzymes['AvaII] =  r'GG(A|T)CC'\n",
    "enzymes['BisI'] =  r'GC[ATGC]GC'"
   ]
  },
  {
   "cell_type": "code",
   "execution_count": 7,
   "id": "b7cd4815-33fe-4d47-9be3-8c82e63dfa8a",
   "metadata": {},
   "outputs": [
    {
     "data": {
      "text/plain": [
       "'GAATTC'"
      ]
     },
     "execution_count": 7,
     "metadata": {},
     "output_type": "execute_result"
    }
   ],
   "source": [
    "# remove a key from the dictionary \n",
    "# also tells you the value \n",
    "enzymes = {\n",
    "   'EcoRI' : r'GAATTC',\n",
    "   'AvaII' : r'GG(A|T)CC',\n",
    "   'BisI'  : r'GC[ATGC]GC'\n",
    "}\n",
    "# remove the EcoRI enzyme from the dict\n",
    "enzymes.pop('EcoRI')"
   ]
  },
  {
   "cell_type": "code",
   "execution_count": null,
   "id": "b02df504-fe21-4941-8415-d8913c6c7912",
   "metadata": {},
   "outputs": [],
   "source": [
    "# how to do the trinucleotide count from above with a dictionary "
   ]
  },
  {
   "cell_type": "code",
   "execution_count": 8,
   "id": "87f5da48-ddab-4744-97c9-7c2afd8b3061",
   "metadata": {},
   "outputs": [
    {
     "name": "stdout",
     "output_type": "stream",
     "text": [
      "{'AAA': 0, 'AAT': 1, 'AAG': 0, 'AAC': 0, 'ATA': 0, 'ATT': 0, 'ATG': 1, 'ATC': 2, 'AGA': 0, 'AGT': 0, 'AGG': 0, 'AGC': 0, 'ACA': 0, 'ACT': 0, 'ACG': 1, 'ACC': 0, 'TAA': 0, 'TAT': 0, 'TAG': 0, 'TAC': 1, 'TTA': 0, 'TTT': 0, 'TTG': 0, 'TTC': 0, 'TGA': 2, 'TGT': 0, 'TGG': 0, 'TGC': 0, 'TCA': 0, 'TCT': 0, 'TCG': 2, 'TCC': 0, 'GAA': 0, 'GAT': 2, 'GAG': 0, 'GAC': 0, 'GTA': 1, 'GTT': 0, 'GTG': 0, 'GTC': 0, 'GGA': 0, 'GGT': 0, 'GGG': 0, 'GGC': 0, 'GCA': 0, 'GCT': 1, 'GCG': 0, 'GCC': 0, 'CAA': 0, 'CAT': 0, 'CAG': 0, 'CAC': 0, 'CTA': 0, 'CTT': 0, 'CTG': 1, 'CTC': 0, 'CGA': 1, 'CGT': 1, 'CGG': 0, 'CGC': 1, 'CCA': 0, 'CCT': 0, 'CCG': 0, 'CCC': 0}\n"
     ]
    }
   ],
   "source": [
    "dna = \"AATGATCGATCGTACGCTGA\"\n",
    "counts = {} # make an empty dictionary \n",
    "for base1 in ['A', 'T', 'G', 'C']:\n",
    "    for base2 in ['A', 'T', 'G', 'C']:\n",
    "       for base3 in ['A', 'T', 'G', 'C']:\n",
    "           trinucleotide = base1 + base2 + base3\n",
    "           count = dna.count(trinucleotide)\n",
    "           counts[trinucleotide] = count\n",
    "print(counts)"
   ]
  },
  {
   "cell_type": "code",
   "execution_count": 9,
   "id": "550cc255-b949-42a7-809b-4553d741eab0",
   "metadata": {},
   "outputs": [
    {
     "name": "stdout",
     "output_type": "stream",
     "text": [
      "2\n"
     ]
    }
   ],
   "source": [
    "# you can easily look up a count of a specific trinucleotide \n",
    "print(counts['TGA'])"
   ]
  },
  {
   "cell_type": "code",
   "execution_count": 10,
   "id": "b457cc77-221c-4296-bcd8-a51d8766b757",
   "metadata": {},
   "outputs": [
    {
     "name": "stdout",
     "output_type": "stream",
     "text": [
      "{'AAT': 1, 'ATG': 1, 'ATC': 2, 'ACG': 1, 'TAC': 1, 'TGA': 2, 'TCG': 2, 'GAT': 2, 'GTA': 1, 'GCT': 1, 'CTG': 1, 'CGA': 1, 'CGT': 1, 'CGC': 1}\n"
     ]
    }
   ],
   "source": [
    "# what if you don't want to have all those zeros in there \n",
    "dna = \"AATGATCGATCGTACGCTGA\"\n",
    "counts = {}\n",
    "for base1 in ['A', 'T', 'G', 'C']:\n",
    "    for base2 in ['A', 'T', 'G', 'C']:\n",
    "       for base3 in ['A', 'T', 'G', 'C']:\n",
    "           trinucleotide = base1 + base2 + base3\n",
    "           count = dna.count(trinucleotide)\n",
    "           if count > 0:\n",
    "                counts[trinucleotide] = count\n",
    "print(counts)"
   ]
  },
  {
   "cell_type": "code",
   "execution_count": 11,
   "id": "e8665eda-7b4d-4986-9ded-03c08c7d2d9c",
   "metadata": {},
   "outputs": [
    {
     "name": "stdout",
     "output_type": "stream",
     "text": [
      "2\n"
     ]
    }
   ],
   "source": [
    "# if you look up a trinuc that has a number it prints out fine \n",
    "print(counts['TGA'])"
   ]
  },
  {
   "cell_type": "code",
   "execution_count": 12,
   "id": "539352d4-3068-40f7-acd5-026898b6774f",
   "metadata": {},
   "outputs": [
    {
     "ename": "KeyError",
     "evalue": "'AAA'",
     "output_type": "error",
     "traceback": [
      "\u001b[0;31m---------------------------------------------------------------------------\u001b[0m",
      "\u001b[0;31mKeyError\u001b[0m                                  Traceback (most recent call last)",
      "Input \u001b[0;32mIn [12]\u001b[0m, in \u001b[0;36m<cell line: 2>\u001b[0;34m()\u001b[0m\n\u001b[1;32m      1\u001b[0m \u001b[38;5;66;03m# but if you look up a trinuc that is zero it gives you an error \u001b[39;00m\n\u001b[0;32m----> 2\u001b[0m \u001b[38;5;28mprint\u001b[39m(\u001b[43mcounts\u001b[49m\u001b[43m[\u001b[49m\u001b[38;5;124;43m'\u001b[39;49m\u001b[38;5;124;43mAAA\u001b[39;49m\u001b[38;5;124;43m'\u001b[39;49m\u001b[43m]\u001b[49m)\n",
      "\u001b[0;31mKeyError\u001b[0m: 'AAA'"
     ]
    }
   ],
   "source": [
    "# but if you look up a trinuc that is zero it gives you an error \n",
    "print(counts['AAA'])"
   ]
  },
  {
   "cell_type": "code",
   "execution_count": 14,
   "id": "97896514-9432-4a33-a550-b4b193c28ffc",
   "metadata": {},
   "outputs": [],
   "source": [
    "# you can use an if statement to check if a trinuc exitsts if you don't want an error \n",
    "if 'AAA' in counts:\n",
    "    print(counts('AAA'))"
   ]
  },
  {
   "cell_type": "code",
   "execution_count": null,
   "id": "efc1ab86-3c9e-4dcd-8711-7baac5dabdae",
   "metadata": {},
   "outputs": [],
   "source": [
    "# but that won't print anything if it's not there (unless you do an else)"
   ]
  },
  {
   "cell_type": "code",
   "execution_count": null,
   "id": "941be6bc-563c-495b-b420-3d515a34e539",
   "metadata": {},
   "outputs": [],
   "source": [
    "# you can use the get method\n",
    "# it works just like square brackets if used like this"
   ]
  },
  {
   "cell_type": "code",
   "execution_count": 15,
   "id": "8ec7b5dd-46e4-4016-9f53-264c392ca660",
   "metadata": {},
   "outputs": [
    {
     "name": "stdout",
     "output_type": "stream",
     "text": [
      "2\n",
      "2\n"
     ]
    }
   ],
   "source": [
    "print(counts['TGA'])\n",
    "print(counts.get('TGA'))"
   ]
  },
  {
   "cell_type": "code",
   "execution_count": null,
   "id": "072c5781-3a8d-4678-a212-a375c27a4f0c",
   "metadata": {},
   "outputs": [],
   "source": [
    "# but it also takes an optional second argument \n",
    "# which is the default value to be returned if the key isn't present in the dictionary"
   ]
  },
  {
   "cell_type": "code",
   "execution_count": 16,
   "id": "e06492c4-c67f-45a5-b240-ff7d8b8d8008",
   "metadata": {},
   "outputs": [
    {
     "name": "stdout",
     "output_type": "stream",
     "text": [
      "count for TGA is 2\n",
      "count for AAA is 0\n",
      "count for GTA is 1\n",
      "count for TTT is 0\n"
     ]
    }
   ],
   "source": [
    "# we know if the trinuc is not in the dictionary, then the count is 0 \n",
    "print(\"count for TGA is \" + str(counts.get('TGA', 0)))\n",
    "print(\"count for AAA is \" + str(counts.get('AAA', 0)))\n",
    "print(\"count for GTA is \" + str(counts.get('GTA', 0)))\n",
    "print(\"count for TTT is \" + str(counts.get('TTT', 0)))"
   ]
  },
  {
   "cell_type": "code",
   "execution_count": 17,
   "id": "f3675c1d-df5a-4434-9cc7-531c26fb41a6",
   "metadata": {},
   "outputs": [
    {
     "name": "stdout",
     "output_type": "stream",
     "text": [
      "ATC\n",
      "TGA\n",
      "TCG\n",
      "GAT\n"
     ]
    }
   ],
   "source": [
    "# what if we wanted to take our counts dictionary variable from \n",
    "# the code above and print out all trinucleotides where the count was 2\n",
    "# we can add that into the loop\n",
    "for base1 in ['A', 'T', 'G', 'C']:\n",
    "    for base2 in ['A', 'T', 'G', 'C']:\n",
    "       for base3 in ['A', 'T', 'G', 'C']:\n",
    "           trinucleotide = base1 + base2 + base3\n",
    "           if counts.get(trinucleotide, 0) == 2:\n",
    "              print(trinucleotide)"
   ]
  },
  {
   "cell_type": "code",
   "execution_count": null,
   "id": "5e667224-6a36-4d0c-b30f-b5dfebfbad87",
   "metadata": {},
   "outputs": [],
   "source": [
    "# But it seems inefficient to go through the whole process of generating all possible trinucleotides again\n",
    "# we can use the keys method instead"
   ]
  },
  {
   "cell_type": "code",
   "execution_count": 18,
   "id": "39c1a1d8-6dfd-487a-a334-bb0e7e78fd7a",
   "metadata": {},
   "outputs": [
    {
     "name": "stdout",
     "output_type": "stream",
     "text": [
      "dict_keys(['AAT', 'ATG', 'ATC', 'ACG', 'TAC', 'TGA', 'TCG', 'GAT', 'GTA', 'GCT', 'CTG', 'CGA', 'CGT', 'CGC'])\n"
     ]
    }
   ],
   "source": [
    "# When used on a dictionary, the keys method returns a list of all the keys in the dictionary\n",
    "print(counts.keys())"
   ]
  },
  {
   "cell_type": "code",
   "execution_count": 19,
   "id": "e545487d-22b1-4eb5-89ca-0ab4d9e9784d",
   "metadata": {},
   "outputs": [
    {
     "name": "stdout",
     "output_type": "stream",
     "text": [
      "ATC\n",
      "TGA\n",
      "TCG\n",
      "GAT\n"
     ]
    }
   ],
   "source": [
    "# now it is easy to make code hat prints all trinucs with counts of 2 \n",
    "for trinucleotide in counts.keys():\n",
    "    if counts.get(trinucleotide) == 2:\n",
    "       print(trinucleotide)"
   ]
  },
  {
   "cell_type": "code",
   "execution_count": null,
   "id": "c450f471-5329-44c7-a2b6-a8b0574188fc",
   "metadata": {},
   "outputs": [],
   "source": [
    "# important note: dictionaries are inherently unordered \n",
    "# when we use the keys method to iterate over a dictionary, \n",
    "# we can't rely on processing the items in the same order that we added them"
   ]
  },
  {
   "cell_type": "code",
   "execution_count": 20,
   "id": "440ea7d0-2015-4e93-b32b-68545674f350",
   "metadata": {},
   "outputs": [
    {
     "name": "stdout",
     "output_type": "stream",
     "text": [
      "ATC\n",
      "GAT\n",
      "TCG\n",
      "TGA\n"
     ]
    }
   ],
   "source": [
    "# If we want to control the order in which keys are printed we can use the sorted method \n",
    "# to sort the list before processing it\n",
    "for trinucleotide in sorted(counts.keys()):\n",
    "    if counts.get(trinucleotide) == 2:\n",
    "       print(trinucleotide)"
   ]
  },
  {
   "cell_type": "code",
   "execution_count": null,
   "id": "42b50af4-a735-4989-bb9e-f833e8a5f7fb",
   "metadata": {},
   "outputs": [],
   "source": [
    "# In the example code above, the first thing we need to do inside the loop is to look up the value \n",
    "# for the current key. This is a very common pattern when iterating over dictionaries – \n",
    "# so common, in fact, that Python has a special shorthand for it\n",
    "# this is how you could do it \n",
    "# for key in my_dict.keys():\n",
    "    # value = my_dict.get(key)\n",
    "    # do something with key and value"
   ]
  },
  {
   "cell_type": "code",
   "execution_count": null,
   "id": "3960d103-0535-4277-9d5d-b2dd0c259170",
   "metadata": {},
   "outputs": [],
   "source": [
    "# but you can also use the items method to iterate over pairs of data \n",
    "# for key, value in my_dict.items():\n",
    "   # do something with key and value"
   ]
  },
  {
   "cell_type": "code",
   "execution_count": null,
   "id": "12cbc275-a7f1-4dc6-9d21-073b2a31f0c1",
   "metadata": {},
   "outputs": [],
   "source": [
    "# the items method returns a pair of values, so you have to give it two variable names \n",
    "# at the start of the loop"
   ]
  },
  {
   "cell_type": "code",
   "execution_count": 21,
   "id": "a315b38e-f78c-4cd3-8e09-95775e9537bc",
   "metadata": {},
   "outputs": [
    {
     "name": "stdout",
     "output_type": "stream",
     "text": [
      "ATC\n",
      "TGA\n",
      "TCG\n",
      "GAT\n"
     ]
    }
   ],
   "source": [
    "# this does the same thing as code above \n",
    "for trinucleotide, count in counts.items():\n",
    "    if count == 2:\n",
    "       print(trinucleotide)"
   ]
  },
  {
   "cell_type": "markdown",
   "id": "e686d0bb-954c-42e8-82f5-dc778e33295c",
   "metadata": {},
   "source": [
    "Exerciese: DNA translation "
   ]
  },
  {
   "cell_type": "code",
   "execution_count": null,
   "id": "bd53bc02-e5b6-4cc6-a47e-3ee25cd4eef4",
   "metadata": {},
   "outputs": [],
   "source": [
    "# Write a program that will translate a DNA sequence into protein. \n",
    "# Your program should use the standard genetic code which can be found:\n",
    "# https://www.ncbi.nlm.nih.gov/Taxonomy/taxonomyhome.html/index.cgi?chapter=tgencodes#SG1"
   ]
  },
  {
   "cell_type": "code",
   "execution_count": null,
   "id": "c58341d3-2232-4b77-96fa-74e0626f4966",
   "metadata": {},
   "outputs": [],
   "source": [
    "# thoughts\n",
    "# need to make a dictionary for all the trinucs to protein codes \n",
    "# should make a function to take a DNA sequence and split into trinucleotides(?)\n",
    "# or maybe use the code above to make a dictionary of all codons in the sequence? \n",
    "# can't do a find and replace because it has to go in specific order... "
   ]
  },
  {
   "cell_type": "code",
   "execution_count": 1,
   "id": "c92899f1-048c-4bc2-8ec2-5e0846d33606",
   "metadata": {},
   "outputs": [],
   "source": [
    "# start by making a dictionary of all the trinucleotides and their proteins \n",
    "protein_code = {\n",
    "    \"TTT\" : r\"Phe\",\n",
    "    \"TTC\" : r\"Phe\",\n",
    "    \"TTA\" : r\"Leu\",\n",
    "    \"TTG\" : r\"Leu\",\n",
    "    \"CTT\" : r\"Leu\",\n",
    "    \"CTC\" : r\"Leu\",\n",
    "    \"CTA\" : r\"Leu\",\n",
    "    \"CTG\" : r\"Leu\",\n",
    "    \"ATT\" : r\"Ile\",\n",
    "    \"ATC\" : r\"Ile\",\n",
    "    \"ATA\" : r\"Ile\",\n",
    "    \"ATG\" : r\"Met\",\n",
    "    \"GTT\" : r\"Val\",\n",
    "    \"GTC\" : r\"Val\",\n",
    "    \"GTA\" : r\"Val\",\n",
    "    \"GTG\" : r\"Val\",\n",
    "    \"TCT\" : r\"Ser\",\n",
    "    \"TCC\" : r\"Ser\",\n",
    "    \"TCA\" : r\"Ser\",\n",
    "    \"TCG\" : r\"Ser\",\n",
    "    \"CCT\" : r\"Pro\",\n",
    "    \"CCC\" : r\"Pro\",\n",
    "    \"CCA\" : r\"Pro\",\n",
    "    \"CCG\" : r\"Pro\",\n",
    "    \"ACT\" : r\"Thr\",\n",
    "    \"ACC\" : r\"Thr\",\n",
    "    \"ACA\" : r\"Thr\",\n",
    "    \"ACG\" : r\"Thr\",\n",
    "    \"GCT\" : r\"Ala\",\n",
    "    \"GCC\" : r\"Ala\",\n",
    "    \"GCA\" : r\"Ala\",\n",
    "    \"GCG\" : r\"Ala\",\n",
    "    \"TAT\" : r\"Tyr\",\n",
    "    \"TAC\" : r\"Tyr\",\n",
    "    \"TAA\" : r\"Ter\",\n",
    "    \"TAG\" : r\"Ter\",\n",
    "    \"CAT\" : r\"His\",\n",
    "    \"CAC\" : r\"His\",\n",
    "    \"CAA\" : r\"Gln\",\n",
    "    \"CAG\" : r\"Gln\",\n",
    "    \"AAT\" : r\"Asn\",\n",
    "    \"AAC\" : r\"Asn\",\n",
    "    \"AAA\" : r\"Lys\",\n",
    "    \"AAG\" : r\"Lys\",\n",
    "    \"GAT\" : r\"Asp\",\n",
    "    \"GAC\" : r\"Asp\",\n",
    "    \"GAA\" : r\"Glu\",\n",
    "    \"GAG\" : r\"Glu\",\n",
    "    \"TGT\" : r\"Cys\",\n",
    "    \"TGC\" : r\"Cys\",\n",
    "    \"TGA\" : r\"Ter\",\n",
    "    \"TGG\" : r\"Trp\",\n",
    "    \"CGT\" : r\"Arg\",\n",
    "    \"CGC\" : r\"Arg\",\n",
    "    \"CGA\" : r\"Arg\",\n",
    "    \"CGG\" : r\"Arg\",\n",
    "    \"AGT\" : r\"Ser\",\n",
    "    \"AGC\" : r\"Ser\",\n",
    "    \"AGA\" : r\"Arg\",\n",
    "    \"AGG\" : r\"Arg\",\n",
    "    \"GGT\" : r\"Gly\",\n",
    "    \"GGC\" : r\"Gly\",\n",
    "    \"GGA\" : r\"Gly\",\n",
    "    \"GGG\" : r\"Gly\"\n",
    "}"
   ]
  },
  {
   "cell_type": "code",
   "execution_count": 2,
   "id": "311c81d0-a7d0-4b95-a5f8-32042aa28996",
   "metadata": {},
   "outputs": [],
   "source": [
    "# I did some googling to help me figure out a way to split up a DNA sequence into codons \n",
    "# https://stackoverflow.com/questions/41006466/how-to-split-up-a-string-every-every-three-indices-either-starting-at-index-0-1\n",
    "\n",
    "def codons(seq,frame):\n",
    "    n = len(seq)\n",
    "    for i in range(frame - 1, n - 2, 3):\n",
    "        yield seq[i:i+3]"
   ]
  },
  {
   "cell_type": "code",
   "execution_count": 88,
   "id": "36e6c848-5ddb-413c-b552-6ddf389e1d4a",
   "metadata": {},
   "outputs": [
    {
     "name": "stdout",
     "output_type": "stream",
     "text": [
      "CTC\n",
      "TTG\n",
      "AGG\n",
      "CGG\n",
      "CGA\n",
      "CGC\n",
      "TGA\n",
      "TGT\n",
      "TAG\n",
      "ACG\n",
      "CCG\n",
      "GTG\n",
      "CTC\n",
      "ATG\n",
      "AGT\n",
      "AAC\n"
     ]
    }
   ],
   "source": [
    "test = 'CTCTTGAGGCGGCGACGCTGATGTTAGACGCCGGTGCTCATGAGTAAC' # make a test sequence \n",
    "# I can make it print all the codons \n",
    "for codon in codons(test,1): print(codon)"
   ]
  },
  {
   "cell_type": "code",
   "execution_count": 89,
   "id": "4716cf97-33f2-44c6-b374-18631f03ad1c",
   "metadata": {},
   "outputs": [
    {
     "name": "stdout",
     "output_type": "stream",
     "text": [
      "['CTC', 'TTG', 'AGG', 'CGG', 'CGA', 'CGC', 'TGA', 'TGT', 'TAG', 'ACG', 'CCG', 'GTG', 'CTC', 'ATG', 'AGT', 'AAC']\n",
      "['CTC', 'TTG', 'AGG', 'CGG', 'CGA', 'CGC', 'TGA', 'TGT', 'TAG', 'ACG', 'CCG', 'GTG', 'CTC', 'ATG', 'AGT', 'AAC']\n"
     ]
    }
   ],
   "source": [
    "# can also make it into a list \n",
    "# and I can save that list\n",
    "# I think this is what I will need \n",
    "for i in range(1,2):\n",
    "    print(list(codons(test,i)))\n",
    "    sequence_codons = list(codons(test,i))\n",
    "    \n",
    "print(sequence_codons)"
   ]
  },
  {
   "cell_type": "code",
   "execution_count": 95,
   "id": "a5878924-3bd3-4c8e-8738-33eae9e6edd0",
   "metadata": {},
   "outputs": [
    {
     "ename": "IndexError",
     "evalue": "list index out of range",
     "output_type": "error",
     "traceback": [
      "\u001b[0;31m---------------------------------------------------------------------------\u001b[0m",
      "\u001b[0;31mIndexError\u001b[0m                                Traceback (most recent call last)",
      "Input \u001b[0;32mIn [95]\u001b[0m, in \u001b[0;36m<cell line: 7>\u001b[0;34m()\u001b[0m\n\u001b[1;32m      1\u001b[0m \u001b[38;5;66;03m# I went to google again to figure out how to replace items in a list with key value pairs \u001b[39;00m\n\u001b[1;32m      2\u001b[0m \u001b[38;5;66;03m# https://stackoverflow.com/questions/59154213/how-to-replace-items-in-list-with-a-keys-from-dictionary-in-python\u001b[39;00m\n\u001b[1;32m      3\u001b[0m \n\u001b[1;32m      4\u001b[0m \u001b[38;5;66;03m# this doesn't like it if not all the trinucs are in the list....  \u001b[39;00m\n\u001b[1;32m      5\u001b[0m \u001b[38;5;66;03m# need to remove a key from the dictionary if it's not in the sequence\u001b[39;00m\n\u001b[1;32m      7\u001b[0m \u001b[38;5;28;01mfor\u001b[39;00m key, value \u001b[38;5;129;01min\u001b[39;00m protein_code\u001b[38;5;241m.\u001b[39mitems(): \n\u001b[1;32m      8\u001b[0m     \u001b[38;5;66;03m#index = sequence_codons.index(key)\u001b[39;00m\n\u001b[0;32m----> 9\u001b[0m     \u001b[38;5;28;01mif\u001b[39;00m key \u001b[38;5;241m!=\u001b[39m \u001b[43msequence_codons\u001b[49m\u001b[43m[\u001b[49m\u001b[43mindex\u001b[49m\u001b[43m]\u001b[49m: \n\u001b[1;32m     10\u001b[0m         protein_code\u001b[38;5;241m.\u001b[39mpop(key)\n\u001b[1;32m     11\u001b[0m         \u001b[38;5;28mprint\u001b[39m(protein_code)\n",
      "\u001b[0;31mIndexError\u001b[0m: list index out of range"
     ]
    }
   ],
   "source": [
    "# I went to google again to figure out how to replace items in a list with key value pairs \n",
    "# https://stackoverflow.com/questions/59154213/how-to-replace-items-in-list-with-a-keys-from-dictionary-in-python\n",
    "\n",
    "# this doesn't like it if not all the trinucs are in the list....  \n",
    "# need to remove a key from the dictionary if it's not in the sequence\n",
    "\n",
    "for key, value in protein_code.items(): \n",
    "    #index = sequence_codons.index(key)\n",
    "    if key != sequence_codons[index]: \n",
    "        protein_code.pop(key)\n",
    "        print(protein_code)\n",
    "    #sequence_codons[index] = value\n",
    "    #print(sequence_condons)"
   ]
  },
  {
   "cell_type": "code",
   "execution_count": 23,
   "id": "2722b7b5-e838-48b8-8e8b-1c41289c717e",
   "metadata": {},
   "outputs": [
    {
     "data": {
      "text/plain": [
       "{'Phe': 'TTC',\n",
       " 'Leu': 'CTG',\n",
       " 'Ile': 'ATA',\n",
       " 'Met': 'ATG',\n",
       " 'Val': 'GTG',\n",
       " 'Ser': 'AGC',\n",
       " 'Pro': 'CCG',\n",
       " 'Thr': 'ACG',\n",
       " 'Ala': 'GCG',\n",
       " 'Tyr': 'TAC',\n",
       " 'Ter': 'TGA',\n",
       " 'His': 'CAC',\n",
       " 'Gln': 'CAG',\n",
       " 'Asn': 'AAC',\n",
       " 'Lys': 'AAG',\n",
       " 'Asp': 'GAC',\n",
       " 'Glu': 'GAG',\n",
       " 'Cys': 'TGC',\n",
       " 'Trp': 'TGG',\n",
       " 'Arg': 'AGG',\n",
       " 'Gly': 'GGG'}"
      ]
     },
     "execution_count": 23,
     "metadata": {},
     "output_type": "execute_result"
    }
   ],
   "source": [
    "# cannot do the method that reverses the dictionary because there are multiple codons for each AA\n",
    "# reversed_dict = {protein_code[k]:k for k in protein_code}\n",
    "# reversed_dict\n",
    "# result = [reversed_dict[elem] for elem in sequence_codons]"
   ]
  },
  {
   "cell_type": "code",
   "execution_count": 24,
   "id": "fbacc4c0-c46e-4a3a-9803-f6c364b90af1",
   "metadata": {},
   "outputs": [
    {
     "ename": "ValueError",
     "evalue": "'Phe' is not in list",
     "output_type": "error",
     "traceback": [
      "\u001b[0;31m---------------------------------------------------------------------------\u001b[0m",
      "\u001b[0;31mValueError\u001b[0m                                Traceback (most recent call last)",
      "Input \u001b[0;32mIn [24]\u001b[0m, in \u001b[0;36m<cell line: 1>\u001b[0;34m()\u001b[0m\n\u001b[0;32m----> 1\u001b[0m [key \u001b[38;5;28;01mfor\u001b[39;00m key, value \u001b[38;5;129;01min\u001b[39;00m \u001b[38;5;28;43msorted\u001b[39;49m\u001b[43m(\u001b[49m\u001b[43mprotein_code\u001b[49m\u001b[38;5;241;43m.\u001b[39;49m\u001b[43mitems\u001b[49m\u001b[43m(\u001b[49m\u001b[43m)\u001b[49m\u001b[43m,\u001b[49m\u001b[43m \u001b[49m\u001b[43mkey\u001b[49m\u001b[43m \u001b[49m\u001b[38;5;241;43m=\u001b[39;49m\u001b[43m \u001b[49m\u001b[38;5;28;43;01mlambda\u001b[39;49;00m\u001b[43m \u001b[49m\u001b[43mx\u001b[49m\u001b[43m:\u001b[49m\u001b[43msequence_codons\u001b[49m\u001b[38;5;241;43m.\u001b[39;49m\u001b[43mindex\u001b[49m\u001b[43m(\u001b[49m\u001b[43mx\u001b[49m\u001b[43m[\u001b[49m\u001b[38;5;241;43m1\u001b[39;49m\u001b[43m]\u001b[49m\u001b[43m)\u001b[49m\u001b[43m)\u001b[49m]\n",
      "Input \u001b[0;32mIn [24]\u001b[0m, in \u001b[0;36m<lambda>\u001b[0;34m(x)\u001b[0m\n\u001b[0;32m----> 1\u001b[0m [key \u001b[38;5;28;01mfor\u001b[39;00m key, value \u001b[38;5;129;01min\u001b[39;00m \u001b[38;5;28msorted\u001b[39m(protein_code\u001b[38;5;241m.\u001b[39mitems(), key \u001b[38;5;241m=\u001b[39m \u001b[38;5;28;01mlambda\u001b[39;00m x:\u001b[43msequence_codons\u001b[49m\u001b[38;5;241;43m.\u001b[39;49m\u001b[43mindex\u001b[49m\u001b[43m(\u001b[49m\u001b[43mx\u001b[49m\u001b[43m[\u001b[49m\u001b[38;5;241;43m1\u001b[39;49m\u001b[43m]\u001b[49m\u001b[43m)\u001b[49m)]\n",
      "\u001b[0;31mValueError\u001b[0m: 'Phe' is not in list"
     ]
    }
   ],
   "source": [
    "[key for key, value in sorted(protein_code.items(), key = lambda x:sequence_codons.index(x[1]))]"
   ]
  },
  {
   "cell_type": "code",
   "execution_count": 26,
   "id": "38475ca5-1c40-4dfb-8ef9-1f7dd4225616",
   "metadata": {},
   "outputs": [
    {
     "ename": "AttributeError",
     "evalue": "'list' object has no attribute 'replace'",
     "output_type": "error",
     "traceback": [
      "\u001b[0;31m---------------------------------------------------------------------------\u001b[0m",
      "\u001b[0;31mAttributeError\u001b[0m                            Traceback (most recent call last)",
      "Input \u001b[0;32mIn [26]\u001b[0m, in \u001b[0;36m<cell line: 1>\u001b[0;34m()\u001b[0m\n\u001b[1;32m      1\u001b[0m \u001b[38;5;28;01mfor\u001b[39;00m AA, replacement \u001b[38;5;129;01min\u001b[39;00m protein_code\u001b[38;5;241m.\u001b[39mitems():\n\u001b[0;32m----> 2\u001b[0m     test_protein \u001b[38;5;241m=\u001b[39m \u001b[43msequence_condons\u001b[49m\u001b[38;5;241;43m.\u001b[39;49m\u001b[43mreplace\u001b[49m(AA, replacement)\n",
      "\u001b[0;31mAttributeError\u001b[0m: 'list' object has no attribute 'replace'"
     ]
    }
   ],
   "source": [
    "for AA, replacement in protein_code.items():\n",
    "    test_protein = sequence_condons.replace(AA, replacement)"
   ]
  },
  {
   "cell_type": "code",
   "execution_count": 33,
   "id": "dd67df33-ae3d-4c5f-9da7-4e5718c8c5fb",
   "metadata": {},
   "outputs": [],
   "source": [
    "for key, val in protein_code.items():\n",
    "    for i, v in enumerate(sequence_codons):\n",
    "        if v == val:\n",
    "            sequence_conds[i] = key\n",
    "            sequence_conds\n"
   ]
  },
  {
   "cell_type": "code",
   "execution_count": 35,
   "id": "09b41e80-fc60-4332-ba9b-129c77828977",
   "metadata": {},
   "outputs": [
    {
     "ename": "TypeError",
     "evalue": "list indices must be integers or slices, not str",
     "output_type": "error",
     "traceback": [
      "\u001b[0;31m---------------------------------------------------------------------------\u001b[0m",
      "\u001b[0;31mTypeError\u001b[0m                                 Traceback (most recent call last)",
      "Input \u001b[0;32mIn [35]\u001b[0m, in \u001b[0;36m<cell line: 2>\u001b[0;34m()\u001b[0m\n\u001b[1;32m      2\u001b[0m \u001b[38;5;28;01mfor\u001b[39;00m trinuc, AA \u001b[38;5;129;01min\u001b[39;00m protein_code\u001b[38;5;241m.\u001b[39mitems():\n\u001b[1;32m      3\u001b[0m     \u001b[38;5;28;01mfor\u001b[39;00m codon \u001b[38;5;129;01min\u001b[39;00m sequence_codons:\n\u001b[0;32m----> 4\u001b[0m         \u001b[38;5;28;01mif\u001b[39;00m \u001b[43msequence_codons\u001b[49m\u001b[43m[\u001b[49m\u001b[43mcodon\u001b[49m\u001b[43m]\u001b[49m \u001b[38;5;241m==\u001b[39m trinuc:\n\u001b[1;32m      5\u001b[0m             sequence_codons[codon] \u001b[38;5;241m=\u001b[39m trinuc\n\u001b[1;32m      6\u001b[0m             \u001b[38;5;28mprint\u001b[39m(sequence_codons)\n",
      "\u001b[0;31mTypeError\u001b[0m: list indices must be integers or slices, not str"
     ]
    }
   ],
   "source": [
    "test_protein = []\n",
    "for trinuc, AA in protein_code.items():\n",
    "    for codon in sequence_codons:\n",
    "        if sequence_codons[codon] == trinuc:\n",
    "            sequence_codons[codon] = trinuc\n",
    "            print(sequence_codons)\n",
    "            "
   ]
  },
  {
   "cell_type": "code",
   "execution_count": null,
   "id": "c7e85277-fe62-4b33-bf0c-14770d2f9cb8",
   "metadata": {},
   "outputs": [],
   "source": [
    "if a_list[i] == 'aple':\n",
    "        a_list[i] = 'apple'"
   ]
  },
  {
   "cell_type": "code",
   "execution_count": null,
   "id": "c10af878-0a76-4c23-978c-a1fbfe0a8733",
   "metadata": {},
   "outputs": [],
   "source": []
  }
 ],
 "metadata": {
  "kernelspec": {
   "display_name": "Python 3 (ipykernel)",
   "language": "python",
   "name": "python3"
  },
  "language_info": {
   "codemirror_mode": {
    "name": "ipython",
    "version": 3
   },
   "file_extension": ".py",
   "mimetype": "text/x-python",
   "name": "python",
   "nbconvert_exporter": "python",
   "pygments_lexer": "ipython3",
   "version": "3.9.12"
  }
 },
 "nbformat": 4,
 "nbformat_minor": 5
}
