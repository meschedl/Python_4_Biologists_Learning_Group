{
 "cells": [
  {
   "cell_type": "markdown",
   "id": "ad0a2d48-f20b-402f-a6d5-8487e7ddef0d",
   "metadata": {},
   "source": [
    "Following along with the chapter "
   ]
  },
  {
   "cell_type": "code",
   "execution_count": null,
   "id": "ec5c69dd-88e7-4b2f-b511-9196f8c227eb",
   "metadata": {},
   "outputs": [],
   "source": [
    "# making a function to get AT content out of a sequence"
   ]
  },
  {
   "cell_type": "code",
   "execution_count": 1,
   "id": "969b08bd-3958-47ab-a7d8-5243b474e26d",
   "metadata": {},
   "outputs": [],
   "source": [
    "def get_at_content(dna):\n",
    "    length = len(dna)\n",
    "    a_count = dna.count('A')\n",
    "    t_count = dna.count('T')\n",
    "    at_content = (a_count + t_count) / length\n",
    "    return at_content"
   ]
  },
  {
   "cell_type": "code",
   "execution_count": null,
   "id": "f6dcef87-89cf-47a2-9a22-835e6c618710",
   "metadata": {},
   "outputs": [],
   "source": [
    "# def means define, then get_at_content(dna) is the function with the argument (dna). The argument is a string. \n",
    "# Everything inside the function is indented in the same way \n",
    "# return says what to output\n",
    "# \"dna\" doesn't mean anything, we put in the sequence or the string"
   ]
  },
  {
   "cell_type": "code",
   "execution_count": 2,
   "id": "5e40d089-a766-4bc0-a153-d54f90162fc9",
   "metadata": {},
   "outputs": [
    {
     "data": {
      "text/plain": [
       "0.5"
      ]
     },
     "execution_count": 2,
     "metadata": {},
     "output_type": "execute_result"
    }
   ],
   "source": [
    "get_at_content(\"ATGACTGGACCA\")"
   ]
  },
  {
   "cell_type": "code",
   "execution_count": 3,
   "id": "acb1ed09-ba85-4d44-8a65-dea063752f0c",
   "metadata": {},
   "outputs": [
    {
     "name": "stdout",
     "output_type": "stream",
     "text": [
      "0.5\n"
     ]
    }
   ],
   "source": [
    "# or define as a variable \n",
    "AT_content = get_at_content(\"ATGACTGGACCA\")\n",
    "print(AT_content)"
   ]
  },
  {
   "cell_type": "code",
   "execution_count": null,
   "id": "dae89d16-805e-4541-940f-dfb44948a5cf",
   "metadata": {},
   "outputs": [],
   "source": [
    "# any variables created inside the function only exist inside the function. Cannot look at t_content"
   ]
  },
  {
   "cell_type": "code",
   "execution_count": 4,
   "id": "2e167cb6-81dc-4ac6-90a1-e0251c8c038d",
   "metadata": {},
   "outputs": [
    {
     "name": "stdout",
     "output_type": "stream",
     "text": [
      "0.45\n",
      "0.5294117647058824\n",
      "0.0\n"
     ]
    }
   ],
   "source": [
    "# Expanding the function \n",
    "def get_at_content(dna):\n",
    "    length = len(dna)\n",
    "    a_count = dna.count('A')\n",
    "    t_count = dna.count('T')\n",
    "    at_content = (a_count + t_count) / length\n",
    "    return at_content\n",
    "\n",
    "my_at_content = get_at_content(\"ATGCGCGATCGATCGAATCG\")\n",
    "print(str(my_at_content))\n",
    "print(get_at_content(\"ATGCATGCAACTGTAGC\"))\n",
    "print(get_at_content(\"aactgtagctagctagcagcgta\"))"
   ]
  },
  {
   "cell_type": "code",
   "execution_count": null,
   "id": "1a84a5b8-d032-4160-8ab5-d06c08db50f8",
   "metadata": {},
   "outputs": [],
   "source": [
    "# too many sig figs, and a 0 value"
   ]
  },
  {
   "cell_type": "code",
   "execution_count": 5,
   "id": "e84b1fb3-e722-475f-a840-ce4e21b361a5",
   "metadata": {},
   "outputs": [
    {
     "name": "stdout",
     "output_type": "stream",
     "text": [
      "0.45\n",
      "0.53\n",
      "0.52\n"
     ]
    }
   ],
   "source": [
    "# can we round the at content to lessent the SF\n",
    "# can we make sure the case of the sequence is always upper\n",
    "def get_at_content(dna):\n",
    "    length = len(dna)\n",
    "    a_count = dna.upper().count('A')\n",
    "    t_count = dna.upper().count('T')\n",
    "    at_content = (a_count + t_count) / length\n",
    "    return round(at_content, 2)\n",
    "my_at_content = get_at_content(\"ATGCGCGATCGATCGAATCG\")\n",
    "print(str(my_at_content))\n",
    "print(get_at_content(\"ATGCATGCAACTGTAGC\"))\n",
    "print(get_at_content(\"aactgtagctagctagcagcgta\"))"
   ]
  },
  {
   "cell_type": "code",
   "execution_count": 6,
   "id": "69528376-6563-4a99-a5c8-2dbcc1682e54",
   "metadata": {},
   "outputs": [
    {
     "name": "stdout",
     "output_type": "stream",
     "text": [
      "0.5\n",
      "0.53\n",
      "0.529\n"
     ]
    }
   ],
   "source": [
    "# what if you want to be able to specify how many significant figures to go to? \n",
    "# you can add in an argument to the function \n",
    "def get_at_content(dna, sig_figs):\n",
    "    length = len(dna)\n",
    "    a_count = dna.upper().count('A')\n",
    "    t_count = dna.upper().count('T')\n",
    "    at_content = (a_count + t_count) / length\n",
    "    return round(at_content, sig_figs)\n",
    "test_dna = \"ATGCATGCAACTGTAGC\"\n",
    "print(get_at_content(test_dna, 1))\n",
    "print(get_at_content(test_dna, 2))\n",
    "print(get_at_content(test_dna, 3))"
   ]
  },
  {
   "cell_type": "code",
   "execution_count": 11,
   "id": "85cf711e-4b8d-40ec-8002-60764944db8e",
   "metadata": {},
   "outputs": [
    {
     "data": {
      "text/plain": [
       "0.53"
      ]
     },
     "execution_count": 11,
     "metadata": {},
     "output_type": "execute_result"
    }
   ],
   "source": [
    "# functions can print instead of return\n",
    "\n",
    "def print_at_content(dna):\n",
    "    length = len(dna)\n",
    "    a_count = dna.upper().count('A')\n",
    "    t_count = dna.upper().count('T')\n",
    "    at_content = (a_count + t_count) / length\n",
    "    print(str(round(at_content, 2)))\n",
    "get_at_content(test_dna,2)"
   ]
  },
  {
   "cell_type": "code",
   "execution_count": null,
   "id": "9bd111ea-ce94-4eb5-b5a2-5138b19243ca",
   "metadata": {},
   "outputs": [],
   "source": [
    "# however calculating the AT content and printing it are two different jobs\n",
    "# want to write functions that do only one job \n",
    "# that way you are able to do anything with the AT content later not just print it "
   ]
  },
  {
   "cell_type": "code",
   "execution_count": 13,
   "id": "5ffcc571-4fd5-45b4-9751-234003de098d",
   "metadata": {},
   "outputs": [
    {
     "data": {
      "text/plain": [
       "0.45"
      ]
     },
     "execution_count": 13,
     "metadata": {},
     "output_type": "execute_result"
    }
   ],
   "source": [
    "# you can also call functions with keyword arguments \n",
    "get_at_content(dna=\"ATCGTGACTCG\", sig_figs=2)\n",
    "# order doesn't matter because you specify the arguments \n",
    "get_at_content(sig_figs=2, dna=\"ATCGTGACTCG\")"
   ]
  },
  {
   "cell_type": "code",
   "execution_count": 15,
   "id": "19df5f52-59ac-4879-b75d-ec5069bff3be",
   "metadata": {},
   "outputs": [
    {
     "data": {
      "text/plain": [
       "0.4545"
      ]
     },
     "execution_count": 15,
     "metadata": {},
     "output_type": "execute_result"
    }
   ],
   "source": [
    "# you can also set a default value for an argument \n",
    "# set it at the beginning when defining arguments \n",
    "def get_at_content(dna, sig_figs=2):\n",
    "    length = len(dna)\n",
    "    a_count = dna.upper().count('A')\n",
    "    t_count = dna.upper().count('T')\n",
    "    at_content = (a_count + t_count) / length\n",
    "    return round(at_content, sig_figs)\n",
    "\n",
    "get_at_content(\"ATCGTGACTCG\")\n",
    "get_at_content(\"ATCGTGACTCG\", 3)\n",
    "get_at_content(\"ATCGTGACTCG\", sig_figs=4)"
   ]
  },
  {
   "cell_type": "code",
   "execution_count": 17,
   "id": "d4ca1f7a-23f8-4d5e-b18b-e1a8564f8643",
   "metadata": {},
   "outputs": [],
   "source": [
    "# sometimes you need to test functions \n",
    "# use the assert function \n",
    "assert get_at_content(\"ATGC\") == 0.5\n",
    "# we know that the AT content of ATGC should be 50% \n",
    "# will give an error if false"
   ]
  },
  {
   "cell_type": "code",
   "execution_count": 18,
   "id": "2adfd52f-ed96-4541-a4a1-10e8c9deddea",
   "metadata": {},
   "outputs": [
    {
     "ename": "AssertionError",
     "evalue": "",
     "output_type": "error",
     "traceback": [
      "\u001b[0;31m---------------------------------------------------------------------------\u001b[0m",
      "\u001b[0;31mAssertionError\u001b[0m                            Traceback (most recent call last)",
      "Input \u001b[0;32mIn [18]\u001b[0m, in \u001b[0;36m<cell line: 2>\u001b[0;34m()\u001b[0m\n\u001b[1;32m      1\u001b[0m \u001b[38;5;66;03m# what if your dna input has unknown bases?\u001b[39;00m\n\u001b[0;32m----> 2\u001b[0m \u001b[38;5;28;01massert\u001b[39;00m get_at_content(\u001b[38;5;124m\"\u001b[39m\u001b[38;5;124mATGCNNNNNNNNNN\u001b[39m\u001b[38;5;124m\"\u001b[39m) \u001b[38;5;241m==\u001b[39m \u001b[38;5;241m0.5\u001b[39m\n",
      "\u001b[0;31mAssertionError\u001b[0m: "
     ]
    }
   ],
   "source": [
    "# what if your dna input has unknown bases?\n",
    "assert get_at_content(\"ATGCNNNNNNNNNN\") == 0.5"
   ]
  },
  {
   "cell_type": "code",
   "execution_count": 19,
   "id": "47337950-6715-4beb-96b2-32d0ea730b4c",
   "metadata": {},
   "outputs": [],
   "source": [
    "# you get an error, but what if you still need to know the AT content? \n",
    "# you can modify the function to remove possible Ns \n",
    "def get_at_content(dna, sig_figs=2):\n",
    "    dna = dna.replace('N', '')\n",
    "    length = len(dna)\n",
    "    a_count = dna.upper().count('A')\n",
    "    t_count = dna.upper().count('T')\n",
    "    at_content = (a_count + t_count) / length\n",
    "    return round(at_content, sig_figs)"
   ]
  },
  {
   "cell_type": "code",
   "execution_count": 20,
   "id": "221ab4e1-6d72-4e2b-992c-df462aa1a7b6",
   "metadata": {},
   "outputs": [],
   "source": [
    "# you can do a bunch of assertations to make sure every part of the function works \n",
    "assert get_at_content(\"A\") == 1\n",
    "assert get_at_content(\"G\") == 0\n",
    "assert get_at_content(\"ATGC\") == 0.5\n",
    "assert get_at_content(\"AGG\") == 0.33\n",
    "assert get_at_content(\"AGG\", 1) == 0.3\n",
    "assert get_at_content(\"AGG\", 5) == 0.33333"
   ]
  },
  {
   "cell_type": "markdown",
   "id": "ac857039-32d5-4ab9-953b-06283d8876b9",
   "metadata": {},
   "source": [
    "Exercises"
   ]
  },
  {
   "cell_type": "code",
   "execution_count": null,
   "id": "ce97b291-3747-452e-939a-c7fb3ac5e7c9",
   "metadata": {},
   "outputs": [],
   "source": [
    "# percentage of amino acid residues \n",
    "# Write a function that takes two arguments – a protein sequence and an amino acid residue code \n",
    "# – and returns the percentage of the protein that the amino acid makes up\n",
    "# use this MSRSLLLRFLLFLLLLPPLP as a test sequence"
   ]
  },
  {
   "cell_type": "code",
   "execution_count": 26,
   "id": "de0339fa-30cb-4cb7-966a-e2583165a638",
   "metadata": {},
   "outputs": [
    {
     "data": {
      "text/plain": [
       "50.0"
      ]
     },
     "execution_count": 26,
     "metadata": {},
     "output_type": "execute_result"
    }
   ],
   "source": [
    "def get_aa_content(protein, aa, sig_figs=1):\n",
    "    length = len(protein)\n",
    "    aa_num = protein.upper().count(aa.upper())\n",
    "    aa_content = aa_num / length \n",
    "    aa_percent = aa_content * 100\n",
    "    return round(aa_percent, sig_figs)\n",
    "  \n",
    "# my own test    \n",
    "get_aa_content(\"MSRS\", \"S\", 2)"
   ]
  },
  {
   "cell_type": "code",
   "execution_count": 31,
   "id": "24852579-cefd-4822-ae63-5b594926f660",
   "metadata": {},
   "outputs": [],
   "source": [
    "# test the function further with assert\n",
    "assert get_aa_content(\"MSRSLLLRFLLFLLLLPPLP\", \"M\") == 5\n",
    "assert get_aa_content(\"MSRSLLLRFLLFLLLLPPLP\", \"r\") == 10\n",
    "assert get_aa_content(\"MSRSLLLRFLLFLLLLPPLP\", \"L\") == 50\n",
    "assert get_aa_content(\"MSRSLLLRFLLFLLLLPPLP\", \"Y\") == 0"
   ]
  },
  {
   "cell_type": "code",
   "execution_count": null,
   "id": "8d23cd95-86a1-40f9-aaff-464cf631addc",
   "metadata": {},
   "outputs": [],
   "source": [
    "#Modify the function from part one so that it accepts a list of amino acid residues rather than a single one. \n",
    "# If no list is given, the function should return the percentage of hydrophobic amino acid residues \n",
    "# (A, I, L, M, F, W, Y and V)"
   ]
  },
  {
   "cell_type": "code",
   "execution_count": null,
   "id": "9c92ec5d-7642-4113-9efc-80f9e1619341",
   "metadata": {},
   "outputs": [],
   "source": [
    "# supposed to be a for loop but I can't do those "
   ]
  },
  {
   "cell_type": "code",
   "execution_count": 40,
   "id": "c49bc52f-6b45-47ba-9936-2af8227aeaa1",
   "metadata": {},
   "outputs": [
    {
     "name": "stdout",
     "output_type": "stream",
     "text": [
      "SM\n"
     ]
    },
    {
     "ename": "TypeError",
     "evalue": "must be str, not list",
     "output_type": "error",
     "traceback": [
      "\u001b[0;31m---------------------------------------------------------------------------\u001b[0m",
      "\u001b[0;31mTypeError\u001b[0m                                 Traceback (most recent call last)",
      "Input \u001b[0;32mIn [40]\u001b[0m, in \u001b[0;36m<cell line: 11>\u001b[0;34m()\u001b[0m\n\u001b[1;32m      9\u001b[0m     aa_percent \u001b[38;5;241m=\u001b[39m aa_content \u001b[38;5;241m*\u001b[39m \u001b[38;5;241m100\u001b[39m\n\u001b[1;32m     10\u001b[0m     \u001b[38;5;28;01mreturn\u001b[39;00m \u001b[38;5;28mround\u001b[39m(aa_percent, sig_figs)\n\u001b[0;32m---> 11\u001b[0m \u001b[43mget_aa_content\u001b[49m\u001b[43m(\u001b[49m\u001b[38;5;124;43m\"\u001b[39;49m\u001b[38;5;124;43mMSRS\u001b[39;49m\u001b[38;5;124;43m\"\u001b[39;49m\u001b[43m,\u001b[49m\u001b[43m \u001b[49m\u001b[43m[\u001b[49m\u001b[38;5;124;43m\"\u001b[39;49m\u001b[38;5;124;43mS\u001b[39;49m\u001b[38;5;124;43m\"\u001b[39;49m\u001b[43m,\u001b[49m\u001b[43m \u001b[49m\u001b[38;5;124;43m\"\u001b[39;49m\u001b[38;5;124;43mM\u001b[39;49m\u001b[38;5;124;43m\"\u001b[39;49m\u001b[43m]\u001b[49m\u001b[43m,\u001b[49m\u001b[43m \u001b[49m\u001b[38;5;241;43m2\u001b[39;49m\u001b[43m)\u001b[49m\n",
      "Input \u001b[0;32mIn [40]\u001b[0m, in \u001b[0;36mget_aa_content\u001b[0;34m(protein, aa, sig_figs)\u001b[0m\n\u001b[1;32m      5\u001b[0m \u001b[38;5;28mprint\u001b[39m(makeup)\n\u001b[1;32m      6\u001b[0m convertback \u001b[38;5;241m=\u001b[39m \u001b[38;5;28mlist\u001b[39m(makeup)\n\u001b[0;32m----> 7\u001b[0m aa_num \u001b[38;5;241m=\u001b[39m \u001b[43mprotein\u001b[49m\u001b[38;5;241;43m.\u001b[39;49m\u001b[43mupper\u001b[49m\u001b[43m(\u001b[49m\u001b[43m)\u001b[49m\u001b[38;5;241;43m.\u001b[39;49m\u001b[43mcount\u001b[49m\u001b[43m(\u001b[49m\u001b[43mconvertback\u001b[49m\u001b[43m)\u001b[49m\n\u001b[1;32m      8\u001b[0m aa_content \u001b[38;5;241m=\u001b[39m aa_num \u001b[38;5;241m/\u001b[39m length \n\u001b[1;32m      9\u001b[0m aa_percent \u001b[38;5;241m=\u001b[39m aa_content \u001b[38;5;241m*\u001b[39m \u001b[38;5;241m100\u001b[39m\n",
      "\u001b[0;31mTypeError\u001b[0m: must be str, not list"
     ]
    }
   ],
   "source": [
    "def get_aa_content(protein, aa=[\"A\", \"I\", \"L\", \"M\", \"F\", \"W\", \"Y\", \"V\"], sig_figs=1):\n",
    "    length = len(protein)\n",
    "    convert = \"\".join(aa)\n",
    "    makeup = convert.upper()\n",
    "    convertback = list(makeup)\n",
    "    aa_num = protein.upper().count(convertback)\n",
    "    aa_content = aa_num / length \n",
    "    aa_percent = aa_content * 100\n",
    "    return round(aa_percent, sig_figs)\n",
    "get_aa_content(\"MSRS\", [\"S\", \"M\"], 2)"
   ]
  },
  {
   "cell_type": "code",
   "execution_count": null,
   "id": "78a9cbfe-6bd4-498a-a6c7-f4ddf65baac8",
   "metadata": {},
   "outputs": [],
   "source": []
  },
  {
   "cell_type": "code",
   "execution_count": null,
   "id": "276340e6-9e9b-46a1-a37c-e79560028f0b",
   "metadata": {},
   "outputs": [],
   "source": []
  },
  {
   "cell_type": "code",
   "execution_count": null,
   "id": "7acf40c5-3cb9-4347-ae8e-c78219140372",
   "metadata": {},
   "outputs": [],
   "source": []
  }
 ],
 "metadata": {
  "kernelspec": {
   "display_name": "Python 3 (ipykernel)",
   "language": "python",
   "name": "python3"
  },
  "language_info": {
   "codemirror_mode": {
    "name": "ipython",
    "version": 3
   },
   "file_extension": ".py",
   "mimetype": "text/x-python",
   "name": "python",
   "nbconvert_exporter": "python",
   "pygments_lexer": "ipython3",
   "version": "3.9.12"
  }
 },
 "nbformat": 4,
 "nbformat_minor": 5
}
