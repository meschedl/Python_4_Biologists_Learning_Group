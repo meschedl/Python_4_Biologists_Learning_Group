{
 "cells": [
  {
   "cell_type": "markdown",
   "id": "6d219808-2d49-463e-acc3-7b4b986fa242",
   "metadata": {},
   "source": [
    "Following along with the chapter"
   ]
  },
  {
   "cell_type": "code",
   "execution_count": null,
   "id": "7ef03c36-e104-4bfc-bd4c-35f63b27aa3d",
   "metadata": {},
   "outputs": [],
   "source": [
    "# load in a text file that has a dna sequence \n",
    "# I had to skip forward to learning how to do paths!\n",
    "# seems like I can only do the full path\n",
    "# it wouldn't recognize that the exercises folder is in this directory..."
   ]
  },
  {
   "cell_type": "code",
   "execution_count": 7,
   "id": "9d2bc11d-d971-481d-ab9f-854f21232ba2",
   "metadata": {},
   "outputs": [],
   "source": [
    "my_file = open(\"/Users/maggieschedl/Desktop/Github/Python_4_Biologists_Learning_Group/exercises_and_examples/reading_files/examples/dna.txt\")"
   ]
  },
  {
   "cell_type": "code",
   "execution_count": null,
   "id": "62223de8-390d-403a-a46e-f2946ebc037f",
   "metadata": {},
   "outputs": [],
   "source": [
    "# how to look at a file "
   ]
  },
  {
   "cell_type": "code",
   "execution_count": 8,
   "id": "7a5edad1-60ac-411d-9e86-c9c4a7add8ae",
   "metadata": {},
   "outputs": [
    {
     "name": "stdout",
     "output_type": "stream",
     "text": [
      "ACTGTACGTGCACTGATC\n",
      "\n"
     ]
    }
   ],
   "source": [
    "file_contents = my_file.read()\n",
    "print(file_contents)"
   ]
  },
  {
   "cell_type": "code",
   "execution_count": null,
   "id": "c3721ead-7a0d-4438-9e6c-51f7a8c19aa5",
   "metadata": {},
   "outputs": [],
   "source": [
    "# look at difference between a file name, a file, and file contents "
   ]
  },
  {
   "cell_type": "code",
   "execution_count": 10,
   "id": "371e68dd-c15f-4d66-8011-1edaebcd1819",
   "metadata": {},
   "outputs": [],
   "source": [
    "my_file_name = \"/Users/maggieschedl/Desktop/Github/Python_4_Biologists_Learning_Group/exercises_and_examples/reading_files/examples/dna.txt\"\n",
    "my_file = open(my_file_name)\n",
    "my_file_contents = my_file.read()"
   ]
  },
  {
   "cell_type": "code",
   "execution_count": null,
   "id": "309567db-c6f6-41d9-909e-f49db774dc33",
   "metadata": {},
   "outputs": [],
   "source": [
    "# what if you try to read the wrong thing"
   ]
  },
  {
   "cell_type": "code",
   "execution_count": 12,
   "id": "f601defa-2679-4a1d-b1a0-ded805e43136",
   "metadata": {},
   "outputs": [
    {
     "ename": "AttributeError",
     "evalue": "'str' object has no attribute 'read'",
     "output_type": "error",
     "traceback": [
      "\u001b[0;31m---------------------------------------------------------------------------\u001b[0m",
      "\u001b[0;31mAttributeError\u001b[0m                            Traceback (most recent call last)",
      "Input \u001b[0;32mIn [12]\u001b[0m, in \u001b[0;36m<cell line: 2>\u001b[0;34m()\u001b[0m\n\u001b[1;32m      1\u001b[0m my_file_name \u001b[38;5;241m=\u001b[39m \u001b[38;5;124m\"\u001b[39m\u001b[38;5;124mdna.txt\u001b[39m\u001b[38;5;124m\"\u001b[39m\n\u001b[0;32m----> 2\u001b[0m my_contents \u001b[38;5;241m=\u001b[39m \u001b[43mmy_file_name\u001b[49m\u001b[38;5;241;43m.\u001b[39;49m\u001b[43mread\u001b[49m()\n",
      "\u001b[0;31mAttributeError\u001b[0m: 'str' object has no attribute 'read'"
     ]
    }
   ],
   "source": [
    "my_file_name = \"dna.txt\"\n",
    "my_contents = my_file_name.read()"
   ]
  },
  {
   "cell_type": "code",
   "execution_count": null,
   "id": "58377474-2f36-491f-bfdb-c69ea3b0a0f9",
   "metadata": {},
   "outputs": [],
   "source": [
    "# using the file object instead of the file contents"
   ]
  },
  {
   "cell_type": "code",
   "execution_count": 14,
   "id": "cddf33a8-6cc3-4d7f-bb96-214ea50d4221",
   "metadata": {},
   "outputs": [
    {
     "name": "stdout",
     "output_type": "stream",
     "text": [
      "<_io.TextIOWrapper name='/Users/maggieschedl/Desktop/Github/Python_4_Biologists_Learning_Group/exercises_and_examples/reading_files/examples/dna.txt' mode='r' encoding='UTF-8'>\n"
     ]
    }
   ],
   "source": [
    "my_file_name = \"/Users/maggieschedl/Desktop/Github/Python_4_Biologists_Learning_Group/exercises_and_examples/reading_files/examples/dna.txt\"\n",
    "my_file = open(my_file_name)\n",
    "print(my_file)"
   ]
  },
  {
   "cell_type": "code",
   "execution_count": null,
   "id": "e1172a3e-a5b5-49f4-ba3e-294d93fd6fb6",
   "metadata": {},
   "outputs": [],
   "source": [
    "# simple program to read the DNA sequence from the file and print it out along with its length"
   ]
  },
  {
   "cell_type": "code",
   "execution_count": 15,
   "id": "93a67825-7788-4468-b1f4-29028b77c744",
   "metadata": {},
   "outputs": [
    {
     "name": "stdout",
     "output_type": "stream",
     "text": [
      "sequence is ACTGTACGTGCACTGATC\n",
      " and length is 19\n"
     ]
    }
   ],
   "source": [
    "# open the file\n",
    "my_file = open(\"/Users/maggieschedl/Desktop/Github/Python_4_Biologists_Learning_Group/exercises_and_examples/reading_files/examples/dna.txt\")\n",
    "# read the contents\n",
    "my_dna = my_file.read()\n",
    "# calculate the length\n",
    "dna_length = len(my_dna)\n",
    "# print the output\n",
    "print(\"sequence is \" + my_dna +  \" and length is \" + str(dna_length))"
   ]
  },
  {
   "cell_type": "code",
   "execution_count": null,
   "id": "9e507edc-761a-411b-abca-42af3a1cfc9c",
   "metadata": {},
   "outputs": [],
   "source": [
    "# why is this over 2 lines? we want to remove the new line character in the my_dna "
   ]
  },
  {
   "cell_type": "code",
   "execution_count": 17,
   "id": "d5c0a818-d882-4552-9ec1-40ef907b27d5",
   "metadata": {},
   "outputs": [
    {
     "name": "stdout",
     "output_type": "stream",
     "text": [
      "sequence is ACTGTACGTGCACTGATC and length is 18\n"
     ]
    }
   ],
   "source": [
    "my_file = open(\"/Users/maggieschedl/Desktop/Github/Python_4_Biologists_Learning_Group/exercises_and_examples/reading_files/examples/dna.txt\")\n",
    "my_file_contents = my_file.read()\n",
    "# remove the newline from the end of the file contents\n",
    "my_dna = my_file_contents.rstrip(\"\\n\")\n",
    "dna_length = len(my_dna)\n",
    "print(\"sequence is \" + my_dna +  \" and length is \" + str(dna_length))"
   ]
  },
  {
   "cell_type": "code",
   "execution_count": null,
   "id": "c6e8fcc7-d599-4981-b80d-4913e7412838",
   "metadata": {},
   "outputs": [],
   "source": [
    "# you can also read the file and remove the new line all in one line of code, by chaining methods. Order is important "
   ]
  },
  {
   "cell_type": "code",
   "execution_count": 18,
   "id": "b60a477a-3911-409c-a647-19d3357a3cea",
   "metadata": {},
   "outputs": [],
   "source": [
    "my_dna = my_file.read().rstrip(\"\\n\")"
   ]
  },
  {
   "cell_type": "code",
   "execution_count": null,
   "id": "a888ddd4-0fc6-4ef5-995d-6ddf76323a49",
   "metadata": {},
   "outputs": [],
   "source": [
    "# open a file to generate it, and specify that you want to write to it "
   ]
  },
  {
   "cell_type": "code",
   "execution_count": 21,
   "id": "53065eb2-0593-447f-b23a-ff225004da00",
   "metadata": {},
   "outputs": [
    {
     "data": {
      "text/plain": [
       "11"
      ]
     },
     "execution_count": 21,
     "metadata": {},
     "output_type": "execute_result"
    }
   ],
   "source": [
    "my_file = open(\"out.txt\", \"w\")\n",
    "my_file.write(\"Hello world\")"
   ]
  },
  {
   "cell_type": "code",
   "execution_count": null,
   "id": "27b8a7b8-0f5d-4715-957a-eb3525b2cb23",
   "metadata": {},
   "outputs": [],
   "source": [
    "# this didn't actually create an out.txt file though... "
   ]
  },
  {
   "cell_type": "code",
   "execution_count": null,
   "id": "2af29382-ca16-4468-83da-c207fc9e2534",
   "metadata": {},
   "outputs": [],
   "source": [
    "# for write (\"w\") you can use any string "
   ]
  },
  {
   "cell_type": "code",
   "execution_count": 22,
   "id": "2873556f-cb9f-4dd8-bdbe-2b8293824efd",
   "metadata": {},
   "outputs": [
    {
     "ename": "NameError",
     "evalue": "name 'my_variable' is not defined",
     "output_type": "error",
     "traceback": [
      "\u001b[0;31m---------------------------------------------------------------------------\u001b[0m",
      "\u001b[0;31mNameError\u001b[0m                                 Traceback (most recent call last)",
      "Input \u001b[0;32mIn [22]\u001b[0m, in \u001b[0;36m<cell line: 10>\u001b[0;34m()\u001b[0m\n\u001b[1;32m      8\u001b[0m my_file\u001b[38;5;241m.\u001b[39mwrite(\u001b[38;5;124m\"\u001b[39m\u001b[38;5;124mATGC\u001b[39m\u001b[38;5;124m\"\u001b[39m\u001b[38;5;241m.\u001b[39mlower())\n\u001b[1;32m      9\u001b[0m \u001b[38;5;66;03m# write contents of my_variable\u001b[39;00m\n\u001b[0;32m---> 10\u001b[0m my_file\u001b[38;5;241m.\u001b[39mwrite(\u001b[43mmy_variable\u001b[49m)\n",
      "\u001b[0;31mNameError\u001b[0m: name 'my_variable' is not defined"
     ]
    }
   ],
   "source": [
    "# write \"abcdef\"\n",
    "my_file.write(\"abc\" + \"def\")\n",
    "# write \"8\"\n",
    "my_file.write(str(len('AGTGCTAG')))\n",
    "# write \"TTGC\"\n",
    "my_file.write(\"ATGC\".replace('A', 'T'))\n",
    "# write \"atgc\"\n",
    "my_file.write(\"ATGC\".lower())\n",
    "# write contents of my_variable\n",
    "my_file.write(my_variable)"
   ]
  },
  {
   "cell_type": "code",
   "execution_count": null,
   "id": "088f0cf9-6e7c-4810-9258-61bfdd77729a",
   "metadata": {},
   "outputs": [],
   "source": [
    "# also need to close files after you open them "
   ]
  },
  {
   "cell_type": "code",
   "execution_count": 23,
   "id": "7ace6f4d-4939-4810-9b8b-8eea1a3bfe09",
   "metadata": {},
   "outputs": [],
   "source": [
    "my_file = open(\"out.txt\", \"w\")\n",
    "my_file.write(\"Hello world\")\n",
    "# remember to close the file\n",
    "my_file.close()"
   ]
  },
  {
   "cell_type": "markdown",
   "id": "9eff32d1-5eb1-444e-be9b-33f32ba80c2c",
   "metadata": {},
   "source": [
    "Excercises"
   ]
  },
  {
   "cell_type": "markdown",
   "id": "69049406-9dfd-4c5d-b496-793b2b459540",
   "metadata": {},
   "source": [
    "Splitting genomic DNA"
   ]
  },
  {
   "cell_type": "code",
   "execution_count": null,
   "id": "e9b42a7d-7bf1-4760-a43c-7f27472a569f",
   "metadata": {},
   "outputs": [],
   "source": [
    "# Write a program that will split the genomic DNA into coding and non-coding parts, \n",
    "# and write these sequences to two separate files\n",
    "# same text as last exercise in chapter 2 so those are the specifics of the coding and non coding parts "
   ]
  },
  {
   "cell_type": "code",
   "execution_count": 37,
   "id": "f8ec6fed-c2bd-46bf-9f10-3b5e79a7b0b6",
   "metadata": {},
   "outputs": [
    {
     "name": "stdout",
     "output_type": "stream",
     "text": [
      "ATCGATCGATCGATCGACTGACTAGTCATAGCTATGCATGTAGCTACTCGATCGATCGATCGAT\n",
      "ATCGATCGATCGATCGACTGACTAGTCATAGCTATGCATGTAGCTACTCGATCGATCGATCGAT\n",
      "ATCGATCGATATCGATGCATCGACTACTAT\n",
      "\n"
     ]
    }
   ],
   "source": [
    "# open the file \n",
    "genomic_dna = open(\"/Users/maggieschedl/Desktop/Github/Python_4_Biologists_Learning_Group/exercises_and_examples/reading_files/exercises/genomic_dna.txt\")\n",
    "# now I need to turn it into contents? \n",
    "genomic_dna_contents = genomic_dna.read()\n",
    "# now can I split it like in chapter 2?\n",
    "# first exon\n",
    "first_exon = genomic_dna_contents[0:64]\n",
    "print(first_exon)\n",
    "# yes by checking that worked \n",
    "# second exon \n",
    "second_exon = genomic_dna_contents[93:200]\n",
    "# intron\n",
    "intron = genomic_dna_contents[64:93]\n",
    "# combine the two exons into one string?\n",
    "# not sure if these should be on separte lines or idk\n",
    "exons = first_exon + \"\\n\" + second_exon\n",
    "print(exons)\n",
    "# that seems to have worked \n",
    "# now to save these as separate files \n",
    "# exon file\n",
    "exons_file = open(\"/Users/maggieschedl/Desktop/Github/Python_4_Biologists_Learning_Group/exons.txt\", \"w\")\n",
    "exons_file.write(exons)\n",
    "exons_file.close()\n",
    "# intron file \n",
    "intron_file = open(\"/Users/maggieschedl/Desktop/Github/Python_4_Biologists_Learning_Group/intron.txt\", \"w\") \n",
    "intron_file.write(intron)\n",
    "intron_file.close()"
   ]
  },
  {
   "cell_type": "markdown",
   "id": "634a962e-14e2-4369-9891-b5c234d5c49a",
   "metadata": {},
   "source": [
    "Writing a FASTA file"
   ]
  },
  {
   "cell_type": "code",
   "execution_count": null,
   "id": "76eca452-b6e7-4226-9cb4-25e4d6769ea6",
   "metadata": {},
   "outputs": [],
   "source": [
    "# need to write a fasta file with the sequences provided \n",
    "# I think I will make strings for each component then add them all up into the file"
   ]
  },
  {
   "cell_type": "code",
   "execution_count": 53,
   "id": "3c6370f8-47d5-4039-a557-5a0c8042b19c",
   "metadata": {},
   "outputs": [
    {
     "name": "stdout",
     "output_type": "stream",
     "text": [
      ">ABC123\n",
      "ACTGATCGACGATCGATCGATCACGACT\n",
      "ACTGACACTGTACTGTACATGTG\n",
      ">ABC123\n",
      "ATCGTACGATCGATCGATCGCTAGACGTATCG\n",
      ">DEF456\n",
      "ACTGATCGACGATCGATCGATCACGACT\n",
      ">HIJ789\n",
      "ACTGACACTGTACTGTACATGTG\n"
     ]
    }
   ],
   "source": [
    "# make first header \n",
    "header1 = \">ABC123\"\n",
    "# check\n",
    "print(header1)\n",
    "# make other headers header\n",
    "header2 = \">DEF456\"\n",
    "header3 = \">HIJ789\"\n",
    "# now make the sequences \n",
    "seq1 = \"ATCGTACGATCGATCGATCGCTAGACGTATCG\"\n",
    "seq2 = \"actgatcgacgatcgatcgatcacgact\"\n",
    "# need to make seq2 upper \n",
    "seq2_1 = seq2.upper()\n",
    "print(seq2_1)\n",
    "seq3 = \"ACTGAC-ACTGT--ACTGTA----CATGTG\"\n",
    "# need to remove the dashes \n",
    "# not sure why rstrip doesn't work here\n",
    "seq3_1 = seq3.replace(\"-\", \"\")\n",
    "print(seq3_1)\n",
    "# ok now to add these all together into a string with line breaks between \n",
    "FASTA_seq = header1 + \"\\n\" + seq1 + \"\\n\" + header2 + \"\\n\" + seq2_1 + \"\\n\" + header3 + \"\\n\"+ seq3_1\n",
    "# check\n",
    "print(FASTA_seq)\n",
    "# now add to a file\n",
    "FASTA_file = open(\"/Users/maggieschedl/Desktop/Github/Python_4_Biologists_Learning_Group/FASTA.txt\", \"w\")\n",
    "FASTA_file.write(FASTA_seq)\n",
    "FASTA_file.close()"
   ]
  },
  {
   "cell_type": "markdown",
   "id": "cde490b4-9468-46be-972f-170ba0281e74",
   "metadata": {},
   "source": [
    "Writing multiple FASTA files"
   ]
  },
  {
   "cell_type": "code",
   "execution_count": null,
   "id": "9d4f99f2-87e5-4357-8b86-f27313d2de22",
   "metadata": {},
   "outputs": [],
   "source": [
    "# need to make each sequence into its own FASTA file "
   ]
  },
  {
   "cell_type": "code",
   "execution_count": 55,
   "id": "371e9c9d-e6b6-4f22-bf1d-e194eb54d65f",
   "metadata": {},
   "outputs": [],
   "source": [
    "# just meke each into strings \n",
    "first = header1 + \"\\n\" + seq1\n",
    "second = header2 + \"\\n\" + seq2_1\n",
    "third = header3 + \"\\n\" + seq3_1 \n",
    "# then into files \n",
    "ABC123_file = open(\"/Users/maggieschedl/Desktop/Github/Python_4_Biologists_Learning_Group/ABC123.txt\", \"w\")\n",
    "ABC123_file.write(first)\n",
    "ABC123_file.close()\n",
    "DEF456_file = open(\"/Users/maggieschedl/Desktop/Github/Python_4_Biologists_Learning_Group/DEF456.txt\", \"w\")\n",
    "DEF456_file.write(second)\n",
    "DEF456_file.close()\n",
    "HIJ789_file = open(\"/Users/maggieschedl/Desktop/Github/Python_4_Biologists_Learning_Group/HIJ789.txt\", \"w\")\n",
    "HIJ789_file.write(third)\n",
    "HIJ789_file.close()"
   ]
  }
 ],
 "metadata": {
  "kernelspec": {
   "display_name": "Python 3 (ipykernel)",
   "language": "python",
   "name": "python3"
  },
  "language_info": {
   "codemirror_mode": {
    "name": "ipython",
    "version": 3
   },
   "file_extension": ".py",
   "mimetype": "text/x-python",
   "name": "python",
   "nbconvert_exporter": "python",
   "pygments_lexer": "ipython3",
   "version": "3.9.12"
  }
 },
 "nbformat": 4,
 "nbformat_minor": 5
}
