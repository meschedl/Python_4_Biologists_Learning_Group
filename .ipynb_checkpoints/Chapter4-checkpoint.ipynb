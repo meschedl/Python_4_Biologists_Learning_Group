{
 "cells": [
  {
   "cell_type": "markdown",
   "id": "0c6db32e-86d9-49ed-b7eb-9501823b485e",
   "metadata": {},
   "source": [
    "Lists and loops chapter 4 follow along"
   ]
  },
  {
   "cell_type": "code",
   "execution_count": 1,
   "id": "860f5508-dd0d-4c9e-96d0-cb3693084e63",
   "metadata": {},
   "outputs": [],
   "source": [
    "# make a list \n",
    "# use square brackets and commas\n",
    "apes = [\"Homo sapiens\", \"Pan troglodytes\", \"Gorilla gorilla\"]\n",
    "conserved_sites = [24, 56, 132]"
   ]
  },
  {
   "cell_type": "code",
   "execution_count": 2,
   "id": "f4900298-eb6b-4a3b-85ae-a24eb920cf60",
   "metadata": {},
   "outputs": [
    {
     "name": "stdout",
     "output_type": "stream",
     "text": [
      "Homo sapiens\n"
     ]
    }
   ],
   "source": [
    "# what is the first ape?\n",
    "print(apes[0])"
   ]
  },
  {
   "cell_type": "code",
   "execution_count": 3,
   "id": "56530ef9-2c00-4bcf-a857-e7b5e38c16cd",
   "metadata": {},
   "outputs": [],
   "source": [
    "# also can write it to an object \n",
    "first_site = conserved_sites[2]"
   ]
  },
  {
   "cell_type": "code",
   "execution_count": 6,
   "id": "e5e0922c-67ce-41af-9ae9-4ffb9aaef58f",
   "metadata": {},
   "outputs": [
    {
     "name": "stdout",
     "output_type": "stream",
     "text": [
      "1\n"
     ]
    }
   ],
   "source": [
    "# what if we only know the element?\n",
    "# use index for it to tell you which element number \n",
    "apes = [\"Homo sapiens\", \"Pan troglodytes\", \"Gorilla gorilla\"]\n",
    "chimp_index = apes.index(\"Pan troglodytes\")\n",
    "print(chimp_index)"
   ]
  },
  {
   "cell_type": "code",
   "execution_count": null,
   "id": "ef5a89b9-9cf2-4fec-8538-0a3ffab83ff5",
   "metadata": {},
   "outputs": [],
   "source": [
    "# that's the second element because the 1st one is alway 0"
   ]
  },
  {
   "cell_type": "code",
   "execution_count": null,
   "id": "0066a072-4144-4f3b-a359-754ab4f6dffa",
   "metadata": {},
   "outputs": [],
   "source": [
    "# use -1 to get the last element "
   ]
  },
  {
   "cell_type": "code",
   "execution_count": 7,
   "id": "cc3730d3-1f37-47be-b173-9592d784c3b5",
   "metadata": {},
   "outputs": [
    {
     "name": "stdout",
     "output_type": "stream",
     "text": [
      "Gorilla gorilla\n"
     ]
    }
   ],
   "source": [
    "last_ape = apes[-1]\n",
    "print(last_ape)"
   ]
  },
  {
   "cell_type": "code",
   "execution_count": null,
   "id": "38f23ace-bcc2-4945-b6f8-160bbcc5b83d",
   "metadata": {},
   "outputs": [],
   "source": [
    "# you can specify a range of elements "
   ]
  },
  {
   "cell_type": "code",
   "execution_count": 8,
   "id": "7f2220e7-eaab-4031-9d47-53ef6b647809",
   "metadata": {},
   "outputs": [
    {
     "name": "stdout",
     "output_type": "stream",
     "text": [
      "['class', 'order', 'family']\n"
     ]
    }
   ],
   "source": [
    "ranks = [\"kingdom\",\"phylum\", \"class\", \"order\", \"family\"]\n",
    "lower_ranks = ranks[2:5]\n",
    "print(lower_ranks)"
   ]
  },
  {
   "cell_type": "code",
   "execution_count": null,
   "id": "a87de8dc-daaa-44dd-8d8f-c2c92adaf93b",
   "metadata": {},
   "outputs": [],
   "source": [
    "# add another element"
   ]
  },
  {
   "cell_type": "code",
   "execution_count": 9,
   "id": "e165b8c4-4615-4f68-99cc-52e93440dd58",
   "metadata": {},
   "outputs": [],
   "source": [
    "apes = [\"Homo sapiens\", \"Pan troglodytes\", \"Gorilla gorilla\"]\n",
    "apes.append(\"Pan paniscus\")"
   ]
  },
  {
   "cell_type": "code",
   "execution_count": null,
   "id": "efcc375c-0c3b-4dae-bfa0-39ceabc114b1",
   "metadata": {},
   "outputs": [],
   "source": [
    "# append actually changes the list, while other methods usually do not"
   ]
  },
  {
   "cell_type": "code",
   "execution_count": 10,
   "id": "bc3ea672-5228-492f-9872-1108e21cacb2",
   "metadata": {},
   "outputs": [
    {
     "name": "stdout",
     "output_type": "stream",
     "text": [
      "There are 3 apes\n",
      "Now there are 4 apes\n"
     ]
    }
   ],
   "source": [
    "apes = [\"Homo sapiens\", \"Pan troglodytes\", \"Gorilla gorilla\"]\n",
    "print(\"There are \" + str(len(apes)) + \" apes\")\n",
    "apes.append(\"Pan paniscus\")\n",
    "print(\"Now there are \" + str(len(apes)) + \" apes\")"
   ]
  },
  {
   "cell_type": "code",
   "execution_count": null,
   "id": "506f7c2e-7485-47d0-b049-c428500dbf06",
   "metadata": {},
   "outputs": [],
   "source": [
    "# you can also add two lists (or more) together "
   ]
  },
  {
   "cell_type": "code",
   "execution_count": 11,
   "id": "6a3aefc3-bebb-4f66-9228-b5bddbcceac6",
   "metadata": {},
   "outputs": [
    {
     "name": "stdout",
     "output_type": "stream",
     "text": [
      "3 apes\n",
      "2 monkeys\n",
      "5 primates\n"
     ]
    }
   ],
   "source": [
    "apes = [\"Homo sapiens\", \"Pan troglodytes\", \"Gorilla gorilla\"]\n",
    "monkeys = [\"Papio ursinus\", \"Macaca mulatta\"]\n",
    "primates = apes + monkeys\n",
    "print(str(len(apes)) + \" apes\")\n",
    "print(str(len(monkeys)) + \" monkeys\")\n",
    "print(str(len(primates)) + \" primates\")"
   ]
  },
  {
   "cell_type": "code",
   "execution_count": null,
   "id": "7bb715c3-c560-4c88-aafd-22fa68c74070",
   "metadata": {},
   "outputs": [],
   "source": [
    "# you can reverse and sort the oder of a list"
   ]
  },
  {
   "cell_type": "code",
   "execution_count": 12,
   "id": "fbb43cb0-c6fd-4696-89a3-5b670f259a7c",
   "metadata": {},
   "outputs": [
    {
     "name": "stdout",
     "output_type": "stream",
     "text": [
      "at the start : ['kingdom', 'phylum', 'class', 'order', 'family']\n",
      "after reversing : ['family', 'order', 'class', 'phylum', 'kingdom']\n",
      "after sorting : ['class', 'family', 'kingdom', 'order', 'phylum']\n"
     ]
    }
   ],
   "source": [
    "ranks = [\"kingdom\",\"phylum\", \"class\", \"order\", \"family\"]\n",
    "print(\"at the start : \" + str(ranks))\n",
    "ranks.reverse()\n",
    "print(\"after reversing : \" + str(ranks))\n",
    "ranks.sort()\n",
    "print(\"after sorting : \" + str(ranks))"
   ]
  },
  {
   "cell_type": "code",
   "execution_count": null,
   "id": "6cfc9b47-597c-47ee-b4c7-c0ff3961f90c",
   "metadata": {},
   "outputs": [],
   "source": [
    "# using sort either goes in alphabetical or acending numerical order"
   ]
  },
  {
   "cell_type": "code",
   "execution_count": null,
   "id": "51c1baa3-1df5-457a-af65-dfb748e3900c",
   "metadata": {},
   "outputs": [],
   "source": [
    "# what if I want to print out all of the apes as a phrase, with only one line of code?"
   ]
  },
  {
   "cell_type": "code",
   "execution_count": 13,
   "id": "d945c453-5e44-4709-a3ff-9ed838cb342f",
   "metadata": {},
   "outputs": [
    {
     "name": "stdout",
     "output_type": "stream",
     "text": [
      "Homo sapiens is an ape\n",
      "Pan troglodytes is an ape\n",
      "Gorilla gorilla is an ape\n"
     ]
    }
   ],
   "source": [
    "apes = [\"Homo sapiens\", \"Pan troglodytes\", \"Gorilla gorilla\"]\n",
    "for ape in apes:\n",
    "    print(ape + \" is an ape\")"
   ]
  },
  {
   "cell_type": "code",
   "execution_count": null,
   "id": "f5312b1d-bcf1-402b-8701-20e12198487b",
   "metadata": {},
   "outputs": [],
   "source": [
    "# more complicated loop"
   ]
  },
  {
   "cell_type": "code",
   "execution_count": 14,
   "id": "cc889552-96c4-4764-b0c4-a1a6e1e87175",
   "metadata": {},
   "outputs": [
    {
     "name": "stdout",
     "output_type": "stream",
     "text": [
      "Homo sapiens is an ape. Its name starts with H\n",
      "Its name has 12 letters\n",
      "Pan troglodytes is an ape. Its name starts with P\n",
      "Its name has 15 letters\n",
      "Gorilla gorilla is an ape. Its name starts with G\n",
      "Its name has 15 letters\n"
     ]
    }
   ],
   "source": [
    "apes = [\"Homo sapiens\", \"Pan troglodytes\", \"Gorilla gorilla\"]\n",
    "for ape in apes:\n",
    "    name_length = len(ape)\n",
    "    first_letter = ape[0]\n",
    "    print(ape + \" is an ape. Its name starts with \" + first_letter)\n",
    "    print(\"Its name has \" + str(name_length) + \" letters\")"
   ]
  },
  {
   "cell_type": "code",
   "execution_count": null,
   "id": "ef292f19-8ebe-403c-9487-4aeaab662213",
   "metadata": {},
   "outputs": [],
   "source": [
    "# the lines inside the loop all need to be indented in the same way "
   ]
  },
  {
   "cell_type": "code",
   "execution_count": 16,
   "id": "900d59af-e0bb-4197-87bb-f9fe1f27731e",
   "metadata": {},
   "outputs": [
    {
     "ename": "IndentationError",
     "evalue": "unindent does not match any outer indentation level (<tokenize>, line 4)",
     "output_type": "error",
     "traceback": [
      "\u001b[0;36m  File \u001b[0;32m<tokenize>:4\u001b[0;36m\u001b[0m\n\u001b[0;31m    first_letter = ape[0]\u001b[0m\n\u001b[0m    ^\u001b[0m\n\u001b[0;31mIndentationError\u001b[0m\u001b[0;31m:\u001b[0m unindent does not match any outer indentation level\n"
     ]
    }
   ],
   "source": [
    "apes = [\"Homo sapiens\", \"Pan troglodytes\", \"Gorilla gorilla\"]\n",
    "for ape in apes:\n",
    "    name_length = len(ape)\n",
    "  first_letter = ape[0]\n",
    "    print(ape + \" is an ape. Its name starts with \" + first_letter)\n",
    "    print(\"Its name has \" + str(name_length) + \" letters\")"
   ]
  },
  {
   "cell_type": "code",
   "execution_count": null,
   "id": "2f064b03-d22b-4108-8890-159cc536851b",
   "metadata": {},
   "outputs": [],
   "source": [
    "# you can also treat a string as a list in a loop"
   ]
  },
  {
   "cell_type": "code",
   "execution_count": 17,
   "id": "7f23e7df-cd99-45f5-bfce-5dd6efca9dc6",
   "metadata": {},
   "outputs": [
    {
     "name": "stdout",
     "output_type": "stream",
     "text": [
      "one character is m\n",
      "one character is a\n",
      "one character is r\n",
      "one character is t\n",
      "one character is i\n",
      "one character is n\n"
     ]
    }
   ],
   "source": [
    "name = \"martin\"\n",
    "for character in name:\n",
    "   print(\"one character is \" + character)"
   ]
  },
  {
   "cell_type": "code",
   "execution_count": null,
   "id": "7151bbbf-e9f2-4562-a4b8-821edbd92210",
   "metadata": {},
   "outputs": [],
   "source": [
    "# the split method takes a string and outputs it as a list"
   ]
  },
  {
   "cell_type": "code",
   "execution_count": 18,
   "id": "d84287b8-ba60-4abe-88b9-98a81af98bc9",
   "metadata": {},
   "outputs": [
    {
     "name": "stdout",
     "output_type": "stream",
     "text": [
      "['melanogaster', 'simulans', 'yakuba', 'ananassae']\n"
     ]
    }
   ],
   "source": [
    "names = \"melanogaster,simulans,yakuba,ananassae\"\n",
    "species = names.split(\",\")\n",
    "print(species)"
   ]
  },
  {
   "cell_type": "code",
   "execution_count": null,
   "id": "46b9acba-a7ef-4a94-8d8d-cb3d10a27994",
   "metadata": {},
   "outputs": [],
   "source": [
    "# range function"
   ]
  },
  {
   "cell_type": "code",
   "execution_count": 19,
   "id": "26f399f1-3da8-4f54-bf0c-f093409e56b6",
   "metadata": {},
   "outputs": [
    {
     "name": "stdout",
     "output_type": "stream",
     "text": [
      "0\n",
      "1\n",
      "2\n",
      "3\n",
      "4\n",
      "5\n"
     ]
    }
   ],
   "source": [
    "for number in range(6):\n",
    "    print(number)"
   ]
  },
  {
   "cell_type": "code",
   "execution_count": 20,
   "id": "f0a76ca4-023f-43b8-bd86-50569b85a03a",
   "metadata": {},
   "outputs": [
    {
     "name": "stdout",
     "output_type": "stream",
     "text": [
      "3\n",
      "4\n",
      "5\n",
      "6\n",
      "7\n"
     ]
    }
   ],
   "source": [
    "for number in range(3, 8):\n",
    "    print(number)"
   ]
  },
  {
   "cell_type": "code",
   "execution_count": null,
   "id": "f47e5fbd-93a9-46de-b768-9847004036b3",
   "metadata": {},
   "outputs": [],
   "source": [
    "# with three numbers, it counts up to the second number by the third number"
   ]
  },
  {
   "cell_type": "code",
   "execution_count": 21,
   "id": "9ec4e1a9-a5cc-4264-ab84-e021e411ba64",
   "metadata": {},
   "outputs": [
    {
     "name": "stdout",
     "output_type": "stream",
     "text": [
      "2\n",
      "6\n",
      "10\n"
     ]
    }
   ],
   "source": [
    "for number in range(2, 14, 4):\n",
    "    print(number)"
   ]
  },
  {
   "cell_type": "markdown",
   "id": "f9e54134-a9f2-4caf-8862-255f22dc1d5c",
   "metadata": {},
   "source": [
    "Excercises"
   ]
  },
  {
   "cell_type": "markdown",
   "id": "821ce38f-139f-428b-ba06-ee59539b4d95",
   "metadata": {},
   "source": [
    "Processing DNA in a file"
   ]
  },
  {
   "cell_type": "code",
   "execution_count": null,
   "id": "4714a085-decb-48ab-b2d0-c551670128c3",
   "metadata": {},
   "outputs": [],
   "source": [
    "# Write a program that will (a) trim this adapter and write the cleaned sequences to a new file and \n",
    "# (b) print the length of each sequence to the screen"
   ]
  },
  {
   "cell_type": "code",
   "execution_count": 8,
   "id": "29a134d9-79ea-4ef1-b718-c513b3fc7efe",
   "metadata": {},
   "outputs": [
    {
     "name": "stdout",
     "output_type": "stream",
     "text": [
      "TCGATCGATCGATCGATCGATCGATCGATCGATCGATCGATC\n",
      "\n",
      "43\n",
      "ACTGATCGATCGATCGATCGATCGATGCTATCGTCGT\n",
      "\n",
      "38\n",
      "ATCGATCACGATCTATCGTACGTATGCATATCGATATCGATCGTAGTC\n",
      "\n",
      "49\n",
      "ACTATCGATGATCTAGCTACGATCGTAGCTGTA\n",
      "\n",
      "34\n",
      "ACTAGCTAGTCTCGATGCATGATCAGCTTAGCTGATGATGCTATGCA\n",
      "\n",
      "48\n"
     ]
    }
   ],
   "source": [
    "# first open the file \n",
    "dna_file = open(\"/Users/maggieschedl/Desktop/Github/Python_4_Biologists_Learning_Group/exercises_and_examples/lists_and_loops/exercises/input.txt\")\n",
    "\n",
    "# trim adapters per line \n",
    "# want everything after the first 14 bases\n",
    "# need to know last position\n",
    "# need to open a text file before starting the loop \n",
    "# then write to the text file\n",
    "# then print lenghts\n",
    "out = open(\"/Users/maggieschedl/Desktop/Github/Python_4_Biologists_Learning_Group/trimmed.txt\", \"w\")\n",
    "for line in dna_file:\n",
    "    last = len(line)\n",
    "    trimmed = line[14:last]\n",
    "    print(trimmed)\n",
    "    out.write(trimmed)\n",
    "    lengths = len(trimmed)\n",
    "    print(lengths)\n",
    "\n",
    "dna_file.close()\n",
    "out.close()"
   ]
  },
  {
   "cell_type": "markdown",
   "id": "c682d4e0-7c2a-4e20-8e31-a8ef8c18a593",
   "metadata": {},
   "source": [
    "Multiple exons from genomic DNA"
   ]
  },
  {
   "cell_type": "code",
   "execution_count": null,
   "id": "bc209fd3-9bb4-426e-87dc-8d599da67ead",
   "metadata": {},
   "outputs": [],
   "source": [
    "# extract the exon segments, concatenate them, and write them to a new file"
   ]
  },
  {
   "cell_type": "code",
   "execution_count": 36,
   "id": "e79c66ff-9f36-40f0-9ae9-addeb3d371fb",
   "metadata": {},
   "outputs": [
    {
     "name": "stdout",
     "output_type": "stream",
     "text": [
      "5,58\n",
      "\n",
      "72,133\n",
      "\n",
      "190,276\n",
      "\n",
      "340,398\n",
      "\n"
     ]
    }
   ],
   "source": [
    "# open the two files \n",
    "genomic_dna = open(\"/Users/maggieschedl/Desktop/Github/Python_4_Biologists_Learning_Group/exercises_and_examples/lists_and_loops/exercises/genomic_DNA.txt\")\n",
    "exons = open(\"/Users/maggieschedl/Desktop/Github/Python_4_Biologists_Learning_Group/exercises_and_examples/lists_and_loops/exercises/exons.txt\")  \n",
    "\n",
    "# look at exons \n",
    "for line in exons:\n",
    "    print(line)\n",
    "# there are two things per line                   \n",
    "# can I extract out the first?\n",
    "for line in exons:\n",
    "    line2 = line.split(\",\")\n",
    "    first_pos = line2[0:1]\n",
    "    print(first_pos)\n",
    "\n",
    "# did not get any further than this\n",
    "                   "
   ]
  },
  {
   "cell_type": "code",
   "execution_count": 35,
   "id": "b9653d05-39f3-43fc-9da5-6647d37fe8b8",
   "metadata": {},
   "outputs": [
    {
     "name": "stdout",
     "output_type": "stream",
     "text": [
      "\n"
     ]
    }
   ],
   "source": [
    "genomic_dna = open(\"/Users/maggieschedl/Desktop/Github/Python_4_Biologists_Learning_Group/exercises_and_examples/lists_and_loops/exercises/genomic_DNA.txt\")\n",
    "exons = open(\"/Users/maggieschedl/Desktop/Github/Python_4_Biologists_Learning_Group/exercises_and_examples/lists_and_loops/exercises/exons.txt\")  \n",
    "genomic_dna_contents = genomic_dna.read()\n",
    "\n",
    "all_exons = open(\"/Users/maggieschedl/Desktop/Github/Python_4_Biologists_Learning_Group/all_exons.txt\", \"w\")\n",
    "for line in exons:\n",
    "    line2 = line.rstrip() # remove the new line at the end of the string\n",
    "    line3 = line2.split(\",\") # make the string into a list so you can separate\n",
    "    first_pos = line3[0:1] # this is the start position of the exon\n",
    "    second_pos = line3[1:2] # this is the end position of the exon\n",
    "    start = \"\".join(first_pos) # makes it not a list\n",
    "    stop = \"\".join(second_pos)# makes it not a list\n",
    "    start2 = int(start) # for some reason these don't read as integers\n",
    "    stop2 = int(stop) # have to make them into integers\n",
    "    exon_pieces = genomic_dna_contents[start2:stop2 ] # cut down lines by the exon pieces \n",
    "    all_exons.write(exon_pieces) # makes a file with all the exon pieces \n",
    "    \n",
    "the_exons = open(\"/Users/maggieschedl/Desktop/Github/Python_4_Biologists_Learning_Group/all_exons.txt\")\n",
    "all_exons_contents = the_exons.read()\n",
    "print(all_exons_contents) # ok there are no new lines, it concatinated \n",
    "all_exons.close()\n",
    "the_exons.close()"
   ]
  }
 ],
 "metadata": {
  "kernelspec": {
   "display_name": "Python 3 (ipykernel)",
   "language": "python",
   "name": "python3"
  },
  "language_info": {
   "codemirror_mode": {
    "name": "ipython",
    "version": 3
   },
   "file_extension": ".py",
   "mimetype": "text/x-python",
   "name": "python",
   "nbconvert_exporter": "python",
   "pygments_lexer": "ipython3",
   "version": "3.9.12"
  }
 },
 "nbformat": 4,
 "nbformat_minor": 5
}
