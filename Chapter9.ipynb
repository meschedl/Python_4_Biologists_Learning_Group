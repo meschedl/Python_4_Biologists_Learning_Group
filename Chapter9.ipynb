{
 "cells": [
  {
   "cell_type": "markdown",
   "id": "4fc0bc17-b732-4653-bf43-3b33c7ec300d",
   "metadata": {},
   "source": [
    "Chapter 9 follow along and Exercises "
   ]
  },
  {
   "cell_type": "code",
   "execution_count": null,
   "id": "22c51ac6-960d-488a-a050-36a7e3d7b09e",
   "metadata": {},
   "outputs": [],
   "source": [
    "# need to use files/paths on my computer to make these run"
   ]
  },
  {
   "cell_type": "code",
   "execution_count": 1,
   "id": "fd213bd4-a0a5-458f-a3d0-be0a9390daa9",
   "metadata": {},
   "outputs": [],
   "source": [
    "# rename file with os module  and rename function \n",
    "import os\n",
    "os.rename(\"/Users/maggieschedl/Desktop/Github/Python_4_Biologists_Learning_Group/one.txt\", \"/Users/maggieschedl/Desktop/Github/Python_4_Biologists_Learning_Group/one1.txt\")"
   ]
  },
  {
   "cell_type": "code",
   "execution_count": 4,
   "id": "650e7805-a3b9-49a2-ac70-28a8c5cef16a",
   "metadata": {},
   "outputs": [],
   "source": [
    "# If we specify a different folder, but the same file name, in the second argument, \n",
    "# then the function will move the file from one folder to another\n",
    "# and you can rename it at the same time \n",
    "os.rename(\"/Users/maggieschedl/Desktop/Github/Python_4_Biologists_Learning_Group/one1.txt\", \"/Users/maggieschedl/Desktop/Github/one.txt\")"
   ]
  },
  {
   "cell_type": "code",
   "execution_count": null,
   "id": "4baf53b0-985f-4c60-b7b3-b2bb9e15b8f2",
   "metadata": {},
   "outputs": [],
   "source": [
    "# you can do the same thing for folders \n",
    "# rename folder\n",
    "# os.rename(\"/home/martin/old_folder\", \"/home/martin/new_folder\")"
   ]
  },
  {
   "cell_type": "code",
   "execution_count": 5,
   "id": "ea615a25-4a81-421b-b823-7c2d49dc055e",
   "metadata": {},
   "outputs": [],
   "source": [
    "# you can make a folder with the makedir function \n",
    "os.mkdir(\"/Users/maggieschedl/Desktop/Github/Python_4_Biologists_Learning_Group/test_dir\")"
   ]
  },
  {
   "cell_type": "code",
   "execution_count": null,
   "id": "bef21054-69a8-442a-afe7-c06f61056501",
   "metadata": {},
   "outputs": [],
   "source": [
    "# you can also make multiple folders \n",
    "# os.mkdir(\"/a/long/path/with/lots/of/folders\")"
   ]
  },
  {
   "cell_type": "code",
   "execution_count": 8,
   "id": "30e7c936-7911-47d4-a6de-e4eff663d240",
   "metadata": {},
   "outputs": [
    {
     "data": {
      "text/plain": [
       "'/Users/maggieschedl/Desktop/Github/Python_4_Biologists_Learning_Group/test_dir/two_copy.txt'"
      ]
     },
     "execution_count": 8,
     "metadata": {},
     "output_type": "execute_result"
    }
   ],
   "source": [
    "# to copy a file you use shutil.copy \n",
    "# load in module\n",
    "import shutil\n",
    "shutil.copy(\"/Users/maggieschedl/Desktop/Github/Python_4_Biologists_Learning_Group/two.txt\", \"/Users/maggieschedl/Desktop/Github/Python_4_Biologists_Learning_Group/test_dir/two_copy.txt\")"
   ]
  },
  {
   "cell_type": "code",
   "execution_count": null,
   "id": "dbb1eac2-5d30-41f9-9f18-66a3418ec436",
   "metadata": {},
   "outputs": [],
   "source": [
    "# use shutil.copytree to copy a folder \n",
    "# shutil.copytree(\"/home/martin/original_folder\",\"/home/martin/copy_folder\")"
   ]
  },
  {
   "cell_type": "code",
   "execution_count": 10,
   "id": "b63bfe1a-2a91-4446-bdfc-cfa00fe5eb8d",
   "metadata": {},
   "outputs": [
    {
     "name": "stdout",
     "output_type": "stream",
     "text": [
      "file exists\n"
     ]
    }
   ],
   "source": [
    "#To test whether a file or folder exists, use os.path.exists\n",
    "if os.path.exists(\"/Users/maggieschedl/Desktop/Github/Python_4_Biologists_Learning_Group/test_dir/two_copy.txt\"):\n",
    "    print(\"file exists\")"
   ]
  },
  {
   "cell_type": "code",
   "execution_count": null,
   "id": "9a7226a1-d8ba-488e-ac34-72570e40a9dd",
   "metadata": {},
   "outputs": [],
   "source": [
    "# to delete a single file \n",
    "# os.remove(\"/home/martin/unwanted_file.txt\")"
   ]
  },
  {
   "cell_type": "code",
   "execution_count": null,
   "id": "5a4a878f-0059-4777-9bd2-590da488fcab",
   "metadata": {},
   "outputs": [],
   "source": [
    "# to delete an EMPTY folder \n",
    "# os.rmdir(\"/home/martin/emtpy\")"
   ]
  },
  {
   "cell_type": "code",
   "execution_count": null,
   "id": "e631bede-06e1-4406-80a8-cca1b602df9a",
   "metadata": {},
   "outputs": [],
   "source": [
    "# to delete a folder with things inside \n",
    "# shutil.rmtree(\"home/martin/full\")"
   ]
  },
  {
   "cell_type": "code",
   "execution_count": 11,
   "id": "cc91eeaf-a1af-4df9-8254-0a0be3fbf60b",
   "metadata": {},
   "outputs": [
    {
     "data": {
      "text/plain": [
       "['intron.txt',\n",
       " 'Chapter2.ipynb',\n",
       " 'ABC123.txt',\n",
       " 'Chapter6.ipynb',\n",
       " 'two.txt',\n",
       " 'Chapter4.ipynb',\n",
       " 'Chapter3.ipynb',\n",
       " 'three.txt',\n",
       " 'Chapter5.ipynb',\n",
       " 'Chapter7.ipynb',\n",
       " 'README.md',\n",
       " 'HIJ789.txt',\n",
       " 'DEF456.txt',\n",
       " 'exons.txt',\n",
       " 'Chapter9.ipynb',\n",
       " 'test_dir',\n",
       " 'trimmed.txt',\n",
       " 'all_exons.txt',\n",
       " 'exercises_and_examples',\n",
       " '.ipynb_checkpoints',\n",
       " 'Chapter8.ipynb',\n",
       " '.git',\n",
       " 'FASTA.txt',\n",
       " 'Chapter2.md']"
      ]
     },
     "execution_count": 11,
     "metadata": {},
     "output_type": "execute_result"
    }
   ],
   "source": [
    "# list all the files and folders in a directory \n",
    "# \".\" means the current directory\n",
    "os.listdir(\".\")"
   ]
  },
  {
   "cell_type": "code",
   "execution_count": 13,
   "id": "a4057ccf-2441-4394-ba1e-9235ea5420a6",
   "metadata": {},
   "outputs": [
    {
     "name": "stdout",
     "output_type": "stream",
     "text": [
      "one file name is intron.txt\n",
      "one file name is Chapter2.ipynb\n",
      "one file name is ABC123.txt\n",
      "one file name is Chapter6.ipynb\n",
      "one file name is two.txt\n",
      "one file name is Chapter4.ipynb\n",
      "one file name is Chapter3.ipynb\n",
      "one file name is three.txt\n",
      "one file name is Chapter5.ipynb\n",
      "one file name is Chapter7.ipynb\n",
      "one file name is README.md\n",
      "one file name is HIJ789.txt\n",
      "one file name is DEF456.txt\n",
      "one file name is exons.txt\n",
      "one file name is Chapter9.ipynb\n",
      "one file name is test_dir\n",
      "one file name is trimmed.txt\n",
      "one file name is all_exons.txt\n",
      "one file name is exercises_and_examples\n",
      "one file name is .ipynb_checkpoints\n",
      "one file name is Chapter8.ipynb\n",
      "one file name is .git\n",
      "one file name is FASTA.txt\n",
      "one file name is Chapter2.md\n"
     ]
    }
   ],
   "source": [
    "# you could also make it a loop \n",
    "for file_name in os.listdir(\".\"):\n",
    "   print(\"one file name is \" + file_name)"
   ]
  },
  {
   "cell_type": "code",
   "execution_count": null,
   "id": "fec82f3b-cd0d-46b5-8e12-4834c46de7b6",
   "metadata": {},
   "outputs": [],
   "source": [
    "# you can also give the path as the argument for a different folder "
   ]
  },
  {
   "cell_type": "code",
   "execution_count": null,
   "id": "be0f4eab-7602-4a1c-a7dc-c21a27c2acea",
   "metadata": {},
   "outputs": [],
   "source": [
    "# running a program is called a process, and running a program inside another program is called a subprocess"
   ]
  },
  {
   "cell_type": "code",
   "execution_count": 14,
   "id": "f714ca04-0618-4d1b-9981-4fbc3b90cbaa",
   "metadata": {},
   "outputs": [
    {
     "name": "stdout",
     "output_type": "stream",
     "text": [
      "Tue Jul 19 12:26:57 CDT 2022\n"
     ]
    },
    {
     "data": {
      "text/plain": [
       "0"
      ]
     },
     "execution_count": 14,
     "metadata": {},
     "output_type": "execute_result"
    }
   ],
   "source": [
    "# To run an external program, use the subprocess.call function. \n",
    "# This function takes a single string argument containing the path to the executable you want to run\n",
    "import subprocess # first import the module\n",
    "subprocess.call(\"/bin/date\")"
   ]
  },
  {
   "cell_type": "code",
   "execution_count": null,
   "id": "e31dcc8e-48b1-471d-aa85-7692788f050d",
   "metadata": {},
   "outputs": [],
   "source": [
    "# the output from that program is printed directly to the python screen "
   ]
  },
  {
   "cell_type": "code",
   "execution_count": 15,
   "id": "33e2b58a-2384-4722-8a23-9f51f7c6f899",
   "metadata": {},
   "outputs": [
    {
     "name": "stdout",
     "output_type": "stream",
     "text": [
      "July\n"
     ]
    },
    {
     "data": {
      "text/plain": [
       "0"
      ]
     },
     "execution_count": 15,
     "metadata": {},
     "output_type": "execute_result"
    }
   ],
   "source": [
    "# If we want to supply command-line options to the external program then we just include them in the string, \n",
    "# and set the optional shell argument to True\n",
    "subprocess.call(\"/bin/date +%B\", shell=True)"
   ]
  },
  {
   "cell_type": "code",
   "execution_count": 17,
   "id": "e32cc48c-8b43-4e10-aa42-c7f9375d2f4f",
   "metadata": {},
   "outputs": [
    {
     "name": "stdout",
     "output_type": "stream",
     "text": [
      "b'July\\n'\n"
     ]
    }
   ],
   "source": [
    "# what if we want to run some external program \n",
    "# and then store the output in a variable so that we can do something useful with it\n",
    "\n",
    "current_month = subprocess.check_output(\"/bin/date +%B\", shell=True)\n",
    "print(current_month)"
   ]
  },
  {
   "cell_type": "code",
   "execution_count": null,
   "id": "b7d60cc4-9c50-4469-98dd-11d70aff2987",
   "metadata": {},
   "outputs": [],
   "source": [
    "# notice how there is a new line "
   ]
  },
  {
   "cell_type": "code",
   "execution_count": 18,
   "id": "156543d0-8143-494c-8c8a-b188ee7bcc16",
   "metadata": {},
   "outputs": [
    {
     "name": "stdin",
     "output_type": "stream",
     "text": [
      "Enter the accession name \"FF\"\n"
     ]
    }
   ],
   "source": [
    "# To get interactive input from the user in our programs, we can use the input function. \n",
    "# input takes a single string argument, which is the prompt to be displayed to the user, \n",
    "# and returns the value typed in as a string\n",
    "accession = input(\"Enter the accession name\")\n",
    "# do something with the accession variable"
   ]
  },
  {
   "cell_type": "code",
   "execution_count": null,
   "id": "5f660704-2589-4598-9626-21308234eb92",
   "metadata": {},
   "outputs": [],
   "source": [
    "# The input function behaves a little differently to other functions and methods we've seen, \n",
    "# because it has to wait for something to happen before it can return a value – \n",
    "# the user has to type in a string and press enter"
   ]
  },
  {
   "cell_type": "code",
   "execution_count": null,
   "id": "61a6f309-a91c-4c42-83d8-eaf34c4e79d3",
   "metadata": {},
   "outputs": [],
   "source": [
    "# Good practice is to is to design our programs such that they collect all necessary user input at the start, \n",
    "# before any long-running tasks are carried out"
   ]
  },
  {
   "cell_type": "code",
   "execution_count": 21,
   "id": "2b4abedc-f390-4086-bde1-8d4b24f3b04e",
   "metadata": {},
   "outputs": [
    {
     "name": "stdout",
     "output_type": "stream",
     "text": [
      "['/opt/anaconda3/lib/python3.9/site-packages/ipykernel_launcher.py', '-f', '/Users/maggieschedl/Library/Jupyter/runtime/kernel-24bf2bae-c4d0-4f36-a096-32b186079d1c.json']\n"
     ]
    }
   ],
   "source": [
    "# however interactive programs make it hard to work in an unsupervised workflow \n",
    "# command line arguments can be a different way of getting input \n",
    "import sys\n",
    "print(sys.argv)"
   ]
  },
  {
   "cell_type": "code",
   "execution_count": null,
   "id": "7085d0cf-ff11-4765-8a40-8e3f57654c9f",
   "metadata": {},
   "outputs": [],
   "source": [
    "# Note that the first element of sys.argv is always the name of the program itself, \n",
    "# so the first command line argument is at index one, the second at index two, etc"
   ]
  },
  {
   "cell_type": "code",
   "execution_count": null,
   "id": "deba4d03-189b-4c43-8fc3-b04dffcdd351",
   "metadata": {},
   "outputs": [],
   "source": [
    "# Just like with input, options and filenames given on the command line are stored as strings\n",
    "# so you might have to use int to convert it "
   ]
  },
  {
   "cell_type": "markdown",
   "id": "97e5dce5-5c77-492d-adfe-a2a9dbd0d44d",
   "metadata": {},
   "source": [
    "Exercises"
   ]
  },
  {
   "cell_type": "code",
   "execution_count": null,
   "id": "ac04fe3b-5539-4ded-9dc4-02fb22b27fbf",
   "metadata": {},
   "outputs": [],
   "source": [
    "# Binning DNA sequences \n",
    "# Write a program which creates nine new folders – one for sequences between 100 and 199 bases long, \n",
    "# one for sequences between 200 and 299 bases long, etc. \n",
    "#Write out each DNA sequence in the input files to a separate file in the appropriate folder"
   ]
  },
  {
   "cell_type": "code",
   "execution_count": 23,
   "id": "30f4aae8-8cd0-4e9d-83e3-58db83f9fff9",
   "metadata": {},
   "outputs": [
    {
     "name": "stdout",
     "output_type": "stream",
     "text": [
      "File name is xag.dna\n",
      "File name is xaf.dna\n",
      "File name is xad.dna\n",
      "File name is xae.dna\n",
      "File name is xaa.dna\n",
      "File name is xab.dna\n",
      "File name is xac.dna\n",
      "File name is xah.dna\n",
      "File name is xai.dna\n",
      "File name is xaj.dna\n"
     ]
    }
   ],
   "source": [
    "# what are the files I need \n",
    "\n",
    "import os\n",
    "for file_name in os.listdir(\"/Users/maggieschedl/Desktop/Github/Python_4_Biologists_Learning_Group/exercises_and_examples/working_with_the_filesystem/exercises/\"):\n",
    "    if file_name.endswith(\".dna\"): # only want to look at files that have the .dna extension\n",
    "        print(\"File name is \" + file_name)"
   ]
  },
  {
   "cell_type": "code",
   "execution_count": 34,
   "id": "7d07184a-e383-4832-b51f-c8c22400b6d9",
   "metadata": {},
   "outputs": [
    {
     "name": "stdout",
     "output_type": "stream",
     "text": [
      "File name is xag.dna\n"
     ]
    },
    {
     "ename": "FileNotFoundError",
     "evalue": "[Errno 2] No such file or directory: 'xag.dna'",
     "output_type": "error",
     "traceback": [
      "\u001b[0;31m---------------------------------------------------------------------------\u001b[0m",
      "\u001b[0;31mFileNotFoundError\u001b[0m                         Traceback (most recent call last)",
      "Input \u001b[0;32mIn [34]\u001b[0m, in \u001b[0;36m<cell line: 16>\u001b[0;34m()\u001b[0m\n\u001b[1;32m     17\u001b[0m \u001b[38;5;28;01mif\u001b[39;00m file_name\u001b[38;5;241m.\u001b[39mendswith(\u001b[38;5;124m\"\u001b[39m\u001b[38;5;124m.dna\u001b[39m\u001b[38;5;124m\"\u001b[39m): \u001b[38;5;66;03m# only want to look at files that have the .dna extension\u001b[39;00m\n\u001b[1;32m     18\u001b[0m     \u001b[38;5;28mprint\u001b[39m(\u001b[38;5;124m\"\u001b[39m\u001b[38;5;124mFile name is \u001b[39m\u001b[38;5;124m\"\u001b[39m \u001b[38;5;241m+\u001b[39m file_name)\n\u001b[0;32m---> 19\u001b[0m     dna \u001b[38;5;241m=\u001b[39m \u001b[38;5;28;43mopen\u001b[39;49m\u001b[43m(\u001b[49m\u001b[43mfile_name\u001b[49m\u001b[43m)\u001b[49m \u001b[38;5;66;03m# open each file as it loops through \u001b[39;00m\n\u001b[1;32m     20\u001b[0m     \u001b[38;5;28;01mfor\u001b[39;00m lines \u001b[38;5;129;01min\u001b[39;00m dna:\n\u001b[1;32m     21\u001b[0m         sequence \u001b[38;5;241m=\u001b[39m lines\u001b[38;5;241m.\u001b[39mrstrip(\u001b[38;5;124m\"\u001b[39m\u001b[38;5;124m/n\u001b[39m\u001b[38;5;124m\"\u001b[39m) \u001b[38;5;66;03m# remove the new line from each line to not mess up length\u001b[39;00m\n",
      "\u001b[0;31mFileNotFoundError\u001b[0m: [Errno 2] No such file or directory: 'xag.dna'"
     ]
    }
   ],
   "source": [
    "# not sure what is going on here but it won't recognize the files...\n",
    "# but it knows the file names so it clearly does recognize the files!?\n",
    "\n",
    "\n",
    "# want to create the folders first \n",
    "# create a new folder for each bin\n",
    "for bin_lower in range(100,1000,100):\n",
    "    bin_upper = bin_lower + 99\n",
    "    bin_folder_name = str(bin_lower) + \"_\" + str(bin_upper)\n",
    "    os.mkdir(bin_folder_name)\n",
    "# sequences will be named by just what number they are in the \"list\"\n",
    "# create a variable to hold the sequence number\n",
    "seq_number = 1\n",
    "\n",
    "\n",
    "for file_name in os.listdir(\"/Users/maggieschedl/Desktop/Github/Python_4_Biologists_Learning_Group/exercises_and_examples/working_with_the_filesystem/exercises/\"):\n",
    "    if file_name.endswith(\".dna\"): # only want to look at files that have the .dna extension\n",
    "        print(\"File name is \" + file_name)\n",
    "        dna = open(file_name) # open each file as it loops through \n",
    "        for lines in dna:\n",
    "            sequence = lines.rstrip(\"/n\") # remove the new line from each line to not mess up length\n",
    "            sequence_len = len(lines) # find the length of the line \n",
    "            print(str(sequence_len)) # print the length as a string \n",
    "            # go through each bin and check if the sequence belongs in specific \"bin\" sizes\n",
    "            for bin_lower in range(100,1000,100): # create a range that goes from 100 to 1000 in 100 count incriments\n",
    "                bin_upper = bin_lower + 99 # the upper bin is the lower bin + 99\n",
    "                if sequence_len >= bin_lower and sequence_len < bin_upper: # if the length is within the certain bounds, print those bounds\n",
    "                    print(\"bin is \" + str(bin_lower) + \" to \" + str(bin_upper))\n",
    "                    bin_folder_name = str(bin_lower) + \"_\" + str(bin_upper) # what is the bin folder for this sequence\n",
    "                    output_path = bin_folder_name + '/' + str(seq_number) + '.dna' # this is the path to the output file\n",
    "                    output = open(output_path, \"w\") # open a new file\n",
    "                    output.write(sequence) # write out what the sequence is \n",
    "                    output.close()\n",
    "                    # increment the sequence number\n",
    "                    seq_number = seq_number+1\n"
   ]
  },
  {
   "cell_type": "code",
   "execution_count": null,
   "id": "1e34f322-3926-4f50-a49d-5c4c3734546b",
   "metadata": {},
   "outputs": [],
   "source": [
    "# Write a program that will calculate the number of all kmers of a given length across all \n",
    "# DNA sequences in the input files and display just the ones that occur more than a given number of times. \n",
    "# You program should take two command line arguments – the kmer length, and the cutoff number."
   ]
  },
  {
   "cell_type": "code",
   "execution_count": 36,
   "id": "10690624-663f-4fd2-a097-9a2d769f2483",
   "metadata": {},
   "outputs": [],
   "source": [
    "# make a function that breaks up a sequence into kmers of an input length \n",
    "\n",
    "def kmer_split(dna, kmer_size): # inputs are the dna sequencxe and the length of the kmer \n",
    "    kmers = [] # create an empty list to put the kmers in\n",
    "    for start in range(0,len(dna)-(kmer_size-1),1): # range is from starting position 0 to the end of the sequence - a kmer length, incrimenting by 1 \n",
    "        kmer = dna[start:start+kmer_size] # break up the sequence into a kmer\n",
    "        kmers.append(kmer)\n",
    "    return kmers # give that list "
   ]
  },
  {
   "cell_type": "code",
   "execution_count": 38,
   "id": "e1c6653e-4d60-4628-bad9-c945744f36ee",
   "metadata": {},
   "outputs": [
    {
     "data": {
      "text/plain": [
       "['AAG',\n",
       " 'AGT',\n",
       " 'GTC',\n",
       " 'TCG',\n",
       " 'CGT',\n",
       " 'GTT',\n",
       " 'TTA',\n",
       " 'TAT',\n",
       " 'ATC',\n",
       " 'TCG',\n",
       " 'CGT',\n",
       " 'GTG',\n",
       " 'TGG',\n",
       " 'GGA',\n",
       " 'GAC',\n",
       " 'ACG',\n",
       " 'CGA',\n",
       " 'GAT']"
      ]
     },
     "execution_count": 38,
     "metadata": {},
     "output_type": "execute_result"
    }
   ],
   "source": [
    "# test the function \n",
    "dna = \"AAGTCGTTATCGTGGACGAT\"\n",
    "\n",
    "kmer_split(dna, 3)"
   ]
  },
  {
   "cell_type": "code",
   "execution_count": 42,
   "id": "a5a5c012-5c28-4544-b910-1680a25ad7b4",
   "metadata": {},
   "outputs": [
    {
     "name": "stdout",
     "output_type": "stream",
     "text": [
      "File name is xag.dna\n"
     ]
    },
    {
     "ename": "FileNotFoundError",
     "evalue": "[Errno 2] No such file or directory: 'xag.dna'",
     "output_type": "error",
     "traceback": [
      "\u001b[0;31m---------------------------------------------------------------------------\u001b[0m",
      "\u001b[0;31mFileNotFoundError\u001b[0m                         Traceback (most recent call last)",
      "Input \u001b[0;32mIn [42]\u001b[0m, in \u001b[0;36m<cell line: 15>\u001b[0;34m()\u001b[0m\n\u001b[1;32m     16\u001b[0m \u001b[38;5;28;01mif\u001b[39;00m file_name\u001b[38;5;241m.\u001b[39mendswith(\u001b[38;5;124m\"\u001b[39m\u001b[38;5;124m.dna\u001b[39m\u001b[38;5;124m\"\u001b[39m): \u001b[38;5;66;03m# only want to look at files that have the .dna extension\u001b[39;00m\n\u001b[1;32m     17\u001b[0m     \u001b[38;5;28mprint\u001b[39m(\u001b[38;5;124m\"\u001b[39m\u001b[38;5;124mFile name is \u001b[39m\u001b[38;5;124m\"\u001b[39m \u001b[38;5;241m+\u001b[39m file_name)\n\u001b[0;32m---> 18\u001b[0m     dna \u001b[38;5;241m=\u001b[39m \u001b[38;5;28;43mopen\u001b[39;49m\u001b[43m(\u001b[49m\u001b[43mfile_name\u001b[49m\u001b[43m)\u001b[49m \u001b[38;5;66;03m# open each file as it loops through \u001b[39;00m\n\u001b[1;32m     19\u001b[0m     \u001b[38;5;28;01mfor\u001b[39;00m lines \u001b[38;5;129;01min\u001b[39;00m dna:\n\u001b[1;32m     20\u001b[0m         sequence \u001b[38;5;241m=\u001b[39m lines\u001b[38;5;241m.\u001b[39mrstrip(\u001b[38;5;124m\"\u001b[39m\u001b[38;5;124m/n\u001b[39m\u001b[38;5;124m\"\u001b[39m) \u001b[38;5;66;03m# remove the new line from each line to not mess up length\u001b[39;00m\n",
      "\u001b[0;31mFileNotFoundError\u001b[0m: [Errno 2] No such file or directory: 'xag.dna'"
     ]
    }
   ],
   "source": [
    "# now what I want is a dictionary that has info from the files that are kmers and their counts \n",
    "# Can use the opening files from last exercise \n",
    "# but I get the same error, not sure why. This is the same code from the book!\n",
    "\n",
    "# make the km\n",
    "# kmer_len = input(\"kmer length is\")\n",
    "# count_cutoff = input(\"kmer count cutoff is\")\n",
    "\n",
    "kmer_counts = {} # make an empty dictionary \n",
    "\n",
    "# make command line arguments variables\n",
    "# not sure what the errors are on these \n",
    "# kmer_size = int(sys.argv[1])\n",
    "# count_cutoff = int(sys.argv[2])\n",
    "\n",
    "for file_name in os.listdir(\"/Users/maggieschedl/Desktop/Github/Python_4_Biologists_Learning_Group/exercises_and_examples/working_with_the_filesystem/exercises/\"):\n",
    "    if file_name.endswith(\".dna\"): # only want to look at files that have the .dna extension\n",
    "        print(\"File name is \" + file_name)\n",
    "        dna = open(file_name) # open each file as it loops through \n",
    "        for lines in dna:\n",
    "            sequence = lines.rstrip(\"/n\") # remove the new line from each line to not mess up length\n",
    "            sequence_len = len(lines) # find the length of the line \n",
    "            print(str(sequence_len))\n",
    "            for kmer in kmer_split(dna, kmer_len):\n",
    "                current_count = kmer_counts.get(kmer, 0) # look up what the count of the kmer is in the dictionary\n",
    "                new_count = current_count + 1 # add 1 to that count \n",
    "                kmer_counts[kmer] = new_count # for that kmer key in the dictionary, make the new count the value \n",
    "                count_cutoff = 23\n",
    "                for kmer, count in kmer_counts.items(): # now go through the dictionary\n",
    "                    if count > count_cutoff: # if the count is greater than the cutoff\n",
    "                    print(kmer + \" : \" + str(count)) # print the kmer and the count"
   ]
  },
  {
   "cell_type": "code",
   "execution_count": null,
   "id": "f3add0a9-130c-4c46-858f-f89bc5a94ed6",
   "metadata": {},
   "outputs": [],
   "source": []
  },
  {
   "cell_type": "code",
   "execution_count": null,
   "id": "f3bb910b-a519-4573-9e09-3f6fa8b0137b",
   "metadata": {},
   "outputs": [],
   "source": []
  },
  {
   "cell_type": "code",
   "execution_count": null,
   "id": "f6050c06-89ef-4726-8ee4-017f6b6f96d0",
   "metadata": {},
   "outputs": [],
   "source": []
  },
  {
   "cell_type": "code",
   "execution_count": null,
   "id": "58928aba-4f09-4fa6-bdb3-190e458fec63",
   "metadata": {},
   "outputs": [],
   "source": []
  },
  {
   "cell_type": "code",
   "execution_count": null,
   "id": "e3073c61-33b1-4e4d-9e71-bd153bfe88bb",
   "metadata": {},
   "outputs": [],
   "source": []
  },
  {
   "cell_type": "code",
   "execution_count": null,
   "id": "dacfbef8-97ce-4931-a2d9-2ffdd3dc4492",
   "metadata": {},
   "outputs": [],
   "source": []
  },
  {
   "cell_type": "code",
   "execution_count": null,
   "id": "0ca39dfb-7206-47e4-955a-d3fbe730e3c0",
   "metadata": {},
   "outputs": [],
   "source": []
  },
  {
   "cell_type": "code",
   "execution_count": null,
   "id": "c00b595c-6a4f-4a94-a8ab-f7846f47ef67",
   "metadata": {},
   "outputs": [],
   "source": []
  },
  {
   "cell_type": "code",
   "execution_count": null,
   "id": "13366d5b-c581-4ca1-883a-239e40bf9d73",
   "metadata": {},
   "outputs": [],
   "source": []
  },
  {
   "cell_type": "code",
   "execution_count": null,
   "id": "cc052b98-db7d-4288-ba36-9c0b0ee08654",
   "metadata": {},
   "outputs": [],
   "source": []
  },
  {
   "cell_type": "code",
   "execution_count": null,
   "id": "bb1c90ed-4d25-4a32-8c98-d244ca323532",
   "metadata": {},
   "outputs": [],
   "source": []
  },
  {
   "cell_type": "code",
   "execution_count": null,
   "id": "7c94415c-a031-4ab0-868d-a15a456f2d8d",
   "metadata": {},
   "outputs": [],
   "source": []
  },
  {
   "cell_type": "code",
   "execution_count": null,
   "id": "2e1110a2-7df8-4ff0-8d0e-c8cceb0b074b",
   "metadata": {},
   "outputs": [],
   "source": []
  },
  {
   "cell_type": "code",
   "execution_count": null,
   "id": "bfdf0c69-b6ba-489e-af80-58314b5e7f80",
   "metadata": {},
   "outputs": [],
   "source": []
  },
  {
   "cell_type": "code",
   "execution_count": null,
   "id": "8f6ec55f-ea55-4cda-b42d-3286c307918f",
   "metadata": {},
   "outputs": [],
   "source": []
  },
  {
   "cell_type": "code",
   "execution_count": null,
   "id": "caf8ec39-e45d-4555-99ca-67253c216a20",
   "metadata": {},
   "outputs": [],
   "source": []
  },
  {
   "cell_type": "code",
   "execution_count": null,
   "id": "a5682e3d-f4be-47c5-8887-0e654138cd31",
   "metadata": {},
   "outputs": [],
   "source": []
  }
 ],
 "metadata": {
  "kernelspec": {
   "display_name": "Python 3 (ipykernel)",
   "language": "python",
   "name": "python3"
  },
  "language_info": {
   "codemirror_mode": {
    "name": "ipython",
    "version": 3
   },
   "file_extension": ".py",
   "mimetype": "text/x-python",
   "name": "python",
   "nbconvert_exporter": "python",
   "pygments_lexer": "ipython3",
   "version": "3.9.12"
  }
 },
 "nbformat": 4,
 "nbformat_minor": 5
}
