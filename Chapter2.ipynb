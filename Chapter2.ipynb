{
 "cells": [
  {
   "cell_type": "code",
   "execution_count": 1,
   "id": "83b2c38b-ceef-4fa9-a2c5-121b099f18d0",
   "metadata": {},
   "outputs": [
    {
     "name": "stdout",
     "output_type": "stream",
     "text": [
      "Hello World\n"
     ]
    }
   ],
   "source": [
    "print(\"Hello World\")"
   ]
  },
  {
   "cell_type": "markdown",
   "id": "59af25d1-883a-40de-b990-299bbfbdd6ca",
   "metadata": {},
   "source": [
    "print() is a function, and \"Hello World\" is an argument "
   ]
  },
  {
   "cell_type": "code",
   "execution_count": null,
   "id": "bd6607ad-8eab-4130-a07c-6399a50e24cc",
   "metadata": {},
   "outputs": [],
   "source": [
    "# lines of code can be commented too with a hash "
   ]
  },
  {
   "cell_type": "code",
   "execution_count": 2,
   "id": "8b4006e1-87c1-4756-a6e4-129661c55b3f",
   "metadata": {},
   "outputs": [
    {
     "ename": "SyntaxError",
     "evalue": "invalid syntax (<ipython-input-2-3bf593c4e4f6>, line 2)",
     "output_type": "error",
     "traceback": [
      "\u001b[0;36m  Input \u001b[0;32mIn [2]\u001b[0;36m\u001b[0m\n\u001b[0;31m    print(hello world)\u001b[0m\n\u001b[0m                ^\u001b[0m\n\u001b[0;31mSyntaxError\u001b[0m\u001b[0;31m:\u001b[0m invalid syntax\n"
     ]
    }
   ],
   "source": [
    "# purposeful error code \n",
    "print(hello world)"
   ]
  },
  {
   "cell_type": "code",
   "execution_count": 3,
   "id": "41a665b0-845e-4e79-80d1-b1b82a9d3c20",
   "metadata": {},
   "outputs": [
    {
     "ename": "NameError",
     "evalue": "name 'pint' is not defined",
     "output_type": "error",
     "traceback": [
      "\u001b[0;31m---------------------------------------------------------------------------\u001b[0m",
      "\u001b[0;31mNameError\u001b[0m                                 Traceback (most recent call last)",
      "Input \u001b[0;32mIn [3]\u001b[0m, in \u001b[0;36m<cell line: 2>\u001b[0;34m()\u001b[0m\n\u001b[1;32m      1\u001b[0m \u001b[38;5;66;03m# another purposeful error \u001b[39;00m\n\u001b[0;32m----> 2\u001b[0m \u001b[43mpint\u001b[49m(\u001b[38;5;124m\"\u001b[39m\u001b[38;5;124mhello world\u001b[39m\u001b[38;5;124m\"\u001b[39m)\n",
      "\u001b[0;31mNameError\u001b[0m: name 'pint' is not defined"
     ]
    }
   ],
   "source": [
    "# another purposeful error \n",
    "pint(\"hello world\")"
   ]
  },
  {
   "cell_type": "code",
   "execution_count": 4,
   "id": "70c31c31-c20e-43a3-b854-6e2ff176dc53",
   "metadata": {},
   "outputs": [
    {
     "name": "stdout",
     "output_type": "stream",
     "text": [
      "hello\n",
      "world\n"
     ]
    }
   ],
   "source": [
    "# print phrase with line break \n",
    "print(\"hello\\nworld\")"
   ]
  },
  {
   "cell_type": "code",
   "execution_count": 5,
   "id": "eadd22ac-c5b3-4ad4-87dc-da1f548c56f3",
   "metadata": {},
   "outputs": [],
   "source": [
    "# store a short DNA sequence \n",
    "DNA_Seq = \"AAGTCGT\""
   ]
  },
  {
   "cell_type": "code",
   "execution_count": 6,
   "id": "85a0224f-cde4-464a-b0fa-3c1bcb22ec70",
   "metadata": {},
   "outputs": [
    {
     "name": "stdout",
     "output_type": "stream",
     "text": [
      "AAGTCGT\n"
     ]
    }
   ],
   "source": [
    "# print that sequence \n",
    "print(DNA_Seq)"
   ]
  },
  {
   "cell_type": "code",
   "execution_count": 7,
   "id": "2f807e40-b4cf-479c-8794-1289e134ebe0",
   "metadata": {},
   "outputs": [
    {
     "data": {
      "text/plain": [
       "7"
      ]
     },
     "execution_count": 7,
     "metadata": {},
     "output_type": "execute_result"
    }
   ],
   "source": [
    "# try to find the length of the sequence \n",
    "len(DNA_Seq)"
   ]
  },
  {
   "cell_type": "code",
   "execution_count": 10,
   "id": "75659015-698e-4181-9089-ec60f97532b5",
   "metadata": {},
   "outputs": [
    {
     "name": "stdout",
     "output_type": "stream",
     "text": [
      "The length of my sequence is 7\n"
     ]
    }
   ],
   "source": [
    "# what if I want to turn the length of the sequence into a string instead of a number?\n",
    "length_DNA = len(DNA_Seq)\n",
    "print(\"The length of my sequence is \" + str(length_DNA))"
   ]
  },
  {
   "cell_type": "code",
   "execution_count": 11,
   "id": "08db0791-67d8-467c-99d3-88c4727ea686",
   "metadata": {},
   "outputs": [
    {
     "name": "stdout",
     "output_type": "stream",
     "text": [
      "aagtcgt\n"
     ]
    }
   ],
   "source": [
    "# using a method > like a function but only for a particular type of thing \n",
    "print(DNA_Seq.lower())\n",
    "# write the variable first, then a period, then the method, followed \n",
    "# by parentheses including arguments (if any)\n",
    "# method does not change the variable (DNA_Seq)"
   ]
  },
  {
   "cell_type": "code",
   "execution_count": 12,
   "id": "ef37fab4-30ec-4053-b726-f43d0280eb43",
   "metadata": {},
   "outputs": [
    {
     "name": "stdout",
     "output_type": "stream",
     "text": [
      "vtspadktnv\n"
     ]
    }
   ],
   "source": [
    "# using the replace method \n",
    "protein = \"vlspadktnv\"\n",
    "# replace l with t\n",
    "print(protein.replace(\"l\", \"t\"))"
   ]
  },
  {
   "cell_type": "code",
   "execution_count": 13,
   "id": "c0ae477b-a7c1-48ff-8bac-7946d28a9138",
   "metadata": {},
   "outputs": [
    {
     "name": "stdout",
     "output_type": "stream",
     "text": [
      "sp\n"
     ]
    }
   ],
   "source": [
    "# print a portion, or a substring, of the protein sequence \n",
    "print(protein[2:4])\n",
    "# notice that the \"1st\" position is actually 0\n",
    "# also notice that the first position gets included, but the stop position is not included"
   ]
  },
  {
   "cell_type": "code",
   "execution_count": 15,
   "id": "1544b1a1-0368-401b-84ad-4c1089b47bb6",
   "metadata": {},
   "outputs": [
    {
     "name": "stdout",
     "output_type": "stream",
     "text": [
      "number of Vs: 2\n"
     ]
    }
   ],
   "source": [
    "# count how many Vs in the protein sequence \n",
    "V_counts = protein.count(\"v\")\n",
    "print(\"number of Vs: \" + str(V_counts))"
   ]
  },
  {
   "cell_type": "code",
   "execution_count": 16,
   "id": "852d5a42-f2da-41b2-939c-38d965f7cca3",
   "metadata": {},
   "outputs": [
    {
     "data": {
      "text/plain": [
       "4"
      ]
     },
     "execution_count": 16,
     "metadata": {},
     "output_type": "execute_result"
    }
   ],
   "source": [
    "# also find the position of a protein in the sequence \n",
    "protein.find(\"a\")"
   ]
  },
  {
   "cell_type": "code",
   "execution_count": 18,
   "id": "c8653280-ae5b-43f0-b213-3ba56d9a428e",
   "metadata": {},
   "outputs": [
    {
     "name": "stdout",
     "output_type": "stream",
     "text": [
      "a is in position 4\n"
     ]
    }
   ],
   "source": [
    "# or \n",
    "print(\"a is in position \" + str(protein.find(\"a\")))"
   ]
  },
  {
   "cell_type": "markdown",
   "id": "8e8db837-5da6-4383-936e-e25a694b5d0f",
   "metadata": {},
   "source": [
    "Exercises"
   ]
  },
  {
   "cell_type": "markdown",
   "id": "10948d8b-1182-4955-9d31-eda2a4458e50",
   "metadata": {},
   "source": [
    "1 Calculating AT content"
   ]
  },
  {
   "cell_type": "code",
   "execution_count": 20,
   "id": "129f4cbb-4b1e-4a36-be0c-5c64a487912b",
   "metadata": {},
   "outputs": [],
   "source": [
    "# find the AT content of this sequence \n",
    "#  ACTGATCGATTACGTATAGTATTTGCTATCATACATATATATCGATGCGTTCAT\n",
    "# first make it into a variable \n",
    "sequence = \"ACTGATCGATTACGTATAGTATTTGCTATCATACATATATATCGATGCGTTCAT\""
   ]
  },
  {
   "cell_type": "code",
   "execution_count": 21,
   "id": "11790d2d-6bbd-405d-84e2-37d47f4b62ce",
   "metadata": {},
   "outputs": [],
   "source": [
    "# now I want to count how many As and Ts \n",
    "A_counts = sequence.count(\"A\")\n",
    "T_counts = sequence.count(\"T\")"
   ]
  },
  {
   "cell_type": "code",
   "execution_count": 22,
   "id": "1b4e1899-60cd-4957-89c9-0ec54e177ca3",
   "metadata": {},
   "outputs": [],
   "source": [
    "# now to add those numbers up \n",
    "AT_count = A_counts + T_counts"
   ]
  },
  {
   "cell_type": "code",
   "execution_count": 23,
   "id": "44f3a1da-005c-4e95-9de8-0e6ce88adc51",
   "metadata": {},
   "outputs": [
    {
     "name": "stdout",
     "output_type": "stream",
     "text": [
      "37\n"
     ]
    }
   ],
   "source": [
    "# what is this number?\n",
    "print(AT_count)"
   ]
  },
  {
   "cell_type": "code",
   "execution_count": 25,
   "id": "bb787636-c728-4c3d-b321-606a3097fc19",
   "metadata": {},
   "outputs": [
    {
     "name": "stdout",
     "output_type": "stream",
     "text": [
      "54\n"
     ]
    }
   ],
   "source": [
    "# usually AT content is presented as a percentage, so I need to know how long the sequence is too \n",
    "length_sequence = len(sequence)\n",
    "print(length_sequence)"
   ]
  },
  {
   "cell_type": "code",
   "execution_count": 28,
   "id": "0c460ff3-c26e-4293-81ec-11b6e1438ec1",
   "metadata": {},
   "outputs": [
    {
     "name": "stdout",
     "output_type": "stream",
     "text": [
      "0.6851851851851852\n"
     ]
    }
   ],
   "source": [
    "# ok now I know the total number of bases and how many ATs \n",
    "AT_proportion = 37 / 54\n",
    "print(AT_percentage)"
   ]
  },
  {
   "cell_type": "code",
   "execution_count": 29,
   "id": "fe74d579-02c3-4529-9583-aaa7d4b36aa9",
   "metadata": {},
   "outputs": [
    {
     "name": "stdout",
     "output_type": "stream",
     "text": [
      "68.51851851851852\n"
     ]
    }
   ],
   "source": [
    "# this can be made into a percent by multiplying by 100 \n",
    "AT_percentage = AT_proportion * 100\n",
    "print (AT_percentage)"
   ]
  },
  {
   "cell_type": "code",
   "execution_count": 30,
   "id": "e2af4947-98e3-424f-bc23-b23e6900d7bf",
   "metadata": {},
   "outputs": [
    {
     "name": "stdout",
     "output_type": "stream",
     "text": [
      "31.48148148148148\n"
     ]
    }
   ],
   "source": [
    "# and I can get GC content too \n",
    "GC_percentage = 100 - AT_percentage\n",
    "print(GC_percentage)"
   ]
  },
  {
   "cell_type": "markdown",
   "id": "b5e7d69a-6529-43e9-ac60-3562c49a172b",
   "metadata": {},
   "source": [
    "2 Complementing DNA"
   ]
  },
  {
   "cell_type": "code",
   "execution_count": null,
   "id": "ff2693ec-5cdb-4dc3-b1f5-11f73a4fe17c",
   "metadata": {},
   "outputs": [],
   "source": [
    "# what is the compliment of this sequence? \n",
    "# ACTGATCGATTACGTATAGTATTTGCTATCATACATATATATCGATGCGTTCAT\n",
    "# this is the same sequence as before so I don't need to make another variable "
   ]
  },
  {
   "cell_type": "code",
   "execution_count": 32,
   "id": "9fe008d1-17e8-4e7f-9357-4eea062f5b35",
   "metadata": {},
   "outputs": [
    {
     "name": "stdout",
     "output_type": "stream",
     "text": [
      "ACTGATCGATTACGTATAGTATTTGCTATCATACATATATATCGTACGGTTCAT\n"
     ]
    }
   ],
   "source": [
    "# I need to replace each letter with its compliment, without double replacing...\n",
    "print(sequence.replace(\"A\" \"T\" \"G\" \"C\", \"T\" \"A\" \"C\" \"G\"))"
   ]
  },
  {
   "cell_type": "code",
   "execution_count": null,
   "id": "1dbe0c99-fa13-4e5f-9f75-6bbb61671538",
   "metadata": {},
   "outputs": [],
   "source": [
    "# That doesn't work\n",
    "# I went into the solutions to figure this one out because I didn't have any ideas "
   ]
  },
  {
   "cell_type": "code",
   "execution_count": 33,
   "id": "41c032bf-d78c-47e8-865e-b4152a04636e",
   "metadata": {},
   "outputs": [
    {
     "name": "stdout",
     "output_type": "stream",
     "text": [
      "tgactagctaatgcatatcataaacgatagtatgtatatatagctacgcaagta\n"
     ]
    }
   ],
   "source": [
    "# You can replace each with a lowercase, then make them all upper case\n",
    "replace_1 = sequence.replace(\"A\", \"t\")\n",
    "replace_2 = replace_1.replace(\"T\", \"a\")\n",
    "replace_3 = replace_2.replace(\"C\", \"g\")\n",
    "replace_4 = replace_3.replace(\"G\", \"c\")\n",
    "# check the string\n",
    "print(replace_4)"
   ]
  },
  {
   "cell_type": "code",
   "execution_count": 34,
   "id": "30ea4508-050e-4a3a-bf17-c66c299ee5f7",
   "metadata": {},
   "outputs": [
    {
     "name": "stdout",
     "output_type": "stream",
     "text": [
      "TGACTAGCTAATGCATATCATAAACGATAGTATGTATATATAGCTACGCAAGTA\n"
     ]
    }
   ],
   "source": [
    "# ok that seems right, now to make it uppercase \n",
    "sequence_compliment = replace_4.upper()\n",
    "print(sequence_compliment)"
   ]
  },
  {
   "cell_type": "markdown",
   "id": "a8901079-46a6-4479-b0ae-62c5af63fa5b",
   "metadata": {},
   "source": [
    "Restriction fragment lengths"
   ]
  },
  {
   "cell_type": "code",
   "execution_count": null,
   "id": "50e6dfd0-344c-4a8f-83b9-2d834b126672",
   "metadata": {},
   "outputs": [],
   "source": [
    "# calculate the length of the fragments in my sequence when cut by EcoRI \n",
    "# which cuts here: G*AATTC"
   ]
  },
  {
   "cell_type": "code",
   "execution_count": 35,
   "id": "63a1802e-4ea9-41b4-a45c-b4c7bc32f3c7",
   "metadata": {},
   "outputs": [
    {
     "data": {
      "text/plain": [
       "-1"
      ]
     },
     "execution_count": 35,
     "metadata": {},
     "output_type": "execute_result"
    }
   ],
   "source": [
    "# I need to find where GAATTC is in the sequence \n",
    "sequence.find(\"GAATTC\")"
   ]
  },
  {
   "cell_type": "code",
   "execution_count": 36,
   "id": "6ae77281-98f0-4feb-9e5a-93a15f1bec8e",
   "metadata": {},
   "outputs": [],
   "source": [
    "# hmmm this says it doesn't exist\n",
    "# let me make sure the sequence is the right one \n",
    "sequence_2 = \"ACTGATCGATTACGTATAGTAGAATTCTATCATACATATATATCGATGCGTTCAT\""
   ]
  },
  {
   "cell_type": "code",
   "execution_count": 39,
   "id": "98c09e47-7053-4c24-aa1b-f630fda95e11",
   "metadata": {},
   "outputs": [
    {
     "data": {
      "text/plain": [
       "21"
      ]
     },
     "execution_count": 39,
     "metadata": {},
     "output_type": "execute_result"
    }
   ],
   "source": [
    "# now does my find work?\n",
    "sequence_2.find(\"GAATTC\")"
   ]
  },
  {
   "cell_type": "code",
   "execution_count": 40,
   "id": "d7f0df8a-d5ca-4048-9a90-d0821935fc47",
   "metadata": {},
   "outputs": [
    {
     "name": "stdout",
     "output_type": "stream",
     "text": [
      "ACTGATCGATTACGTATAGTAG\n"
     ]
    }
   ],
   "source": [
    "# great, my mistake\n",
    "# ok so my guess is that the G is position 21, so I'll actually want to break it up after the G \n",
    "# this can be done by makeing a substring \n",
    "fragment_1 = sequence_2[0:22]\n",
    "# does this preseve the G?\n",
    "print(fragment_1)"
   ]
  },
  {
   "cell_type": "code",
   "execution_count": 41,
   "id": "a43b288b-48f4-4f93-b0b4-5fba652c885e",
   "metadata": {},
   "outputs": [
    {
     "name": "stdout",
     "output_type": "stream",
     "text": [
      "ATTCTATCATACATATATATCGATGCGTTCAT\n"
     ]
    }
   ],
   "source": [
    "# yes! great, now to print the other fragment \n",
    "fragment_2 = sequence_2[23:100]\n",
    "# the 100 is not the real end, but it is just a place holder \n",
    "print(fragment_2)"
   ]
  },
  {
   "cell_type": "code",
   "execution_count": 42,
   "id": "da2dd87f-2b65-4380-b715-dddb8ad4f64a",
   "metadata": {},
   "outputs": [
    {
     "name": "stdout",
     "output_type": "stream",
     "text": [
      "AATTCTATCATACATATATATCGATGCGTTCAT\n"
     ]
    }
   ],
   "source": [
    "# hmmm not quite, just missing an A \n",
    "fragment_2 = sequence_2[22:100]\n",
    "print(fragment_2)"
   ]
  },
  {
   "cell_type": "code",
   "execution_count": null,
   "id": "17d902f9-abab-4fd5-adde-690ca70de4cc",
   "metadata": {},
   "outputs": [],
   "source": [
    "# perfect!"
   ]
  },
  {
   "cell_type": "markdown",
   "id": "1660612c-0691-42f0-8d9d-da325dc1e79c",
   "metadata": {},
   "source": [
    "Splicing out introns, part one"
   ]
  },
  {
   "cell_type": "code",
   "execution_count": null,
   "id": "44220ece-7614-4015-9e50-f3be056a97a3",
   "metadata": {},
   "outputs": [],
   "source": [
    "# separate out coding exons from this sequence:\n",
    "# ATCGATCGATCGATCGACTGACTAGTCATAGCTATGCATGTAGCTACTCGATCGATCGATCGATCGATCGATCGATCGATCGATCATGCTATCATCGATCGATATCGATGCATCGACTACTAT"
   ]
  },
  {
   "cell_type": "code",
   "execution_count": 44,
   "id": "5bbe486d-3783-40d9-bbe2-f7dfb3b681cc",
   "metadata": {},
   "outputs": [
    {
     "name": "stdout",
     "output_type": "stream",
     "text": [
      "ATCGATCGATCGATCGACTGACTAGTCATAGCTATGCATGTAGCTACTCGATCGATCGATCGATCGATCGATCGATCGATCGATCATGCTATCATCGATCGATATCGATGCATCGACTACTAT\n"
     ]
    }
   ],
   "source": [
    "sequence_3 = \"ATCGATCGATCGATCGACTGACTAGTCATAGCTATGCATGTAGCTACTCGATCGATCGATCGATCGATCGATCGATCGATCGATCATGCTATCATCGATCGATATCGATGCATCGACTACTAT\"\n",
    "print(sequence_3)"
   ]
  },
  {
   "cell_type": "code",
   "execution_count": 46,
   "id": "bd46a16c-ccf3-4eb8-ab96-8098f714e551",
   "metadata": {},
   "outputs": [
    {
     "name": "stdout",
     "output_type": "stream",
     "text": [
      "ATCGATCGATCGATCGACTGACTAGTCATAGCTATGCATGTAGCTACTCGATCGATCGATCGAT\n"
     ]
    }
   ],
   "source": [
    "# first exon is from the first character to the 63rd \n",
    "first_exon = sequence_3[0:64]\n",
    "print(first_exon)"
   ]
  },
  {
   "cell_type": "code",
   "execution_count": 47,
   "id": "2719b8f8-f1fb-4bae-b9a1-d09c5c3bb3e2",
   "metadata": {},
   "outputs": [
    {
     "name": "stdout",
     "output_type": "stream",
     "text": [
      "ATCGATCGATATCGATGCATCGACTACTAT\n"
     ]
    }
   ],
   "source": [
    "# I am pretty sure that is right, but not completely sure \n",
    "# second exon is from the 91st character to the end \n",
    "second_exon = sequence_3[93:200]\n",
    "print(second_exon)"
   ]
  },
  {
   "cell_type": "markdown",
   "id": "f34837ec-d860-477f-a64e-9d56b7e7af33",
   "metadata": {},
   "source": [
    "Splicing out introns, part two"
   ]
  },
  {
   "cell_type": "code",
   "execution_count": 48,
   "id": "ef9f7b22-e5b8-48de-8b2e-01fd20809d40",
   "metadata": {},
   "outputs": [
    {
     "name": "stdout",
     "output_type": "stream",
     "text": [
      "123\n"
     ]
    }
   ],
   "source": [
    "# using that same sequence and coding/non-coding, what is the percentage of both?\n",
    "# length of full sequence \n",
    "seq_len = len(sequence_3)\n",
    "print(seq_len)"
   ]
  },
  {
   "cell_type": "code",
   "execution_count": 49,
   "id": "ff18c042-cb62-48d4-8468-acf58a368a38",
   "metadata": {},
   "outputs": [
    {
     "name": "stdout",
     "output_type": "stream",
     "text": [
      "94\n"
     ]
    }
   ],
   "source": [
    "# length of exons \n",
    "exon_1_len = len(first_exon)\n",
    "exon_2_len = len(second_exon)\n",
    "# combine lengths \n",
    "exon_total_len = exon_1_len + exon_2_len\n",
    "print(exon_total_len)"
   ]
  },
  {
   "cell_type": "code",
   "execution_count": 51,
   "id": "5f0c6485-0c4f-4658-8168-900274b64a8c",
   "metadata": {},
   "outputs": [
    {
     "name": "stdout",
     "output_type": "stream",
     "text": [
      "76.42276422764228\n"
     ]
    }
   ],
   "source": [
    "# calculate the proportion exon \n",
    "prop_exon = 94 / 123\n",
    "# calculate percentage exon \n",
    "percent_exon = prop_exon * 100\n",
    "print(percent_exon)"
   ]
  },
  {
   "cell_type": "markdown",
   "id": "e4a30ab3-f7ad-48cd-b11a-2ed041afbc47",
   "metadata": {},
   "source": [
    "Splicing out introns, part three"
   ]
  },
  {
   "cell_type": "code",
   "execution_count": 53,
   "id": "70885c44-8cf7-4ffd-8bdc-5ecfaa0c2252",
   "metadata": {},
   "outputs": [
    {
     "name": "stdout",
     "output_type": "stream",
     "text": [
      "cgatcgatcgatcgatcgatcatgctatc\n"
     ]
    }
   ],
   "source": [
    "# I need to make all the exons as uppercase, and introns as lowercase\n",
    "# separate out the intron\n",
    "intron = sequence_3[64:93]\n",
    "intron_lower = intron.lower()\n",
    "print(intron_lower)"
   ]
  },
  {
   "cell_type": "code",
   "execution_count": 54,
   "id": "6565319b-bbd0-402b-92a1-03e42757601e",
   "metadata": {},
   "outputs": [
    {
     "data": {
      "text/plain": [
       "29"
      ]
     },
     "execution_count": 54,
     "metadata": {},
     "output_type": "execute_result"
    }
   ],
   "source": [
    "# check that this is the right length \n",
    "len(intron_lower)"
   ]
  },
  {
   "cell_type": "code",
   "execution_count": 55,
   "id": "0043434e-7bd8-4846-b696-f6592d3423bd",
   "metadata": {},
   "outputs": [
    {
     "data": {
      "text/plain": [
       "123"
      ]
     },
     "execution_count": 55,
     "metadata": {},
     "output_type": "execute_result"
    }
   ],
   "source": [
    "94 + 29"
   ]
  },
  {
   "cell_type": "code",
   "execution_count": 56,
   "id": "56ffe2b0-3011-47bd-9723-80996960f667",
   "metadata": {},
   "outputs": [
    {
     "name": "stdout",
     "output_type": "stream",
     "text": [
      "ATCGATCGATCGATCGACTGACTAGTCATAGCTATGCATGTAGCTACTCGATCGATCGATCGATcgatcgatcgatcgatcgatcatgctatcATCGATCGATATCGATGCATCGACTACTAT\n"
     ]
    }
   ],
   "source": [
    "# good \n",
    "# now combine the sequences and print them \n",
    "print(first_exon + intron_lower + second_exon)\n"
   ]
  }
 ],
 "metadata": {
  "kernelspec": {
   "display_name": "Python 3 (ipykernel)",
   "language": "python",
   "name": "python3"
  },
  "language_info": {
   "codemirror_mode": {
    "name": "ipython",
    "version": 3
   },
   "file_extension": ".py",
   "mimetype": "text/x-python",
   "name": "python",
   "nbconvert_exporter": "python",
   "pygments_lexer": "ipython3",
   "version": "3.9.12"
  }
 },
 "nbformat": 4,
 "nbformat_minor": 5
}
