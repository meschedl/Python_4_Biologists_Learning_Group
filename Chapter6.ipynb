{
 "cells": [
  {
   "cell_type": "markdown",
   "id": "1bf06015-09d4-49d7-b3c3-68b47faaba67",
   "metadata": {},
   "source": [
    "Following along with Chapter on conditional tests"
   ]
  },
  {
   "cell_type": "code",
   "execution_count": 1,
   "id": "d0fe6987-6720-43c3-b0a9-32f09d8d2347",
   "metadata": {},
   "outputs": [
    {
     "name": "stdout",
     "output_type": "stream",
     "text": [
      "False\n",
      "False\n",
      "True\n",
      "False\n",
      "True\n",
      "True\n",
      "False\n",
      "True\n",
      "False\n",
      "True\n"
     ]
    }
   ],
   "source": [
    "print(3 == 5)\n",
    "print(3 > 5)\n",
    "print(3 <=5)\n",
    "print(len(\"ATGC\") > 5)\n",
    "print(\"GAATTC\".count(\"T\") > 1)\n",
    "print(\"ATGCTT\".startswith(\"ATG\"))\n",
    "print(\"ATGCTT\".endswith(\"TTT\"))\n",
    "print(\"ATGCTT\".isupper())\n",
    "print(\"ATGCTT\".islower())\n",
    "print(\"V\" in [\"V\", \"W\", \"L\"])"
   ]
  },
  {
   "cell_type": "code",
   "execution_count": null,
   "id": "0ad1cd58-77d3-44fe-81a9-aca5d9cedba9",
   "metadata": {},
   "outputs": [],
   "source": [
    "# we did not tell it to either print true or false \n",
    "# these are conditions "
   ]
  },
  {
   "cell_type": "code",
   "execution_count": 2,
   "id": "cf15b349-2417-4bfa-99da-ca742ad7eb0c",
   "metadata": {},
   "outputs": [
    {
     "name": "stdout",
     "output_type": "stream",
     "text": [
      "gene is highly expressed\n"
     ]
    }
   ],
   "source": [
    "# if statement \n",
    "expression_level = 125\n",
    "if expression_level > 100:\n",
    "   print(\"gene is highly expressed\")\n",
    "\n",
    "# if followed by a condition"
   ]
  },
  {
   "cell_type": "code",
   "execution_count": 3,
   "id": "627fc3f9-e150-48d7-b40b-468171b313f6",
   "metadata": {},
   "outputs": [
    {
     "name": "stdout",
     "output_type": "stream",
     "text": [
      "ab56\n",
      "ay93\n",
      "ap97\n"
     ]
    }
   ],
   "source": [
    "accs = ['ab56', 'bh84', 'hv76', 'ay93', 'ap97', 'bd72']\n",
    "for accession in accs:\n",
    "    if accession.startswith('a'):\n",
    "       print(accession)"
   ]
  },
  {
   "cell_type": "code",
   "execution_count": null,
   "id": "cd258649-b20c-4eee-8afb-d72e4dea67dd",
   "metadata": {},
   "outputs": [],
   "source": [
    "# notice that inside the if it is indented a second time"
   ]
  },
  {
   "cell_type": "code",
   "execution_count": null,
   "id": "de288a30-96ae-4ea9-a005-d063b024233a",
   "metadata": {},
   "outputs": [],
   "source": [
    "# If you find yourself writing a piece of code that requires more than three levels of indentation, \n",
    "# it's generally an indication that that piece of code should be turned into a function"
   ]
  },
  {
   "cell_type": "code",
   "execution_count": 4,
   "id": "9d473044-58a1-4c7f-9949-2b31543971a2",
   "metadata": {},
   "outputs": [
    {
     "name": "stdout",
     "output_type": "stream",
     "text": [
      "gene is highly expressed\n"
     ]
    }
   ],
   "source": [
    "# if/else statement \n",
    "expression_level = 125\n",
    "if expression_level > 100:\n",
    "   print(\"gene is highly expressed\")\n",
    "else:\n",
    "    print(\"gene is lowly expressed\")\n"
   ]
  },
  {
   "cell_type": "code",
   "execution_count": null,
   "id": "650308e5-d6df-4c10-a6c6-9e40e66d2d1b",
   "metadata": {},
   "outputs": [],
   "source": [
    "# the else statement body is execute when the if statement to which it's attached is not executed"
   ]
  },
  {
   "cell_type": "code",
   "execution_count": 6,
   "id": "213e9012-3455-4349-9bd3-7d8224aaeb9f",
   "metadata": {},
   "outputs": [],
   "source": [
    "file1 = open(\"one.txt\", \"w\")\n",
    "file2 = open(\"two.txt\", \"w\")\n",
    "accs = ['ab56', 'bh84', 'hv76', 'ay93', 'ap97', 'bd72']\n",
    "for accession in accs:\n",
    "    if accession.startswith('a'):\n",
    "       file1.write(accession + \"\\n\")\n",
    "    else:\n",
    "       file2.write(accession + \"\\n\")"
   ]
  },
  {
   "cell_type": "code",
   "execution_count": 7,
   "id": "1bfb9600-9768-421b-b8b6-38e8fa24e789",
   "metadata": {},
   "outputs": [],
   "source": [
    "# what about multiple options?\n",
    "# this starts to look like a mess \n",
    "file1 = open(\"one.txt\", \"w\")\n",
    "file2 = open(\"two.txt\", \"w\")\n",
    "file3 = open(\"three.txt\", \"w\")\n",
    "accs = ['ab56', 'bh84', 'hv76', 'ay93', 'ap97', 'bd72']\n",
    "for accession in accs:\n",
    "    if accession.startswith('a'):\n",
    "       file1.write(accession + \"\\n\")\n",
    "    else:\n",
    "       if accession.startswith('b'):\n",
    "           file2.write(accession + \"\\n\")\n",
    "       else:\n",
    "          file3.write(accession + \"\\n\")"
   ]
  },
  {
   "cell_type": "code",
   "execution_count": 8,
   "id": "52a130d4-1597-4ddc-b042-734ce5d3ab2e",
   "metadata": {},
   "outputs": [],
   "source": [
    "#elif statement does a second if \n",
    "file1 = open(\"one.txt\", \"w\")\n",
    "file2 = open(\"two.txt\", \"w\")\n",
    "file3 = open(\"three.txt\", \"w\")\n",
    "accs = ['ab56', 'bh84', 'hv76', 'ay93', 'ap97', 'bd72']\n",
    "for accession in accs:\n",
    "    if accession.startswith('a'):\n",
    "       file1.write(accession + \"\\n\")\n",
    "    elif accession.startswith('b'):\n",
    "       file2.write(accession + \"\\n\")\n",
    "    else:\n",
    "       file3.write(accession + \"\\n\")"
   ]
  },
  {
   "cell_type": "code",
   "execution_count": 9,
   "id": "408b5ea9-dfcd-4ab0-996d-daa8c634286e",
   "metadata": {},
   "outputs": [
    {
     "ename": "NameError",
     "evalue": "name 'file6' is not defined",
     "output_type": "error",
     "traceback": [
      "\u001b[0;31m---------------------------------------------------------------------------\u001b[0m",
      "\u001b[0;31mNameError\u001b[0m                                 Traceback (most recent call last)",
      "Input \u001b[0;32mIn [9]\u001b[0m, in \u001b[0;36m<cell line: 2>\u001b[0;34m()\u001b[0m\n\u001b[1;32m     12\u001b[0m    file5\u001b[38;5;241m.\u001b[39mwrite(accession \u001b[38;5;241m+\u001b[39m \u001b[38;5;124m\"\u001b[39m\u001b[38;5;130;01m\\n\u001b[39;00m\u001b[38;5;124m\"\u001b[39m)\n\u001b[1;32m     13\u001b[0m \u001b[38;5;28;01melse\u001b[39;00m:\n\u001b[0;32m---> 14\u001b[0m    \u001b[43mfile6\u001b[49m\u001b[38;5;241m.\u001b[39mwrite(accession \u001b[38;5;241m+\u001b[39m \u001b[38;5;124m\"\u001b[39m\u001b[38;5;130;01m\\n\u001b[39;00m\u001b[38;5;124m\"\u001b[39m)\n",
      "\u001b[0;31mNameError\u001b[0m: name 'file6' is not defined"
     ]
    }
   ],
   "source": [
    "# you can do many elifs \n",
    "for accession in accs:\n",
    "    if accession.startswith('a'):\n",
    "       file1.write(accession + \"\\n\")\n",
    "    elif accession.startswith('b'):\n",
    "       file2.write(accession + \"\\n\")\n",
    "    elif accession.startswith('c'):\n",
    "       file3.write(accession + \"\\n\")\n",
    "    elif accession.startswith('d'):\n",
    "       file4.write(accession + \"\\n\")\n",
    "    elif accession.startswith('e'):\n",
    "       file5.write(accession + \"\\n\")\n",
    "    else:\n",
    "       file6.write(accession + \"\\n\")"
   ]
  },
  {
   "cell_type": "code",
   "execution_count": 10,
   "id": "7ca23b38-98a0-4bcb-8430-bf181ed022f0",
   "metadata": {},
   "outputs": [
    {
     "name": "stdout",
     "output_type": "stream",
     "text": [
      "0\n",
      "1\n",
      "2\n",
      "3\n",
      "4\n",
      "5\n",
      "6\n",
      "7\n",
      "8\n",
      "9\n"
     ]
    }
   ],
   "source": [
    "# while loops run until a condition is met \n",
    "count = 0\n",
    "while count<10:\n",
    "    print(count)\n",
    "    count = count + 1"
   ]
  },
  {
   "cell_type": "code",
   "execution_count": 11,
   "id": "6612b67c-9999-487b-ba53-82ca1f553da8",
   "metadata": {},
   "outputs": [
    {
     "name": "stdout",
     "output_type": "stream",
     "text": [
      "ay93\n"
     ]
    }
   ],
   "source": [
    "# complex conditions \n",
    "# sometimes can have too many indentions \n",
    "accs = ['ab56', 'bh84', 'hv76', 'ay93', 'ap97', 'bd72']\n",
    "for accession in accs:\n",
    "    if accession.startswith('a'):\n",
    "       if accession.endswith('3'):\n",
    "          print(accession)"
   ]
  },
  {
   "cell_type": "code",
   "execution_count": 12,
   "id": "f8c1a3e6-5a4a-46b3-a063-84fb75d90cc5",
   "metadata": {},
   "outputs": [
    {
     "name": "stdout",
     "output_type": "stream",
     "text": [
      "ay93\n"
     ]
    }
   ],
   "source": [
    "# use an if and statement \n",
    "accs = ['ab56', 'bh84', 'hv76', 'ay93', 'ap97', 'bd72']\n",
    "for accession in accs:\n",
    "    if accession.startswith('a') and accession.endswith('3'):\n",
    "       print(accession)"
   ]
  },
  {
   "cell_type": "code",
   "execution_count": 13,
   "id": "bea80864-7c02-4db7-b4a5-ba556f5edf8a",
   "metadata": {},
   "outputs": [
    {
     "name": "stdout",
     "output_type": "stream",
     "text": [
      "ab56\n",
      "bh84\n",
      "ay93\n",
      "ap97\n",
      "bd72\n"
     ]
    }
   ],
   "source": [
    "# also do an if or statement \n",
    "accs = ['ab56', 'bh84', 'hv76', 'ay93', 'ap97', 'bd72']\n",
    "for accession in accs:\n",
    "    if accession.startswith('a') or accession.startswith('b'):\n",
    "       print(accession)"
   ]
  },
  {
   "cell_type": "code",
   "execution_count": 14,
   "id": "26dbd7a0-7010-413a-82e4-c64b3cb563d4",
   "metadata": {},
   "outputs": [
    {
     "name": "stdout",
     "output_type": "stream",
     "text": [
      "bh84\n"
     ]
    }
   ],
   "source": [
    "# even more complex conditions\n",
    "# notice the parenthesis \n",
    "accs = ['ab56', 'bh84', 'hv76', 'ay93', 'ap97', 'bd72']\n",
    "for acc in accs:\n",
    "    if (acc.startswith('a') or acc.startswith('b')) and acc.endswith('4'):\n",
    "       print(acc)"
   ]
  },
  {
   "cell_type": "code",
   "execution_count": 15,
   "id": "a7bbf018-7b3a-4bee-a20e-25af1621dfcf",
   "metadata": {},
   "outputs": [
    {
     "name": "stdout",
     "output_type": "stream",
     "text": [
      "ay93\n",
      "ap97\n"
     ]
    }
   ],
   "source": [
    "# also if not conditions \n",
    "accs = ['ab56', 'bh84', 'hv76', 'ay93', 'ap97', 'bd72']\n",
    "for acc in accs:\n",
    "    if acc.startswith('a') and not acc.endswith('6'):\n",
    "       print(acc)"
   ]
  },
  {
   "cell_type": "code",
   "execution_count": null,
   "id": "afff690a-bada-48aa-92b4-9029483c9b59",
   "metadata": {},
   "outputs": [],
   "source": [
    "# if, and, not are boolean operators"
   ]
  },
  {
   "cell_type": "code",
   "execution_count": 16,
   "id": "e455a845-91d0-482d-bb68-043d2533ecdf",
   "metadata": {},
   "outputs": [],
   "source": [
    "# writing a True/False function \n",
    "def is_at_rich(dna):\n",
    "    length = len(dna)\n",
    "    a_count = dna.upper().count('A')\n",
    "    t_count = dna.upper().count('T')\n",
    "    at_content = (a_count + t_count) / length\n",
    "    if at_content > 0.65:\n",
    "       return True\n",
    "    else:\n",
    "        return False"
   ]
  },
  {
   "cell_type": "code",
   "execution_count": 17,
   "id": "a596e1c8-183a-4277-8bae-75eceaf84cfa",
   "metadata": {},
   "outputs": [
    {
     "name": "stdout",
     "output_type": "stream",
     "text": [
      "True\n",
      "False\n"
     ]
    }
   ],
   "source": [
    "print(is_at_rich(\"ATTATCTACTA\"))\n",
    "print(is_at_rich(\"CGGCAGCGCT\"))"
   ]
  },
  {
   "cell_type": "code",
   "execution_count": null,
   "id": "000539c5-0232-4187-b125-49dce5d80b6b",
   "metadata": {},
   "outputs": [],
   "source": [
    "# you can then use the function in an if statement \n",
    "if is_at_rich(my_dna):\n",
    "    # do something with the sequence"
   ]
  },
  {
   "cell_type": "code",
   "execution_count": 19,
   "id": "7960def3-fecb-42d8-bcd3-f61fcecf834e",
   "metadata": {},
   "outputs": [],
   "source": [
    "def is_at_rich(dna):\n",
    "    length = len(dna)\n",
    "    a_count = dna.upper().count('A')\n",
    "    t_count = dna.upper().count('T')\n",
    "    at_content = (a_count + t_count) / length\n",
    "    return at_content > 0.65"
   ]
  },
  {
   "cell_type": "code",
   "execution_count": 20,
   "id": "5204207b-924c-4836-b240-5b4ad3e4b90a",
   "metadata": {},
   "outputs": [
    {
     "name": "stdout",
     "output_type": "stream",
     "text": [
      "True\n",
      "False\n"
     ]
    }
   ],
   "source": [
    "print(is_at_rich(\"ATTATCTACTA\"))\n",
    "print(is_at_rich(\"CGGCAGCGCT\"))"
   ]
  },
  {
   "cell_type": "markdown",
   "id": "7c976c50-46cd-464f-ab62-80593439ce00",
   "metadata": {},
   "source": [
    "Exercises "
   ]
  },
  {
   "cell_type": "code",
   "execution_count": null,
   "id": "de954d4c-3787-404a-9488-6fcd8c8d0c96",
   "metadata": {},
   "outputs": [],
   "source": [
    "# have csv file \n",
    "# Each line contains the following fields for a single gene in this order: \n",
    "# species name, sequence, gene name, expression level"
   ]
  },
  {
   "cell_type": "code",
   "execution_count": null,
   "id": "82cf0348-9fe4-4408-813b-6d256b8d443b",
   "metadata": {},
   "outputs": [],
   "source": [
    "# Print out the gene names for all genes belonging to Drosophila melanogaster or Drosophila simulans."
   ]
  },
  {
   "cell_type": "code",
   "execution_count": 44,
   "id": "8b85e6fe-9cf0-4144-9b66-4e0aee9e30f8",
   "metadata": {},
   "outputs": [
    {
     "name": "stdout",
     "output_type": "stream",
     "text": [
      "kdy647\n",
      "jdg766\n",
      "kdy533\n"
     ]
    }
   ],
   "source": [
    "csvdata = open(\"/Users/maggieschedl/Desktop/Github/Python_4_Biologists_Learning_Group/exercises_and_examples/conditional_tests/exercises/data.csv\")\n",
    "# don't need to do this? csvdata_contents = csvdata.read()\n",
    "\n",
    "\n",
    "\n",
    "# make loop to look over each line \n",
    "for line in csvdata: \n",
    "    column = line.rstrip(\"/n\").split(\",\") # need to remove the new line and the commas \n",
    "    species = column[0] # split up each column into a variable\n",
    "    sequence = column[1]\n",
    "    gene = column[2]\n",
    "    expression = column[3]\n",
    "     # print(species) check it works\n",
    "    if species == \"Drosophila melanogaster\" or species == \"Drosophila simulans\": # need to specify speacies twice \n",
    "        print(gene) # only line the if inside needs to be indented \n",
    "    "
   ]
  },
  {
   "cell_type": "code",
   "execution_count": null,
   "id": "d1fdd264-0909-4505-bb36-5e791b0b2721",
   "metadata": {},
   "outputs": [],
   "source": [
    "# Print out the gene names for all genes between 90 and 110 bases long"
   ]
  },
  {
   "cell_type": "code",
   "execution_count": 59,
   "id": "bb1ed05e-ed94-4083-b948-46b7e1326b56",
   "metadata": {},
   "outputs": [
    {
     "name": "stdout",
     "output_type": "stream",
     "text": [
      "atatatatatcgcgtatatatacgactatatgcattaattatagcatatcgatatatatatcgatattatatcgcattatacgcgcgtaattatatcgcgtaattacga\n",
      "actgtgacgtgtactgtacgactatcgatacgtagtactgatcgctactgtaatgcatccatgctgacgtatctaagt\n",
      "atcgatcatgtcgatcgatgatgcatccgactatcgtcgatcgtgatcgatcgatcgatcatcgatcgatgtcgatcatgtcgatatcgt\n",
      "cgcgcgctcgcgcatacggcctaatgcgcgcgctagcgatgc\n",
      "ttacgatcgatcgatcgatcgatcgtcgatcgtcgatgctacatcgatcatcatcggattagtcacatcgatcgatcatcgactgatcgtcgatcgtagatgctgacatcgatagca\n",
      "gcatcgatcgatcgcggcgcatcgatcgcgatcatcgatcatacgcgtcatatctatacgtcactgccgcgcgtatctacgcgatgactagctagact\n"
     ]
    }
   ],
   "source": [
    "csvdata = open(\"/Users/maggieschedl/Desktop/Github/Python_4_Biologists_Learning_Group/exercises_and_examples/conditional_tests/exercises/data.csv\")\n",
    "# I need to have the csvdata open in the same chunk or it won't run \n",
    "# why is that?\n",
    "\n",
    "for line in csvdata: \n",
    "    column = line.rstrip(\"/n\").split(\",\") # need to remove the new line and the commas \n",
    "    species = column[0] # split up each column into a variable\n",
    "    sequence = column[1]\n",
    "    gene = column[2]\n",
    "    expression = column[3]\n",
    "    genelen = len(sequence) # make a new variable for the sequence length \n",
    "    if genelen >= 90 or genelen <= 110:\n",
    "        print(sequence)"
   ]
  },
  {
   "cell_type": "code",
   "execution_count": null,
   "id": "7fd51989-ac70-42c7-a4d6-1fd77e4fa959",
   "metadata": {},
   "outputs": [],
   "source": [
    "# Print out the gene names for all genes whose AT content is less than 0.5 \n",
    "# and whose expression level is greater than 200"
   ]
  },
  {
   "cell_type": "code",
   "execution_count": 66,
   "id": "0069caf1-43ea-4dca-856f-aebe7629a52b",
   "metadata": {},
   "outputs": [
    {
     "name": "stdout",
     "output_type": "stream",
     "text": [
      "kdy647\n",
      "kdy533\n",
      "hdu045\n"
     ]
    }
   ],
   "source": [
    "csvdata = open(\"/Users/maggieschedl/Desktop/Github/Python_4_Biologists_Learning_Group/exercises_and_examples/conditional_tests/exercises/data.csv\")\n",
    "# I need to have the csvdata open in the same chunk or it won't run \n",
    "\n",
    "for line in csvdata: \n",
    "    column = line.rstrip(\"/n\").split(\",\") # need to remove the new line and the commas \n",
    "    species = column[0] # split up each column into a variable\n",
    "    sequence = column[1]\n",
    "    gene = column[2]\n",
    "    expression = column[3]\n",
    "    expression = int(expression) # make expression value into an integer)\n",
    "    genelen = len(sequence) # need the sequence length\n",
    "    A_count = sequence.upper().count(\"A\") # they really get you with the lowercase \n",
    "    T_count = sequence.upper().count(\"T\")\n",
    "    at_percent = (A_count + T_count) / genelen # calculate the AT percentage \n",
    "    if at_percent > 0.5 and expression > 200:\n",
    "        print(gene)"
   ]
  },
  {
   "cell_type": "code",
   "execution_count": null,
   "id": "bcfc8e5e-19c6-4853-93f3-466def78638a",
   "metadata": {},
   "outputs": [],
   "source": [
    "# Print out the gene names for all genes whose name begins with \"k\" or \"h\" \n",
    "# except those belonging to Drosophila melanogaster"
   ]
  },
  {
   "cell_type": "code",
   "execution_count": 67,
   "id": "d71aa43f-a37b-43af-af6b-eb5d43cf93aa",
   "metadata": {},
   "outputs": [
    {
     "name": "stdout",
     "output_type": "stream",
     "text": [
      "kdy647\n",
      "kdy533\n",
      "hdt739\n",
      "hdu045\n"
     ]
    }
   ],
   "source": [
    "csvdata = open(\"/Users/maggieschedl/Desktop/Github/Python_4_Biologists_Learning_Group/exercises_and_examples/conditional_tests/exercises/data.csv\")\n",
    "# I need to have the csvdata open in the same chunk or it won't run \n",
    "\n",
    "for line in csvdata: \n",
    "    column = line.rstrip(\"/n\").split(\",\") # need to remove the new line and the commas \n",
    "    species = column[0] # split up each column into a variable\n",
    "    sequence = column[1]\n",
    "    gene = column[2]\n",
    "    expression = column[3]\n",
    "    if gene.startswith(\"k\") or gene.startswith(\"h\") and not species == \"Drosophila melanogaster\":\n",
    "        print(gene)"
   ]
  },
  {
   "cell_type": "code",
   "execution_count": null,
   "id": "52e5c168-060e-4c88-8acc-da52c533bd27",
   "metadata": {},
   "outputs": [],
   "source": [
    "# For each gene, print out a message giving the gene name and saying whether its AT content is high \n",
    "# (greater than 0.65), low (less than 0.45) or medium (between 0.45 and 0.65)"
   ]
  },
  {
   "cell_type": "code",
   "execution_count": 68,
   "id": "acf2acc4-aec1-4e4a-9491-806c6eb49a76",
   "metadata": {},
   "outputs": [
    {
     "name": "stdout",
     "output_type": "stream",
     "text": [
      "genekdy647has high AT content\n"
     ]
    }
   ],
   "source": [
    "csvdata = open(\"/Users/maggieschedl/Desktop/Github/Python_4_Biologists_Learning_Group/exercises_and_examples/conditional_tests/exercises/data.csv\")\n",
    "# I need to have the csvdata open in the same chunk or it won't run \n",
    "\n",
    "for line in csvdata: \n",
    "    column = line.rstrip(\"/n\").split(\",\") # need to remove the new line and the commas \n",
    "    species = column[0] # split up each column into a variable\n",
    "    sequence = column[1]\n",
    "    gene = column[2]\n",
    "    expression = column[3]\n",
    "    genelen = len(sequence) # need the sequence length\n",
    "    A_count = sequence.upper().count(\"A\") # they really get you with the lowercase \n",
    "    T_count = sequence.upper().count(\"T\")\n",
    "    at_percent = (A_count + T_count) / genelen # calculate the AT percentage \n",
    "    if at_percent > 0.65:\n",
    "        print(\"gene \" + gene + \"has high AT content\")\n",
    "    elif at_percent < 0.45:\n",
    "        print(\"gene \" + gene + \"has low AT content\")\n",
    "    elif at_percent > 0.45 and at_percent < 0."
   ]
  }
 ],
 "metadata": {
  "kernelspec": {
   "display_name": "Python 3 (ipykernel)",
   "language": "python",
   "name": "python3"
  },
  "language_info": {
   "codemirror_mode": {
    "name": "ipython",
    "version": 3
   },
   "file_extension": ".py",
   "mimetype": "text/x-python",
   "name": "python",
   "nbconvert_exporter": "python",
   "pygments_lexer": "ipython3",
   "version": "3.9.12"
  }
 },
 "nbformat": 4,
 "nbformat_minor": 5
}
